{
 "cells": [
  {
   "cell_type": "code",
   "id": "initial_id",
   "metadata": {
    "collapsed": true,
    "ExecuteTime": {
     "end_time": "2025-01-12T12:16:29.445082Z",
     "start_time": "2025-01-12T12:16:28.542320Z"
    }
   },
   "source": [
    "import seaborn as sns\n",
    "import matplotlib.pyplot as plt\n",
    "import polars as pl\n",
    "import polars.selectors as cs\n",
    "import altair as alt\n",
    "import plotly.express as px\n",
    "import plotly.graph_objects as go\n",
    "import great_tables as tg\n",
    "import datetime as dt\n",
    "import numpy as np\n",
    "from decouple import Config, RepositoryEnv"
   ],
   "outputs": [],
   "execution_count": 2
  },
  {
   "metadata": {
    "ExecuteTime": {
     "end_time": "2025-01-12T12:16:29.452381Z",
     "start_time": "2025-01-12T12:16:29.449717Z"
    }
   },
   "cell_type": "code",
   "source": "df_path = r\"F:\\Datasets\\CSV datasets\\credit_card_transactions.csv\"",
   "id": "4d3f645cd0bb53ea",
   "outputs": [],
   "execution_count": 3
  },
  {
   "metadata": {
    "ExecuteTime": {
     "end_time": "2025-01-12T12:16:30.382036Z",
     "start_time": "2025-01-12T12:16:29.466399Z"
    }
   },
   "cell_type": "code",
   "source": "df = pl.read_csv(df_path, try_parse_dates=True, infer_schema=True, batch_size=50_000)",
   "id": "4bf16e60a2ab5e2f",
   "outputs": [],
   "execution_count": 4
  },
  {
   "metadata": {
    "ExecuteTime": {
     "end_time": "2025-01-12T12:16:30.406769Z",
     "start_time": "2025-01-12T12:16:30.391947Z"
    }
   },
   "cell_type": "code",
   "source": [
    "df = df.rename({\n",
    "    'Unnamed: 0': 'user_id',\n",
    "    'cc_num': 'credit_card_number',\n",
    "    'merchant': 'merchant_name',\n",
    "    'category': 'transaction_category',\n",
    "    'amt': 'transaction_amount',\n",
    "    'first': 'first_name',\n",
    "    'last': 'last_name',\n",
    "    'street': 'street_address',\n",
    "    'zip': 'zip_code',\n",
    "    'lat': 'latitude',\n",
    "    'long': 'longitude',\n",
    "    'city_pop': 'city_population',\n",
    "    'dob': 'date_of_birth',\n",
    "    'trans_num': 'transaction_number',\n",
    "    'unix_time': 'unix_timestamp',\n",
    "    'merch_lat': 'merchant_latitude',\n",
    "    'merch_long': 'merchant_longitude'\n",
    "})"
   ],
   "id": "531a523023e47108",
   "outputs": [],
   "execution_count": 5
  },
  {
   "metadata": {
    "ExecuteTime": {
     "end_time": "2025-01-12T12:16:30.423329Z",
     "start_time": "2025-01-12T12:16:30.415197Z"
    }
   },
   "cell_type": "code",
   "source": "df.null_count()",
   "id": "ee97ddd7e7dfeaf4",
   "outputs": [
    {
     "data": {
      "text/plain": [
       "shape: (1, 24)\n",
       "┌─────────┬────────────┬────────────┬───────────┬───┬───────────┬───────────┬──────────┬───────────┐\n",
       "│ user_id ┆ trans_date ┆ credit_car ┆ merchant_ ┆ … ┆ merchant_ ┆ merchant_ ┆ is_fraud ┆ merch_zip │\n",
       "│ ---     ┆ _trans_tim ┆ d_number   ┆ name      ┆   ┆ latitude  ┆ longitude ┆ ---      ┆ code      │\n",
       "│ u32     ┆ e          ┆ ---        ┆ ---       ┆   ┆ ---       ┆ ---       ┆ u32      ┆ ---       │\n",
       "│         ┆ ---        ┆ u32        ┆ u32       ┆   ┆ u32       ┆ u32       ┆          ┆ u32       │\n",
       "│         ┆ u32        ┆            ┆           ┆   ┆           ┆           ┆          ┆           │\n",
       "╞═════════╪════════════╪════════════╪═══════════╪═══╪═══════════╪═══════════╪══════════╪═══════════╡\n",
       "│ 0       ┆ 0          ┆ 0          ┆ 0         ┆ … ┆ 0         ┆ 0         ┆ 0        ┆ 195973    │\n",
       "└─────────┴────────────┴────────────┴───────────┴───┴───────────┴───────────┴──────────┴───────────┘"
      ],
      "text/html": [
       "<div><style>\n",
       ".dataframe > thead > tr,\n",
       ".dataframe > tbody > tr {\n",
       "  text-align: right;\n",
       "  white-space: pre-wrap;\n",
       "}\n",
       "</style>\n",
       "<small>shape: (1, 24)</small><table border=\"1\" class=\"dataframe\"><thead><tr><th>user_id</th><th>trans_date_trans_time</th><th>credit_card_number</th><th>merchant_name</th><th>transaction_category</th><th>transaction_amount</th><th>first_name</th><th>last_name</th><th>gender</th><th>street_address</th><th>city</th><th>state</th><th>zip_code</th><th>latitude</th><th>longitude</th><th>city_population</th><th>job</th><th>date_of_birth</th><th>transaction_number</th><th>unix_timestamp</th><th>merchant_latitude</th><th>merchant_longitude</th><th>is_fraud</th><th>merch_zipcode</th></tr><tr><td>u32</td><td>u32</td><td>u32</td><td>u32</td><td>u32</td><td>u32</td><td>u32</td><td>u32</td><td>u32</td><td>u32</td><td>u32</td><td>u32</td><td>u32</td><td>u32</td><td>u32</td><td>u32</td><td>u32</td><td>u32</td><td>u32</td><td>u32</td><td>u32</td><td>u32</td><td>u32</td><td>u32</td></tr></thead><tbody><tr><td>0</td><td>0</td><td>0</td><td>0</td><td>0</td><td>0</td><td>0</td><td>0</td><td>0</td><td>0</td><td>0</td><td>0</td><td>0</td><td>0</td><td>0</td><td>0</td><td>0</td><td>0</td><td>0</td><td>0</td><td>0</td><td>0</td><td>0</td><td>195973</td></tr></tbody></table></div>"
      ]
     },
     "execution_count": 6,
     "metadata": {},
     "output_type": "execute_result"
    }
   ],
   "execution_count": 6
  },
  {
   "metadata": {
    "ExecuteTime": {
     "end_time": "2025-01-12T12:16:30.580021Z",
     "start_time": "2025-01-12T12:16:30.556919Z"
    }
   },
   "cell_type": "code",
   "source": "df['merch_zipcode'].drop_nulls().count()",
   "id": "28f0f5d9dd1c231",
   "outputs": [
    {
     "data": {
      "text/plain": [
       "1100702"
      ]
     },
     "execution_count": 7,
     "metadata": {},
     "output_type": "execute_result"
    }
   ],
   "execution_count": 7
  },
  {
   "metadata": {
    "ExecuteTime": {
     "end_time": "2025-01-12T12:16:30.605899Z",
     "start_time": "2025-01-12T12:16:30.602737Z"
    }
   },
   "cell_type": "code",
   "source": "df['merch_zipcode'].null_count()",
   "id": "c4a377f117658347",
   "outputs": [
    {
     "data": {
      "text/plain": [
       "195973"
      ]
     },
     "execution_count": 8,
     "metadata": {},
     "output_type": "execute_result"
    }
   ],
   "execution_count": 8
  },
  {
   "metadata": {
    "ExecuteTime": {
     "end_time": "2025-01-12T12:16:30.705285Z",
     "start_time": "2025-01-12T12:16:30.682950Z"
    }
   },
   "cell_type": "code",
   "source": [
    "df = df.with_columns(\n",
    "    pl.col('merch_zipcode').fill_null(-1)\n",
    ")"
   ],
   "id": "a91d2464da4082dd",
   "outputs": [],
   "execution_count": 9
  },
  {
   "metadata": {
    "ExecuteTime": {
     "end_time": "2025-01-12T12:16:30.772021Z",
     "start_time": "2025-01-12T12:16:30.766473Z"
    }
   },
   "cell_type": "code",
   "source": "df",
   "id": "cb1710d52deb57f8",
   "outputs": [
    {
     "data": {
      "text/plain": [
       "shape: (1_296_675, 24)\n",
       "┌─────────┬────────────┬────────────┬───────────┬───┬───────────┬───────────┬──────────┬───────────┐\n",
       "│ user_id ┆ trans_date ┆ credit_car ┆ merchant_ ┆ … ┆ merchant_ ┆ merchant_ ┆ is_fraud ┆ merch_zip │\n",
       "│ ---     ┆ _trans_tim ┆ d_number   ┆ name      ┆   ┆ latitude  ┆ longitude ┆ ---      ┆ code      │\n",
       "│ i64     ┆ e          ┆ ---        ┆ ---       ┆   ┆ ---       ┆ ---       ┆ i64      ┆ ---       │\n",
       "│         ┆ ---        ┆ i64        ┆ str       ┆   ┆ f64       ┆ f64       ┆          ┆ i64       │\n",
       "│         ┆ datetime[μ ┆            ┆           ┆   ┆           ┆           ┆          ┆           │\n",
       "│         ┆ s]         ┆            ┆           ┆   ┆           ┆           ┆          ┆           │\n",
       "╞═════════╪════════════╪════════════╪═══════════╪═══╪═══════════╪═══════════╪══════════╪═══════════╡\n",
       "│ 0       ┆ 2019-01-01 ┆ 2703186189 ┆ fraud_Rip ┆ … ┆ 36.011293 ┆ -82.04831 ┆ 0        ┆ 28705     │\n",
       "│         ┆ 00:00:18   ┆ 652095     ┆ pin, Kub  ┆   ┆           ┆ 5         ┆          ┆           │\n",
       "│         ┆            ┆            ┆ and Mann  ┆   ┆           ┆           ┆          ┆           │\n",
       "│ 1       ┆ 2019-01-01 ┆ 6304233373 ┆ fraud_Hel ┆ … ┆ 49.159047 ┆ -118.1864 ┆ 0        ┆ -1        │\n",
       "│         ┆ 00:00:44   ┆ 22         ┆ ler,      ┆   ┆           ┆ 62        ┆          ┆           │\n",
       "│         ┆            ┆            ┆ Gutmann   ┆   ┆           ┆           ┆          ┆           │\n",
       "│         ┆            ┆            ┆ and Ziem… ┆   ┆           ┆           ┆          ┆           │\n",
       "│ 2       ┆ 2019-01-01 ┆ 3885949205 ┆ fraud_Lin ┆ … ┆ 43.150704 ┆ -112.1544 ┆ 0        ┆ 83236     │\n",
       "│         ┆ 00:00:51   ┆ 7661       ┆ d-Buckrid ┆   ┆           ┆ 81        ┆          ┆           │\n",
       "│         ┆            ┆            ┆ ge        ┆   ┆           ┆           ┆          ┆           │\n",
       "│ 3       ┆ 2019-01-01 ┆ 3534093764 ┆ fraud_Kut ┆ … ┆ 47.034331 ┆ -112.5610 ┆ 0        ┆ -1        │\n",
       "│         ┆ 00:01:16   ┆ 340240     ┆ ch,       ┆   ┆           ┆ 71        ┆          ┆           │\n",
       "│         ┆            ┆            ┆ Hermiston ┆   ┆           ┆           ┆          ┆           │\n",
       "│         ┆            ┆            ┆ and Far…  ┆   ┆           ┆           ┆          ┆           │\n",
       "│ 4       ┆ 2019-01-01 ┆ 3755342086 ┆ fraud_Kee ┆ … ┆ 38.674999 ┆ -78.63245 ┆ 0        ┆ 22844     │\n",
       "│         ┆ 00:03:06   ┆ 63984      ┆ ling-Cris ┆   ┆           ┆ 9         ┆          ┆           │\n",
       "│         ┆            ┆            ┆ t         ┆   ┆           ┆           ┆          ┆           │\n",
       "│ …       ┆ …          ┆ …          ┆ …         ┆ … ┆ …         ┆ …         ┆ …        ┆ …         │\n",
       "│ 1296670 ┆ 2020-06-21 ┆ 3026354041 ┆ fraud_Rei ┆ … ┆ 36.841266 ┆ -111.6907 ┆ 0        ┆ -1        │\n",
       "│         ┆ 12:12:08   ┆ 4123       ┆ chel Inc  ┆   ┆           ┆ 65        ┆          ┆           │\n",
       "│ 1296671 ┆ 2020-06-21 ┆ 6011149206 ┆ fraud_Abe ┆ … ┆ 38.906881 ┆ -78.24652 ┆ 0        ┆ 22630     │\n",
       "│         ┆ 12:12:19   ┆ 456997     ┆ rnathy    ┆   ┆           ┆ 8         ┆          ┆           │\n",
       "│         ┆            ┆            ┆ and Sons  ┆   ┆           ┆           ┆          ┆           │\n",
       "│ 1296672 ┆ 2020-06-21 ┆ 3514865930 ┆ fraud_Sti ┆ … ┆ 33.619513 ┆ -105.1305 ┆ 0        ┆ 88351     │\n",
       "│         ┆ 12:12:32   ┆ 894695     ┆ edemann   ┆   ┆           ┆ 29        ┆          ┆           │\n",
       "│         ┆            ┆            ┆ Ltd       ┆   ┆           ┆           ┆          ┆           │\n",
       "│ 1296673 ┆ 2020-06-21 ┆ 2720012583 ┆ fraud_Rei ┆ … ┆ 42.78894  ┆ -103.2411 ┆ 0        ┆ 69367     │\n",
       "│         ┆ 12:13:36   ┆ 106919     ┆ nger,     ┆   ┆           ┆ 6         ┆          ┆           │\n",
       "│         ┆            ┆            ┆ Weissnat  ┆   ┆           ┆           ┆          ┆           │\n",
       "│         ┆            ┆            ┆ and St…   ┆   ┆           ┆           ┆          ┆           │\n",
       "│ 1296674 ┆ 2020-06-21 ┆ 4292902571 ┆ fraud_Lan ┆ … ┆ 46.565983 ┆ -114.1861 ┆ 0        ┆ 59870     │\n",
       "│         ┆ 12:13:37   ┆ 056973207  ┆ gosh, Win ┆   ┆           ┆ 1         ┆          ┆           │\n",
       "│         ┆            ┆            ┆ theiser   ┆   ┆           ┆           ┆          ┆           │\n",
       "│         ┆            ┆            ┆ and …     ┆   ┆           ┆           ┆          ┆           │\n",
       "└─────────┴────────────┴────────────┴───────────┴───┴───────────┴───────────┴──────────┴───────────┘"
      ],
      "text/html": [
       "<div><style>\n",
       ".dataframe > thead > tr,\n",
       ".dataframe > tbody > tr {\n",
       "  text-align: right;\n",
       "  white-space: pre-wrap;\n",
       "}\n",
       "</style>\n",
       "<small>shape: (1_296_675, 24)</small><table border=\"1\" class=\"dataframe\"><thead><tr><th>user_id</th><th>trans_date_trans_time</th><th>credit_card_number</th><th>merchant_name</th><th>transaction_category</th><th>transaction_amount</th><th>first_name</th><th>last_name</th><th>gender</th><th>street_address</th><th>city</th><th>state</th><th>zip_code</th><th>latitude</th><th>longitude</th><th>city_population</th><th>job</th><th>date_of_birth</th><th>transaction_number</th><th>unix_timestamp</th><th>merchant_latitude</th><th>merchant_longitude</th><th>is_fraud</th><th>merch_zipcode</th></tr><tr><td>i64</td><td>datetime[μs]</td><td>i64</td><td>str</td><td>str</td><td>f64</td><td>str</td><td>str</td><td>str</td><td>str</td><td>str</td><td>str</td><td>i64</td><td>f64</td><td>f64</td><td>i64</td><td>str</td><td>date</td><td>str</td><td>i64</td><td>f64</td><td>f64</td><td>i64</td><td>i64</td></tr></thead><tbody><tr><td>0</td><td>2019-01-01 00:00:18</td><td>2703186189652095</td><td>&quot;fraud_Rippin, Kub and Mann&quot;</td><td>&quot;misc_net&quot;</td><td>4.97</td><td>&quot;Jennifer&quot;</td><td>&quot;Banks&quot;</td><td>&quot;F&quot;</td><td>&quot;561 Perry Cove&quot;</td><td>&quot;Moravian Falls&quot;</td><td>&quot;NC&quot;</td><td>28654</td><td>36.0788</td><td>-81.1781</td><td>3495</td><td>&quot;Psychologist, counselling&quot;</td><td>1988-03-09</td><td>&quot;0b242abb623afc578575680df30655…</td><td>1325376018</td><td>36.011293</td><td>-82.048315</td><td>0</td><td>28705</td></tr><tr><td>1</td><td>2019-01-01 00:00:44</td><td>630423337322</td><td>&quot;fraud_Heller, Gutmann and Ziem…</td><td>&quot;grocery_pos&quot;</td><td>107.23</td><td>&quot;Stephanie&quot;</td><td>&quot;Gill&quot;</td><td>&quot;F&quot;</td><td>&quot;43039 Riley Greens Suite 393&quot;</td><td>&quot;Orient&quot;</td><td>&quot;WA&quot;</td><td>99160</td><td>48.8878</td><td>-118.2105</td><td>149</td><td>&quot;Special educational needs teac…</td><td>1978-06-21</td><td>&quot;1f76529f8574734946361c461b024d…</td><td>1325376044</td><td>49.159047</td><td>-118.186462</td><td>0</td><td>-1</td></tr><tr><td>2</td><td>2019-01-01 00:00:51</td><td>38859492057661</td><td>&quot;fraud_Lind-Buckridge&quot;</td><td>&quot;entertainment&quot;</td><td>220.11</td><td>&quot;Edward&quot;</td><td>&quot;Sanchez&quot;</td><td>&quot;M&quot;</td><td>&quot;594 White Dale Suite 530&quot;</td><td>&quot;Malad City&quot;</td><td>&quot;ID&quot;</td><td>83252</td><td>42.1808</td><td>-112.262</td><td>4154</td><td>&quot;Nature conservation officer&quot;</td><td>1962-01-19</td><td>&quot;a1a22d70485983eac12b5b88dad1cf…</td><td>1325376051</td><td>43.150704</td><td>-112.154481</td><td>0</td><td>83236</td></tr><tr><td>3</td><td>2019-01-01 00:01:16</td><td>3534093764340240</td><td>&quot;fraud_Kutch, Hermiston and Far…</td><td>&quot;gas_transport&quot;</td><td>45.0</td><td>&quot;Jeremy&quot;</td><td>&quot;White&quot;</td><td>&quot;M&quot;</td><td>&quot;9443 Cynthia Court Apt. 038&quot;</td><td>&quot;Boulder&quot;</td><td>&quot;MT&quot;</td><td>59632</td><td>46.2306</td><td>-112.1138</td><td>1939</td><td>&quot;Patent attorney&quot;</td><td>1967-01-12</td><td>&quot;6b849c168bdad6f867558c3793159a…</td><td>1325376076</td><td>47.034331</td><td>-112.561071</td><td>0</td><td>-1</td></tr><tr><td>4</td><td>2019-01-01 00:03:06</td><td>375534208663984</td><td>&quot;fraud_Keeling-Crist&quot;</td><td>&quot;misc_pos&quot;</td><td>41.96</td><td>&quot;Tyler&quot;</td><td>&quot;Garcia&quot;</td><td>&quot;M&quot;</td><td>&quot;408 Bradley Rest&quot;</td><td>&quot;Doe Hill&quot;</td><td>&quot;VA&quot;</td><td>24433</td><td>38.4207</td><td>-79.4629</td><td>99</td><td>&quot;Dance movement psychotherapist&quot;</td><td>1986-03-28</td><td>&quot;a41d7549acf90789359a9aa5346dcb…</td><td>1325376186</td><td>38.674999</td><td>-78.632459</td><td>0</td><td>22844</td></tr><tr><td>&hellip;</td><td>&hellip;</td><td>&hellip;</td><td>&hellip;</td><td>&hellip;</td><td>&hellip;</td><td>&hellip;</td><td>&hellip;</td><td>&hellip;</td><td>&hellip;</td><td>&hellip;</td><td>&hellip;</td><td>&hellip;</td><td>&hellip;</td><td>&hellip;</td><td>&hellip;</td><td>&hellip;</td><td>&hellip;</td><td>&hellip;</td><td>&hellip;</td><td>&hellip;</td><td>&hellip;</td><td>&hellip;</td><td>&hellip;</td></tr><tr><td>1296670</td><td>2020-06-21 12:12:08</td><td>30263540414123</td><td>&quot;fraud_Reichel Inc&quot;</td><td>&quot;entertainment&quot;</td><td>15.56</td><td>&quot;Erik&quot;</td><td>&quot;Patterson&quot;</td><td>&quot;M&quot;</td><td>&quot;162 Jessica Row Apt. 072&quot;</td><td>&quot;Hatch&quot;</td><td>&quot;UT&quot;</td><td>84735</td><td>37.7175</td><td>-112.4777</td><td>258</td><td>&quot;Geoscientist&quot;</td><td>1961-11-24</td><td>&quot;440b587732da4dc1a6395aba5fb416…</td><td>1371816728</td><td>36.841266</td><td>-111.690765</td><td>0</td><td>-1</td></tr><tr><td>1296671</td><td>2020-06-21 12:12:19</td><td>6011149206456997</td><td>&quot;fraud_Abernathy and Sons&quot;</td><td>&quot;food_dining&quot;</td><td>51.7</td><td>&quot;Jeffrey&quot;</td><td>&quot;White&quot;</td><td>&quot;M&quot;</td><td>&quot;8617 Holmes Terrace Suite 651&quot;</td><td>&quot;Tuscarora&quot;</td><td>&quot;MD&quot;</td><td>21790</td><td>39.2667</td><td>-77.5101</td><td>100</td><td>&quot;Production assistant, televisi…</td><td>1979-12-11</td><td>&quot;278000d2e0d2277d1de2f890067dcc…</td><td>1371816739</td><td>38.906881</td><td>-78.246528</td><td>0</td><td>22630</td></tr><tr><td>1296672</td><td>2020-06-21 12:12:32</td><td>3514865930894695</td><td>&quot;fraud_Stiedemann Ltd&quot;</td><td>&quot;food_dining&quot;</td><td>105.93</td><td>&quot;Christopher&quot;</td><td>&quot;Castaneda&quot;</td><td>&quot;M&quot;</td><td>&quot;1632 Cohen Drive Suite 639&quot;</td><td>&quot;High Rolls Mountain Park&quot;</td><td>&quot;NM&quot;</td><td>88325</td><td>32.9396</td><td>-105.8189</td><td>899</td><td>&quot;Naval architect&quot;</td><td>1967-08-30</td><td>&quot;483f52fe67fabef353d552c1e66297…</td><td>1371816752</td><td>33.619513</td><td>-105.130529</td><td>0</td><td>88351</td></tr><tr><td>1296673</td><td>2020-06-21 12:13:36</td><td>2720012583106919</td><td>&quot;fraud_Reinger, Weissnat and St…</td><td>&quot;food_dining&quot;</td><td>74.9</td><td>&quot;Joseph&quot;</td><td>&quot;Murray&quot;</td><td>&quot;M&quot;</td><td>&quot;42933 Ryan Underpass&quot;</td><td>&quot;Manderson&quot;</td><td>&quot;SD&quot;</td><td>57756</td><td>43.3526</td><td>-102.5411</td><td>1126</td><td>&quot;Volunteer coordinator&quot;</td><td>1980-08-18</td><td>&quot;d667cdcbadaaed3da3f4020e83591c…</td><td>1371816816</td><td>42.78894</td><td>-103.24116</td><td>0</td><td>69367</td></tr><tr><td>1296674</td><td>2020-06-21 12:13:37</td><td>4292902571056973207</td><td>&quot;fraud_Langosh, Wintheiser and …</td><td>&quot;food_dining&quot;</td><td>4.3</td><td>&quot;Jeffrey&quot;</td><td>&quot;Smith&quot;</td><td>&quot;M&quot;</td><td>&quot;135 Joseph Mountains&quot;</td><td>&quot;Sula&quot;</td><td>&quot;MT&quot;</td><td>59871</td><td>45.8433</td><td>-113.8748</td><td>218</td><td>&quot;Therapist, horticultural&quot;</td><td>1995-08-16</td><td>&quot;8f7c8e4ab7f25875d753b422917c98…</td><td>1371816817</td><td>46.565983</td><td>-114.18611</td><td>0</td><td>59870</td></tr></tbody></table></div>"
      ]
     },
     "execution_count": 10,
     "metadata": {},
     "output_type": "execute_result"
    }
   ],
   "execution_count": 10
  },
  {
   "metadata": {
    "ExecuteTime": {
     "end_time": "2025-01-12T12:16:30.979739Z",
     "start_time": "2025-01-12T12:16:30.976838Z"
    }
   },
   "cell_type": "code",
   "source": [
    "env_path = \"F:/DataSpell/scikit-learn_training/.env\"\n",
    "config = Config(RepositoryEnv(env_path))\n",
    "mapbox_key = config(\"MAPBOX_API_KEY\")\n",
    "px.set_mapbox_access_token(mapbox_key)"
   ],
   "id": "d6fd7c803801dfff",
   "outputs": [],
   "execution_count": 11
  },
  {
   "metadata": {
    "ExecuteTime": {
     "end_time": "2025-01-12T12:16:31.844664Z",
     "start_time": "2025-01-12T12:16:31.027803Z"
    }
   },
   "cell_type": "code",
   "source": [
    "limited_df = df.head(50000)\n",
    "\n",
    "fig = px.scatter_mapbox(\n",
    "    limited_df,\n",
    "    lat='latitude',\n",
    "    lon='longitude',\n",
    "    color='transaction_category',\n",
    "    zoom=10,\n",
    "    height=600\n",
    ")\n",
    "\n",
    "fig.write_html(r'F:\\DataSpell\\scikit-learn_training\\credit_card_fraud_detection\\map.html')"
   ],
   "id": "7a38daa5567d2279",
   "outputs": [],
   "execution_count": 12
  },
  {
   "metadata": {
    "ExecuteTime": {
     "end_time": "2025-01-12T12:16:31.981280Z",
     "start_time": "2025-01-12T12:16:31.953634Z"
    }
   },
   "cell_type": "code",
   "source": [
    "transaction_timestamp = df.select(\n",
    "    pl.col('trans_date_trans_time').dt.year().alias('transaction_year'),\n",
    "    pl.col('trans_date_trans_time').dt.month().alias('transaction_month'),\n",
    "    pl.col('trans_date_trans_time').dt.day().alias('transaction_day'),\n",
    "    pl.col('trans_date_trans_time').dt.hour().alias('transaction_hour'),\n",
    "    pl.col('trans_date_trans_time').dt.minute().alias('transaction_minute'),\n",
    "    pl.col('trans_date_trans_time').dt.second().alias('transaction_second'),\n",
    ")\n",
    "\n",
    "df.insert_column(2, transaction_timestamp['transaction_year'])\n",
    "df.insert_column(3, transaction_timestamp['transaction_month'])\n",
    "df.insert_column(4, transaction_timestamp['transaction_day'])\n",
    "df.insert_column(5, transaction_timestamp['transaction_hour'])\n",
    "df.insert_column(6, transaction_timestamp['transaction_minute'])\n",
    "df.insert_column(7, transaction_timestamp['transaction_second'])"
   ],
   "id": "4d37883159920ca5",
   "outputs": [
    {
     "data": {
      "text/plain": [
       "shape: (1_296_675, 30)\n",
       "┌─────────┬────────────┬────────────┬───────────┬───┬───────────┬───────────┬──────────┬───────────┐\n",
       "│ user_id ┆ trans_date ┆ transactio ┆ transacti ┆ … ┆ merchant_ ┆ merchant_ ┆ is_fraud ┆ merch_zip │\n",
       "│ ---     ┆ _trans_tim ┆ n_year     ┆ on_month  ┆   ┆ latitude  ┆ longitude ┆ ---      ┆ code      │\n",
       "│ i64     ┆ e          ┆ ---        ┆ ---       ┆   ┆ ---       ┆ ---       ┆ i64      ┆ ---       │\n",
       "│         ┆ ---        ┆ i32        ┆ i8        ┆   ┆ f64       ┆ f64       ┆          ┆ i64       │\n",
       "│         ┆ datetime[μ ┆            ┆           ┆   ┆           ┆           ┆          ┆           │\n",
       "│         ┆ s]         ┆            ┆           ┆   ┆           ┆           ┆          ┆           │\n",
       "╞═════════╪════════════╪════════════╪═══════════╪═══╪═══════════╪═══════════╪══════════╪═══════════╡\n",
       "│ 0       ┆ 2019-01-01 ┆ 2019       ┆ 1         ┆ … ┆ 36.011293 ┆ -82.04831 ┆ 0        ┆ 28705     │\n",
       "│         ┆ 00:00:18   ┆            ┆           ┆   ┆           ┆ 5         ┆          ┆           │\n",
       "│ 1       ┆ 2019-01-01 ┆ 2019       ┆ 1         ┆ … ┆ 49.159047 ┆ -118.1864 ┆ 0        ┆ -1        │\n",
       "│         ┆ 00:00:44   ┆            ┆           ┆   ┆           ┆ 62        ┆          ┆           │\n",
       "│ 2       ┆ 2019-01-01 ┆ 2019       ┆ 1         ┆ … ┆ 43.150704 ┆ -112.1544 ┆ 0        ┆ 83236     │\n",
       "│         ┆ 00:00:51   ┆            ┆           ┆   ┆           ┆ 81        ┆          ┆           │\n",
       "│ 3       ┆ 2019-01-01 ┆ 2019       ┆ 1         ┆ … ┆ 47.034331 ┆ -112.5610 ┆ 0        ┆ -1        │\n",
       "│         ┆ 00:01:16   ┆            ┆           ┆   ┆           ┆ 71        ┆          ┆           │\n",
       "│ 4       ┆ 2019-01-01 ┆ 2019       ┆ 1         ┆ … ┆ 38.674999 ┆ -78.63245 ┆ 0        ┆ 22844     │\n",
       "│         ┆ 00:03:06   ┆            ┆           ┆   ┆           ┆ 9         ┆          ┆           │\n",
       "│ …       ┆ …          ┆ …          ┆ …         ┆ … ┆ …         ┆ …         ┆ …        ┆ …         │\n",
       "│ 1296670 ┆ 2020-06-21 ┆ 2020       ┆ 6         ┆ … ┆ 36.841266 ┆ -111.6907 ┆ 0        ┆ -1        │\n",
       "│         ┆ 12:12:08   ┆            ┆           ┆   ┆           ┆ 65        ┆          ┆           │\n",
       "│ 1296671 ┆ 2020-06-21 ┆ 2020       ┆ 6         ┆ … ┆ 38.906881 ┆ -78.24652 ┆ 0        ┆ 22630     │\n",
       "│         ┆ 12:12:19   ┆            ┆           ┆   ┆           ┆ 8         ┆          ┆           │\n",
       "│ 1296672 ┆ 2020-06-21 ┆ 2020       ┆ 6         ┆ … ┆ 33.619513 ┆ -105.1305 ┆ 0        ┆ 88351     │\n",
       "│         ┆ 12:12:32   ┆            ┆           ┆   ┆           ┆ 29        ┆          ┆           │\n",
       "│ 1296673 ┆ 2020-06-21 ┆ 2020       ┆ 6         ┆ … ┆ 42.78894  ┆ -103.2411 ┆ 0        ┆ 69367     │\n",
       "│         ┆ 12:13:36   ┆            ┆           ┆   ┆           ┆ 6         ┆          ┆           │\n",
       "│ 1296674 ┆ 2020-06-21 ┆ 2020       ┆ 6         ┆ … ┆ 46.565983 ┆ -114.1861 ┆ 0        ┆ 59870     │\n",
       "│         ┆ 12:13:37   ┆            ┆           ┆   ┆           ┆ 1         ┆          ┆           │\n",
       "└─────────┴────────────┴────────────┴───────────┴───┴───────────┴───────────┴──────────┴───────────┘"
      ],
      "text/html": [
       "<div><style>\n",
       ".dataframe > thead > tr,\n",
       ".dataframe > tbody > tr {\n",
       "  text-align: right;\n",
       "  white-space: pre-wrap;\n",
       "}\n",
       "</style>\n",
       "<small>shape: (1_296_675, 30)</small><table border=\"1\" class=\"dataframe\"><thead><tr><th>user_id</th><th>trans_date_trans_time</th><th>transaction_year</th><th>transaction_month</th><th>transaction_day</th><th>transaction_hour</th><th>transaction_minute</th><th>transaction_second</th><th>credit_card_number</th><th>merchant_name</th><th>transaction_category</th><th>transaction_amount</th><th>first_name</th><th>last_name</th><th>gender</th><th>street_address</th><th>city</th><th>state</th><th>zip_code</th><th>latitude</th><th>longitude</th><th>city_population</th><th>job</th><th>date_of_birth</th><th>transaction_number</th><th>unix_timestamp</th><th>merchant_latitude</th><th>merchant_longitude</th><th>is_fraud</th><th>merch_zipcode</th></tr><tr><td>i64</td><td>datetime[μs]</td><td>i32</td><td>i8</td><td>i8</td><td>i8</td><td>i8</td><td>i8</td><td>i64</td><td>str</td><td>str</td><td>f64</td><td>str</td><td>str</td><td>str</td><td>str</td><td>str</td><td>str</td><td>i64</td><td>f64</td><td>f64</td><td>i64</td><td>str</td><td>date</td><td>str</td><td>i64</td><td>f64</td><td>f64</td><td>i64</td><td>i64</td></tr></thead><tbody><tr><td>0</td><td>2019-01-01 00:00:18</td><td>2019</td><td>1</td><td>1</td><td>0</td><td>0</td><td>18</td><td>2703186189652095</td><td>&quot;fraud_Rippin, Kub and Mann&quot;</td><td>&quot;misc_net&quot;</td><td>4.97</td><td>&quot;Jennifer&quot;</td><td>&quot;Banks&quot;</td><td>&quot;F&quot;</td><td>&quot;561 Perry Cove&quot;</td><td>&quot;Moravian Falls&quot;</td><td>&quot;NC&quot;</td><td>28654</td><td>36.0788</td><td>-81.1781</td><td>3495</td><td>&quot;Psychologist, counselling&quot;</td><td>1988-03-09</td><td>&quot;0b242abb623afc578575680df30655…</td><td>1325376018</td><td>36.011293</td><td>-82.048315</td><td>0</td><td>28705</td></tr><tr><td>1</td><td>2019-01-01 00:00:44</td><td>2019</td><td>1</td><td>1</td><td>0</td><td>0</td><td>44</td><td>630423337322</td><td>&quot;fraud_Heller, Gutmann and Ziem…</td><td>&quot;grocery_pos&quot;</td><td>107.23</td><td>&quot;Stephanie&quot;</td><td>&quot;Gill&quot;</td><td>&quot;F&quot;</td><td>&quot;43039 Riley Greens Suite 393&quot;</td><td>&quot;Orient&quot;</td><td>&quot;WA&quot;</td><td>99160</td><td>48.8878</td><td>-118.2105</td><td>149</td><td>&quot;Special educational needs teac…</td><td>1978-06-21</td><td>&quot;1f76529f8574734946361c461b024d…</td><td>1325376044</td><td>49.159047</td><td>-118.186462</td><td>0</td><td>-1</td></tr><tr><td>2</td><td>2019-01-01 00:00:51</td><td>2019</td><td>1</td><td>1</td><td>0</td><td>0</td><td>51</td><td>38859492057661</td><td>&quot;fraud_Lind-Buckridge&quot;</td><td>&quot;entertainment&quot;</td><td>220.11</td><td>&quot;Edward&quot;</td><td>&quot;Sanchez&quot;</td><td>&quot;M&quot;</td><td>&quot;594 White Dale Suite 530&quot;</td><td>&quot;Malad City&quot;</td><td>&quot;ID&quot;</td><td>83252</td><td>42.1808</td><td>-112.262</td><td>4154</td><td>&quot;Nature conservation officer&quot;</td><td>1962-01-19</td><td>&quot;a1a22d70485983eac12b5b88dad1cf…</td><td>1325376051</td><td>43.150704</td><td>-112.154481</td><td>0</td><td>83236</td></tr><tr><td>3</td><td>2019-01-01 00:01:16</td><td>2019</td><td>1</td><td>1</td><td>0</td><td>1</td><td>16</td><td>3534093764340240</td><td>&quot;fraud_Kutch, Hermiston and Far…</td><td>&quot;gas_transport&quot;</td><td>45.0</td><td>&quot;Jeremy&quot;</td><td>&quot;White&quot;</td><td>&quot;M&quot;</td><td>&quot;9443 Cynthia Court Apt. 038&quot;</td><td>&quot;Boulder&quot;</td><td>&quot;MT&quot;</td><td>59632</td><td>46.2306</td><td>-112.1138</td><td>1939</td><td>&quot;Patent attorney&quot;</td><td>1967-01-12</td><td>&quot;6b849c168bdad6f867558c3793159a…</td><td>1325376076</td><td>47.034331</td><td>-112.561071</td><td>0</td><td>-1</td></tr><tr><td>4</td><td>2019-01-01 00:03:06</td><td>2019</td><td>1</td><td>1</td><td>0</td><td>3</td><td>6</td><td>375534208663984</td><td>&quot;fraud_Keeling-Crist&quot;</td><td>&quot;misc_pos&quot;</td><td>41.96</td><td>&quot;Tyler&quot;</td><td>&quot;Garcia&quot;</td><td>&quot;M&quot;</td><td>&quot;408 Bradley Rest&quot;</td><td>&quot;Doe Hill&quot;</td><td>&quot;VA&quot;</td><td>24433</td><td>38.4207</td><td>-79.4629</td><td>99</td><td>&quot;Dance movement psychotherapist&quot;</td><td>1986-03-28</td><td>&quot;a41d7549acf90789359a9aa5346dcb…</td><td>1325376186</td><td>38.674999</td><td>-78.632459</td><td>0</td><td>22844</td></tr><tr><td>&hellip;</td><td>&hellip;</td><td>&hellip;</td><td>&hellip;</td><td>&hellip;</td><td>&hellip;</td><td>&hellip;</td><td>&hellip;</td><td>&hellip;</td><td>&hellip;</td><td>&hellip;</td><td>&hellip;</td><td>&hellip;</td><td>&hellip;</td><td>&hellip;</td><td>&hellip;</td><td>&hellip;</td><td>&hellip;</td><td>&hellip;</td><td>&hellip;</td><td>&hellip;</td><td>&hellip;</td><td>&hellip;</td><td>&hellip;</td><td>&hellip;</td><td>&hellip;</td><td>&hellip;</td><td>&hellip;</td><td>&hellip;</td><td>&hellip;</td></tr><tr><td>1296670</td><td>2020-06-21 12:12:08</td><td>2020</td><td>6</td><td>21</td><td>12</td><td>12</td><td>8</td><td>30263540414123</td><td>&quot;fraud_Reichel Inc&quot;</td><td>&quot;entertainment&quot;</td><td>15.56</td><td>&quot;Erik&quot;</td><td>&quot;Patterson&quot;</td><td>&quot;M&quot;</td><td>&quot;162 Jessica Row Apt. 072&quot;</td><td>&quot;Hatch&quot;</td><td>&quot;UT&quot;</td><td>84735</td><td>37.7175</td><td>-112.4777</td><td>258</td><td>&quot;Geoscientist&quot;</td><td>1961-11-24</td><td>&quot;440b587732da4dc1a6395aba5fb416…</td><td>1371816728</td><td>36.841266</td><td>-111.690765</td><td>0</td><td>-1</td></tr><tr><td>1296671</td><td>2020-06-21 12:12:19</td><td>2020</td><td>6</td><td>21</td><td>12</td><td>12</td><td>19</td><td>6011149206456997</td><td>&quot;fraud_Abernathy and Sons&quot;</td><td>&quot;food_dining&quot;</td><td>51.7</td><td>&quot;Jeffrey&quot;</td><td>&quot;White&quot;</td><td>&quot;M&quot;</td><td>&quot;8617 Holmes Terrace Suite 651&quot;</td><td>&quot;Tuscarora&quot;</td><td>&quot;MD&quot;</td><td>21790</td><td>39.2667</td><td>-77.5101</td><td>100</td><td>&quot;Production assistant, televisi…</td><td>1979-12-11</td><td>&quot;278000d2e0d2277d1de2f890067dcc…</td><td>1371816739</td><td>38.906881</td><td>-78.246528</td><td>0</td><td>22630</td></tr><tr><td>1296672</td><td>2020-06-21 12:12:32</td><td>2020</td><td>6</td><td>21</td><td>12</td><td>12</td><td>32</td><td>3514865930894695</td><td>&quot;fraud_Stiedemann Ltd&quot;</td><td>&quot;food_dining&quot;</td><td>105.93</td><td>&quot;Christopher&quot;</td><td>&quot;Castaneda&quot;</td><td>&quot;M&quot;</td><td>&quot;1632 Cohen Drive Suite 639&quot;</td><td>&quot;High Rolls Mountain Park&quot;</td><td>&quot;NM&quot;</td><td>88325</td><td>32.9396</td><td>-105.8189</td><td>899</td><td>&quot;Naval architect&quot;</td><td>1967-08-30</td><td>&quot;483f52fe67fabef353d552c1e66297…</td><td>1371816752</td><td>33.619513</td><td>-105.130529</td><td>0</td><td>88351</td></tr><tr><td>1296673</td><td>2020-06-21 12:13:36</td><td>2020</td><td>6</td><td>21</td><td>12</td><td>13</td><td>36</td><td>2720012583106919</td><td>&quot;fraud_Reinger, Weissnat and St…</td><td>&quot;food_dining&quot;</td><td>74.9</td><td>&quot;Joseph&quot;</td><td>&quot;Murray&quot;</td><td>&quot;M&quot;</td><td>&quot;42933 Ryan Underpass&quot;</td><td>&quot;Manderson&quot;</td><td>&quot;SD&quot;</td><td>57756</td><td>43.3526</td><td>-102.5411</td><td>1126</td><td>&quot;Volunteer coordinator&quot;</td><td>1980-08-18</td><td>&quot;d667cdcbadaaed3da3f4020e83591c…</td><td>1371816816</td><td>42.78894</td><td>-103.24116</td><td>0</td><td>69367</td></tr><tr><td>1296674</td><td>2020-06-21 12:13:37</td><td>2020</td><td>6</td><td>21</td><td>12</td><td>13</td><td>37</td><td>4292902571056973207</td><td>&quot;fraud_Langosh, Wintheiser and …</td><td>&quot;food_dining&quot;</td><td>4.3</td><td>&quot;Jeffrey&quot;</td><td>&quot;Smith&quot;</td><td>&quot;M&quot;</td><td>&quot;135 Joseph Mountains&quot;</td><td>&quot;Sula&quot;</td><td>&quot;MT&quot;</td><td>59871</td><td>45.8433</td><td>-113.8748</td><td>218</td><td>&quot;Therapist, horticultural&quot;</td><td>1995-08-16</td><td>&quot;8f7c8e4ab7f25875d753b422917c98…</td><td>1371816817</td><td>46.565983</td><td>-114.18611</td><td>0</td><td>59870</td></tr></tbody></table></div>"
      ]
     },
     "execution_count": 13,
     "metadata": {},
     "output_type": "execute_result"
    }
   ],
   "execution_count": 13
  },
  {
   "metadata": {
    "ExecuteTime": {
     "end_time": "2025-01-12T12:16:32.119844Z",
     "start_time": "2025-01-12T12:16:32.115987Z"
    }
   },
   "cell_type": "code",
   "source": "{index: name for index, name in enumerate(df.columns)}",
   "id": "e1b6de85c24fc06e",
   "outputs": [
    {
     "data": {
      "text/plain": [
       "{0: 'user_id',\n",
       " 1: 'trans_date_trans_time',\n",
       " 2: 'transaction_year',\n",
       " 3: 'transaction_month',\n",
       " 4: 'transaction_day',\n",
       " 5: 'transaction_hour',\n",
       " 6: 'transaction_minute',\n",
       " 7: 'transaction_second',\n",
       " 8: 'credit_card_number',\n",
       " 9: 'merchant_name',\n",
       " 10: 'transaction_category',\n",
       " 11: 'transaction_amount',\n",
       " 12: 'first_name',\n",
       " 13: 'last_name',\n",
       " 14: 'gender',\n",
       " 15: 'street_address',\n",
       " 16: 'city',\n",
       " 17: 'state',\n",
       " 18: 'zip_code',\n",
       " 19: 'latitude',\n",
       " 20: 'longitude',\n",
       " 21: 'city_population',\n",
       " 22: 'job',\n",
       " 23: 'date_of_birth',\n",
       " 24: 'transaction_number',\n",
       " 25: 'unix_timestamp',\n",
       " 26: 'merchant_latitude',\n",
       " 27: 'merchant_longitude',\n",
       " 28: 'is_fraud',\n",
       " 29: 'merch_zipcode'}"
      ]
     },
     "execution_count": 14,
     "metadata": {},
     "output_type": "execute_result"
    }
   ],
   "execution_count": 14
  },
  {
   "metadata": {
    "ExecuteTime": {
     "end_time": "2025-01-12T12:16:32.207853Z",
     "start_time": "2025-01-12T12:16:32.187946Z"
    }
   },
   "cell_type": "code",
   "source": [
    "birth_date = df.select(\n",
    "    pl.col('date_of_birth').dt.year().alias('year_of_birth'),\n",
    "    pl.col('date_of_birth').dt.month().alias('month_of_birth'),\n",
    "    pl.col('date_of_birth').dt.day().alias('day_of_birth')\n",
    ")\n",
    "\n",
    "df.insert_column(24, birth_date['year_of_birth'])\n",
    "df.insert_column(25, birth_date['month_of_birth'])\n",
    "df.insert_column(26, birth_date['day_of_birth'])"
   ],
   "id": "bcdc1f28b4fb34fb",
   "outputs": [
    {
     "data": {
      "text/plain": [
       "shape: (1_296_675, 33)\n",
       "┌─────────┬────────────┬────────────┬───────────┬───┬───────────┬───────────┬──────────┬───────────┐\n",
       "│ user_id ┆ trans_date ┆ transactio ┆ transacti ┆ … ┆ merchant_ ┆ merchant_ ┆ is_fraud ┆ merch_zip │\n",
       "│ ---     ┆ _trans_tim ┆ n_year     ┆ on_month  ┆   ┆ latitude  ┆ longitude ┆ ---      ┆ code      │\n",
       "│ i64     ┆ e          ┆ ---        ┆ ---       ┆   ┆ ---       ┆ ---       ┆ i64      ┆ ---       │\n",
       "│         ┆ ---        ┆ i32        ┆ i8        ┆   ┆ f64       ┆ f64       ┆          ┆ i64       │\n",
       "│         ┆ datetime[μ ┆            ┆           ┆   ┆           ┆           ┆          ┆           │\n",
       "│         ┆ s]         ┆            ┆           ┆   ┆           ┆           ┆          ┆           │\n",
       "╞═════════╪════════════╪════════════╪═══════════╪═══╪═══════════╪═══════════╪══════════╪═══════════╡\n",
       "│ 0       ┆ 2019-01-01 ┆ 2019       ┆ 1         ┆ … ┆ 36.011293 ┆ -82.04831 ┆ 0        ┆ 28705     │\n",
       "│         ┆ 00:00:18   ┆            ┆           ┆   ┆           ┆ 5         ┆          ┆           │\n",
       "│ 1       ┆ 2019-01-01 ┆ 2019       ┆ 1         ┆ … ┆ 49.159047 ┆ -118.1864 ┆ 0        ┆ -1        │\n",
       "│         ┆ 00:00:44   ┆            ┆           ┆   ┆           ┆ 62        ┆          ┆           │\n",
       "│ 2       ┆ 2019-01-01 ┆ 2019       ┆ 1         ┆ … ┆ 43.150704 ┆ -112.1544 ┆ 0        ┆ 83236     │\n",
       "│         ┆ 00:00:51   ┆            ┆           ┆   ┆           ┆ 81        ┆          ┆           │\n",
       "│ 3       ┆ 2019-01-01 ┆ 2019       ┆ 1         ┆ … ┆ 47.034331 ┆ -112.5610 ┆ 0        ┆ -1        │\n",
       "│         ┆ 00:01:16   ┆            ┆           ┆   ┆           ┆ 71        ┆          ┆           │\n",
       "│ 4       ┆ 2019-01-01 ┆ 2019       ┆ 1         ┆ … ┆ 38.674999 ┆ -78.63245 ┆ 0        ┆ 22844     │\n",
       "│         ┆ 00:03:06   ┆            ┆           ┆   ┆           ┆ 9         ┆          ┆           │\n",
       "│ …       ┆ …          ┆ …          ┆ …         ┆ … ┆ …         ┆ …         ┆ …        ┆ …         │\n",
       "│ 1296670 ┆ 2020-06-21 ┆ 2020       ┆ 6         ┆ … ┆ 36.841266 ┆ -111.6907 ┆ 0        ┆ -1        │\n",
       "│         ┆ 12:12:08   ┆            ┆           ┆   ┆           ┆ 65        ┆          ┆           │\n",
       "│ 1296671 ┆ 2020-06-21 ┆ 2020       ┆ 6         ┆ … ┆ 38.906881 ┆ -78.24652 ┆ 0        ┆ 22630     │\n",
       "│         ┆ 12:12:19   ┆            ┆           ┆   ┆           ┆ 8         ┆          ┆           │\n",
       "│ 1296672 ┆ 2020-06-21 ┆ 2020       ┆ 6         ┆ … ┆ 33.619513 ┆ -105.1305 ┆ 0        ┆ 88351     │\n",
       "│         ┆ 12:12:32   ┆            ┆           ┆   ┆           ┆ 29        ┆          ┆           │\n",
       "│ 1296673 ┆ 2020-06-21 ┆ 2020       ┆ 6         ┆ … ┆ 42.78894  ┆ -103.2411 ┆ 0        ┆ 69367     │\n",
       "│         ┆ 12:13:36   ┆            ┆           ┆   ┆           ┆ 6         ┆          ┆           │\n",
       "│ 1296674 ┆ 2020-06-21 ┆ 2020       ┆ 6         ┆ … ┆ 46.565983 ┆ -114.1861 ┆ 0        ┆ 59870     │\n",
       "│         ┆ 12:13:37   ┆            ┆           ┆   ┆           ┆ 1         ┆          ┆           │\n",
       "└─────────┴────────────┴────────────┴───────────┴───┴───────────┴───────────┴──────────┴───────────┘"
      ],
      "text/html": [
       "<div><style>\n",
       ".dataframe > thead > tr,\n",
       ".dataframe > tbody > tr {\n",
       "  text-align: right;\n",
       "  white-space: pre-wrap;\n",
       "}\n",
       "</style>\n",
       "<small>shape: (1_296_675, 33)</small><table border=\"1\" class=\"dataframe\"><thead><tr><th>user_id</th><th>trans_date_trans_time</th><th>transaction_year</th><th>transaction_month</th><th>transaction_day</th><th>transaction_hour</th><th>transaction_minute</th><th>transaction_second</th><th>credit_card_number</th><th>merchant_name</th><th>transaction_category</th><th>transaction_amount</th><th>first_name</th><th>last_name</th><th>gender</th><th>street_address</th><th>city</th><th>state</th><th>zip_code</th><th>latitude</th><th>longitude</th><th>city_population</th><th>job</th><th>date_of_birth</th><th>year_of_birth</th><th>month_of_birth</th><th>day_of_birth</th><th>transaction_number</th><th>unix_timestamp</th><th>merchant_latitude</th><th>merchant_longitude</th><th>is_fraud</th><th>merch_zipcode</th></tr><tr><td>i64</td><td>datetime[μs]</td><td>i32</td><td>i8</td><td>i8</td><td>i8</td><td>i8</td><td>i8</td><td>i64</td><td>str</td><td>str</td><td>f64</td><td>str</td><td>str</td><td>str</td><td>str</td><td>str</td><td>str</td><td>i64</td><td>f64</td><td>f64</td><td>i64</td><td>str</td><td>date</td><td>i32</td><td>i8</td><td>i8</td><td>str</td><td>i64</td><td>f64</td><td>f64</td><td>i64</td><td>i64</td></tr></thead><tbody><tr><td>0</td><td>2019-01-01 00:00:18</td><td>2019</td><td>1</td><td>1</td><td>0</td><td>0</td><td>18</td><td>2703186189652095</td><td>&quot;fraud_Rippin, Kub and Mann&quot;</td><td>&quot;misc_net&quot;</td><td>4.97</td><td>&quot;Jennifer&quot;</td><td>&quot;Banks&quot;</td><td>&quot;F&quot;</td><td>&quot;561 Perry Cove&quot;</td><td>&quot;Moravian Falls&quot;</td><td>&quot;NC&quot;</td><td>28654</td><td>36.0788</td><td>-81.1781</td><td>3495</td><td>&quot;Psychologist, counselling&quot;</td><td>1988-03-09</td><td>1988</td><td>3</td><td>9</td><td>&quot;0b242abb623afc578575680df30655…</td><td>1325376018</td><td>36.011293</td><td>-82.048315</td><td>0</td><td>28705</td></tr><tr><td>1</td><td>2019-01-01 00:00:44</td><td>2019</td><td>1</td><td>1</td><td>0</td><td>0</td><td>44</td><td>630423337322</td><td>&quot;fraud_Heller, Gutmann and Ziem…</td><td>&quot;grocery_pos&quot;</td><td>107.23</td><td>&quot;Stephanie&quot;</td><td>&quot;Gill&quot;</td><td>&quot;F&quot;</td><td>&quot;43039 Riley Greens Suite 393&quot;</td><td>&quot;Orient&quot;</td><td>&quot;WA&quot;</td><td>99160</td><td>48.8878</td><td>-118.2105</td><td>149</td><td>&quot;Special educational needs teac…</td><td>1978-06-21</td><td>1978</td><td>6</td><td>21</td><td>&quot;1f76529f8574734946361c461b024d…</td><td>1325376044</td><td>49.159047</td><td>-118.186462</td><td>0</td><td>-1</td></tr><tr><td>2</td><td>2019-01-01 00:00:51</td><td>2019</td><td>1</td><td>1</td><td>0</td><td>0</td><td>51</td><td>38859492057661</td><td>&quot;fraud_Lind-Buckridge&quot;</td><td>&quot;entertainment&quot;</td><td>220.11</td><td>&quot;Edward&quot;</td><td>&quot;Sanchez&quot;</td><td>&quot;M&quot;</td><td>&quot;594 White Dale Suite 530&quot;</td><td>&quot;Malad City&quot;</td><td>&quot;ID&quot;</td><td>83252</td><td>42.1808</td><td>-112.262</td><td>4154</td><td>&quot;Nature conservation officer&quot;</td><td>1962-01-19</td><td>1962</td><td>1</td><td>19</td><td>&quot;a1a22d70485983eac12b5b88dad1cf…</td><td>1325376051</td><td>43.150704</td><td>-112.154481</td><td>0</td><td>83236</td></tr><tr><td>3</td><td>2019-01-01 00:01:16</td><td>2019</td><td>1</td><td>1</td><td>0</td><td>1</td><td>16</td><td>3534093764340240</td><td>&quot;fraud_Kutch, Hermiston and Far…</td><td>&quot;gas_transport&quot;</td><td>45.0</td><td>&quot;Jeremy&quot;</td><td>&quot;White&quot;</td><td>&quot;M&quot;</td><td>&quot;9443 Cynthia Court Apt. 038&quot;</td><td>&quot;Boulder&quot;</td><td>&quot;MT&quot;</td><td>59632</td><td>46.2306</td><td>-112.1138</td><td>1939</td><td>&quot;Patent attorney&quot;</td><td>1967-01-12</td><td>1967</td><td>1</td><td>12</td><td>&quot;6b849c168bdad6f867558c3793159a…</td><td>1325376076</td><td>47.034331</td><td>-112.561071</td><td>0</td><td>-1</td></tr><tr><td>4</td><td>2019-01-01 00:03:06</td><td>2019</td><td>1</td><td>1</td><td>0</td><td>3</td><td>6</td><td>375534208663984</td><td>&quot;fraud_Keeling-Crist&quot;</td><td>&quot;misc_pos&quot;</td><td>41.96</td><td>&quot;Tyler&quot;</td><td>&quot;Garcia&quot;</td><td>&quot;M&quot;</td><td>&quot;408 Bradley Rest&quot;</td><td>&quot;Doe Hill&quot;</td><td>&quot;VA&quot;</td><td>24433</td><td>38.4207</td><td>-79.4629</td><td>99</td><td>&quot;Dance movement psychotherapist&quot;</td><td>1986-03-28</td><td>1986</td><td>3</td><td>28</td><td>&quot;a41d7549acf90789359a9aa5346dcb…</td><td>1325376186</td><td>38.674999</td><td>-78.632459</td><td>0</td><td>22844</td></tr><tr><td>&hellip;</td><td>&hellip;</td><td>&hellip;</td><td>&hellip;</td><td>&hellip;</td><td>&hellip;</td><td>&hellip;</td><td>&hellip;</td><td>&hellip;</td><td>&hellip;</td><td>&hellip;</td><td>&hellip;</td><td>&hellip;</td><td>&hellip;</td><td>&hellip;</td><td>&hellip;</td><td>&hellip;</td><td>&hellip;</td><td>&hellip;</td><td>&hellip;</td><td>&hellip;</td><td>&hellip;</td><td>&hellip;</td><td>&hellip;</td><td>&hellip;</td><td>&hellip;</td><td>&hellip;</td><td>&hellip;</td><td>&hellip;</td><td>&hellip;</td><td>&hellip;</td><td>&hellip;</td><td>&hellip;</td></tr><tr><td>1296670</td><td>2020-06-21 12:12:08</td><td>2020</td><td>6</td><td>21</td><td>12</td><td>12</td><td>8</td><td>30263540414123</td><td>&quot;fraud_Reichel Inc&quot;</td><td>&quot;entertainment&quot;</td><td>15.56</td><td>&quot;Erik&quot;</td><td>&quot;Patterson&quot;</td><td>&quot;M&quot;</td><td>&quot;162 Jessica Row Apt. 072&quot;</td><td>&quot;Hatch&quot;</td><td>&quot;UT&quot;</td><td>84735</td><td>37.7175</td><td>-112.4777</td><td>258</td><td>&quot;Geoscientist&quot;</td><td>1961-11-24</td><td>1961</td><td>11</td><td>24</td><td>&quot;440b587732da4dc1a6395aba5fb416…</td><td>1371816728</td><td>36.841266</td><td>-111.690765</td><td>0</td><td>-1</td></tr><tr><td>1296671</td><td>2020-06-21 12:12:19</td><td>2020</td><td>6</td><td>21</td><td>12</td><td>12</td><td>19</td><td>6011149206456997</td><td>&quot;fraud_Abernathy and Sons&quot;</td><td>&quot;food_dining&quot;</td><td>51.7</td><td>&quot;Jeffrey&quot;</td><td>&quot;White&quot;</td><td>&quot;M&quot;</td><td>&quot;8617 Holmes Terrace Suite 651&quot;</td><td>&quot;Tuscarora&quot;</td><td>&quot;MD&quot;</td><td>21790</td><td>39.2667</td><td>-77.5101</td><td>100</td><td>&quot;Production assistant, televisi…</td><td>1979-12-11</td><td>1979</td><td>12</td><td>11</td><td>&quot;278000d2e0d2277d1de2f890067dcc…</td><td>1371816739</td><td>38.906881</td><td>-78.246528</td><td>0</td><td>22630</td></tr><tr><td>1296672</td><td>2020-06-21 12:12:32</td><td>2020</td><td>6</td><td>21</td><td>12</td><td>12</td><td>32</td><td>3514865930894695</td><td>&quot;fraud_Stiedemann Ltd&quot;</td><td>&quot;food_dining&quot;</td><td>105.93</td><td>&quot;Christopher&quot;</td><td>&quot;Castaneda&quot;</td><td>&quot;M&quot;</td><td>&quot;1632 Cohen Drive Suite 639&quot;</td><td>&quot;High Rolls Mountain Park&quot;</td><td>&quot;NM&quot;</td><td>88325</td><td>32.9396</td><td>-105.8189</td><td>899</td><td>&quot;Naval architect&quot;</td><td>1967-08-30</td><td>1967</td><td>8</td><td>30</td><td>&quot;483f52fe67fabef353d552c1e66297…</td><td>1371816752</td><td>33.619513</td><td>-105.130529</td><td>0</td><td>88351</td></tr><tr><td>1296673</td><td>2020-06-21 12:13:36</td><td>2020</td><td>6</td><td>21</td><td>12</td><td>13</td><td>36</td><td>2720012583106919</td><td>&quot;fraud_Reinger, Weissnat and St…</td><td>&quot;food_dining&quot;</td><td>74.9</td><td>&quot;Joseph&quot;</td><td>&quot;Murray&quot;</td><td>&quot;M&quot;</td><td>&quot;42933 Ryan Underpass&quot;</td><td>&quot;Manderson&quot;</td><td>&quot;SD&quot;</td><td>57756</td><td>43.3526</td><td>-102.5411</td><td>1126</td><td>&quot;Volunteer coordinator&quot;</td><td>1980-08-18</td><td>1980</td><td>8</td><td>18</td><td>&quot;d667cdcbadaaed3da3f4020e83591c…</td><td>1371816816</td><td>42.78894</td><td>-103.24116</td><td>0</td><td>69367</td></tr><tr><td>1296674</td><td>2020-06-21 12:13:37</td><td>2020</td><td>6</td><td>21</td><td>12</td><td>13</td><td>37</td><td>4292902571056973207</td><td>&quot;fraud_Langosh, Wintheiser and …</td><td>&quot;food_dining&quot;</td><td>4.3</td><td>&quot;Jeffrey&quot;</td><td>&quot;Smith&quot;</td><td>&quot;M&quot;</td><td>&quot;135 Joseph Mountains&quot;</td><td>&quot;Sula&quot;</td><td>&quot;MT&quot;</td><td>59871</td><td>45.8433</td><td>-113.8748</td><td>218</td><td>&quot;Therapist, horticultural&quot;</td><td>1995-08-16</td><td>1995</td><td>8</td><td>16</td><td>&quot;8f7c8e4ab7f25875d753b422917c98…</td><td>1371816817</td><td>46.565983</td><td>-114.18611</td><td>0</td><td>59870</td></tr></tbody></table></div>"
      ]
     },
     "execution_count": 15,
     "metadata": {},
     "output_type": "execute_result"
    }
   ],
   "execution_count": 15
  },
  {
   "metadata": {
    "ExecuteTime": {
     "end_time": "2025-01-12T12:16:32.315402Z",
     "start_time": "2025-01-12T12:16:32.310773Z"
    }
   },
   "cell_type": "code",
   "source": [
    "X = df.select(cs.exclude(['user_id', 'unix_timestamp', 'trans_date_trans_time', 'date_of_birth', 'is_fraud', 'first_name', 'last_name']))\n",
    "y = df.get_column('is_fraud')"
   ],
   "id": "cc9a56464b13a606",
   "outputs": [],
   "execution_count": 16
  },
  {
   "metadata": {
    "ExecuteTime": {
     "end_time": "2025-01-12T12:16:50.862240Z",
     "start_time": "2025-01-12T12:16:50.859395Z"
    }
   },
   "cell_type": "code",
   "source": [
    "# from sklearn.base import BaseEstimator, TransformerMixin\n",
    "# from sklearn.pipeline import Pipeline\n",
    "# from sklearn.feature_extraction import FeatureHasher\n",
    "# from sklearn.compose import ColumnTransformer\n",
    "# from sklearn.preprocessing import OneHotEncoder\n",
    "# import category_encoders as ce"
   ],
   "id": "a9f101dd741d4879",
   "outputs": [],
   "execution_count": 21
  },
  {
   "metadata": {
    "ExecuteTime": {
     "end_time": "2025-01-12T12:16:51.272380Z",
     "start_time": "2025-01-12T12:16:51.267995Z"
    }
   },
   "cell_type": "code",
   "source": "X.head(1)",
   "id": "ed7a17a4eede5e3b",
   "outputs": [
    {
     "data": {
      "text/plain": [
       "shape: (1, 26)\n",
       "┌───────────┬───────────┬───────────┬───────────┬───┬───────────┬───────────┬───────────┬──────────┐\n",
       "│ transacti ┆ transacti ┆ transacti ┆ transacti ┆ … ┆ transacti ┆ merchant_ ┆ merchant_ ┆ merch_zi │\n",
       "│ on_year   ┆ on_month  ┆ on_day    ┆ on_hour   ┆   ┆ on_number ┆ latitude  ┆ longitude ┆ pcode    │\n",
       "│ ---       ┆ ---       ┆ ---       ┆ ---       ┆   ┆ ---       ┆ ---       ┆ ---       ┆ ---      │\n",
       "│ i32       ┆ i8        ┆ i8        ┆ i8        ┆   ┆ str       ┆ f64       ┆ f64       ┆ i64      │\n",
       "╞═══════════╪═══════════╪═══════════╪═══════════╪═══╪═══════════╪═══════════╪═══════════╪══════════╡\n",
       "│ 2019      ┆ 1         ┆ 1         ┆ 0         ┆ … ┆ 0b242abb6 ┆ 36.011293 ┆ -82.04831 ┆ 28705    │\n",
       "│           ┆           ┆           ┆           ┆   ┆ 23afc5785 ┆           ┆ 5         ┆          │\n",
       "│           ┆           ┆           ┆           ┆   ┆ 75680df30 ┆           ┆           ┆          │\n",
       "│           ┆           ┆           ┆           ┆   ┆ 655…      ┆           ┆           ┆          │\n",
       "└───────────┴───────────┴───────────┴───────────┴───┴───────────┴───────────┴───────────┴──────────┘"
      ],
      "text/html": [
       "<div><style>\n",
       ".dataframe > thead > tr,\n",
       ".dataframe > tbody > tr {\n",
       "  text-align: right;\n",
       "  white-space: pre-wrap;\n",
       "}\n",
       "</style>\n",
       "<small>shape: (1, 26)</small><table border=\"1\" class=\"dataframe\"><thead><tr><th>transaction_year</th><th>transaction_month</th><th>transaction_day</th><th>transaction_hour</th><th>transaction_minute</th><th>transaction_second</th><th>credit_card_number</th><th>merchant_name</th><th>transaction_category</th><th>transaction_amount</th><th>gender</th><th>street_address</th><th>city</th><th>state</th><th>zip_code</th><th>latitude</th><th>longitude</th><th>city_population</th><th>job</th><th>year_of_birth</th><th>month_of_birth</th><th>day_of_birth</th><th>transaction_number</th><th>merchant_latitude</th><th>merchant_longitude</th><th>merch_zipcode</th></tr><tr><td>i32</td><td>i8</td><td>i8</td><td>i8</td><td>i8</td><td>i8</td><td>i64</td><td>str</td><td>str</td><td>f64</td><td>str</td><td>str</td><td>str</td><td>str</td><td>i64</td><td>f64</td><td>f64</td><td>i64</td><td>str</td><td>i32</td><td>i8</td><td>i8</td><td>str</td><td>f64</td><td>f64</td><td>i64</td></tr></thead><tbody><tr><td>2019</td><td>1</td><td>1</td><td>0</td><td>0</td><td>18</td><td>2703186189652095</td><td>&quot;fraud_Rippin, Kub and Mann&quot;</td><td>&quot;misc_net&quot;</td><td>4.97</td><td>&quot;F&quot;</td><td>&quot;561 Perry Cove&quot;</td><td>&quot;Moravian Falls&quot;</td><td>&quot;NC&quot;</td><td>28654</td><td>36.0788</td><td>-81.1781</td><td>3495</td><td>&quot;Psychologist, counselling&quot;</td><td>1988</td><td>3</td><td>9</td><td>&quot;0b242abb623afc578575680df30655…</td><td>36.011293</td><td>-82.048315</td><td>28705</td></tr></tbody></table></div>"
      ]
     },
     "execution_count": 22,
     "metadata": {},
     "output_type": "execute_result"
    }
   ],
   "execution_count": 22
  },
  {
   "metadata": {
    "ExecuteTime": {
     "end_time": "2025-01-12T12:16:52.294356Z",
     "start_time": "2025-01-12T12:16:52.290174Z"
    }
   },
   "cell_type": "code",
   "source": [
    "# class MultiColumnFeatureHasher(BaseEstimator, TransformerMixin):\n",
    "#\n",
    "#     def __init__(self, columns, n_features=10):\n",
    "#\n",
    "#         self.columns = columns\n",
    "#         self.n_features = n_features\n",
    "#         self.hasher = FeatureHasher(n_features=self.n_features, input_type='dict')\n",
    "#\n",
    "#     def fit(self, X, y=None):\n",
    "#         return self\n",
    "#\n",
    "#     def transform(self, X):\n",
    "#         dict_list = []\n",
    "#         for _, row in X.iterrows():\n",
    "#             row_dict = {f\"{col}={row[col]}\": 1 for col in self.columns}\n",
    "#             dict_list.append(row_dict)\n",
    "#\n",
    "#         return self.hasher.transform(dict_list)"
   ],
   "id": "dad96e7c2198cdf6",
   "outputs": [],
   "execution_count": 23
  },
  {
   "metadata": {
    "ExecuteTime": {
     "end_time": "2025-01-12T12:17:14.407247Z",
     "start_time": "2025-01-12T12:17:14.403739Z"
    }
   },
   "cell_type": "code",
   "source": [
    "# columns_to_encode = ['merchant_name', 'transaction_category', 'gender',\n",
    "#                      'street_address', 'city', 'state', 'job', 'transaction_number']\n",
    "#\n",
    "# high_card_columns = ['merchant_name', 'transaction_category']\n",
    "# low_card_columns = ['street_address', 'city', 'state', 'job', 'transaction_number']\n",
    "#\n",
    "# preprocessor = ColumnTransformer(\n",
    "#     transformers=[\n",
    "#         ('hash_enc', MultiColumnFeatureHasher(columns=high_card_columns, n_features=10), high_card_columns),\n",
    "#         ('onehot', OneHotEncoder(sparse_output=False, drop='first'), low_card_columns)\n",
    "#     ],\n",
    "#     remainder='passthrough'\n",
    "# )\n"
   ],
   "id": "c5d92833f1328dde",
   "outputs": [],
   "execution_count": 25
  },
  {
   "metadata": {
    "ExecuteTime": {
     "end_time": "2025-01-12T12:33:18.585939Z",
     "start_time": "2025-01-12T12:33:18.583220Z"
    }
   },
   "cell_type": "code",
   "source": [
    "from sklearn.compose import ColumnTransformer\n",
    "from sklearn.pipeline import Pipeline\n",
    "from sklearn.preprocessing import OrdinalEncoder, StandardScaler"
   ],
   "id": "667d510a72b39504",
   "outputs": [],
   "execution_count": 56
  },
  {
   "metadata": {
    "ExecuteTime": {
     "end_time": "2025-01-12T12:33:22.883596Z",
     "start_time": "2025-01-12T12:33:22.880647Z"
    }
   },
   "cell_type": "code",
   "source": [
    "categorical_columns = X.select(~cs.numeric())\n",
    "numerical_columns = X.select(cs.numeric())"
   ],
   "id": "74a5b0118fbf358d",
   "outputs": [],
   "execution_count": 57
  },
  {
   "metadata": {
    "ExecuteTime": {
     "end_time": "2025-01-12T12:34:01.103391Z",
     "start_time": "2025-01-12T12:34:01.100413Z"
    }
   },
   "cell_type": "code",
   "source": [
    "preprocesing = ColumnTransformer(\n",
    "    transformers=[\n",
    "        ('categorical', OrdinalEncoder(), categorical_columns),\n",
    "        ('numerical', StandardScaler(), numerical_columns)\n",
    "    ]\n",
    ")"
   ],
   "id": "2e697dc06a760522",
   "outputs": [],
   "execution_count": 58
  },
  {
   "metadata": {
    "ExecuteTime": {
     "end_time": "2025-01-12T12:35:01.797554Z",
     "start_time": "2025-01-12T12:35:01.794757Z"
    }
   },
   "cell_type": "code",
   "source": "pipeline = Pipeline(steps=[('preprocessor', preprocesing)])",
   "id": "b8b937c0a3d3243e",
   "outputs": [],
   "execution_count": 59
  },
  {
   "metadata": {
    "ExecuteTime": {
     "end_time": "2025-01-12T12:37:54.703526Z",
     "start_time": "2025-01-12T12:37:54.650328Z"
    }
   },
   "cell_type": "code",
   "source": "X_encoded = pipeline.fit_transform(X)",
   "id": "d2c9d152c866ddb5",
   "outputs": [
    {
     "ename": "ValueError",
     "evalue": "No valid specification of the columns. Only a scalar, list or slice of all integers or all strings, or boolean mask is allowed",
     "output_type": "error",
     "traceback": [
      "\u001B[1;31m---------------------------------------------------------------------------\u001B[0m",
      "\u001B[1;31mValueError\u001B[0m                                Traceback (most recent call last)",
      "Cell \u001B[1;32mIn[61], line 1\u001B[0m\n\u001B[1;32m----> 1\u001B[0m X_encoded \u001B[38;5;241m=\u001B[39m pipeline\u001B[38;5;241m.\u001B[39mfit_transform(X)\n",
      "File \u001B[1;32m~\\anaconda3\\envs\\Analytics__2024_12_29\\Lib\\site-packages\\sklearn\\base.py:1473\u001B[0m, in \u001B[0;36m_fit_context.<locals>.decorator.<locals>.wrapper\u001B[1;34m(estimator, *args, **kwargs)\u001B[0m\n\u001B[0;32m   1466\u001B[0m     estimator\u001B[38;5;241m.\u001B[39m_validate_params()\n\u001B[0;32m   1468\u001B[0m \u001B[38;5;28;01mwith\u001B[39;00m config_context(\n\u001B[0;32m   1469\u001B[0m     skip_parameter_validation\u001B[38;5;241m=\u001B[39m(\n\u001B[0;32m   1470\u001B[0m         prefer_skip_nested_validation \u001B[38;5;129;01mor\u001B[39;00m global_skip_validation\n\u001B[0;32m   1471\u001B[0m     )\n\u001B[0;32m   1472\u001B[0m ):\n\u001B[1;32m-> 1473\u001B[0m     \u001B[38;5;28;01mreturn\u001B[39;00m fit_method(estimator, \u001B[38;5;241m*\u001B[39margs, \u001B[38;5;241m*\u001B[39m\u001B[38;5;241m*\u001B[39mkwargs)\n",
      "File \u001B[1;32m~\\anaconda3\\envs\\Analytics__2024_12_29\\Lib\\site-packages\\sklearn\\pipeline.py:541\u001B[0m, in \u001B[0;36mPipeline.fit_transform\u001B[1;34m(self, X, y, **params)\u001B[0m\n\u001B[0;32m    539\u001B[0m last_step_params \u001B[38;5;241m=\u001B[39m routed_params[\u001B[38;5;28mself\u001B[39m\u001B[38;5;241m.\u001B[39msteps[\u001B[38;5;241m-\u001B[39m\u001B[38;5;241m1\u001B[39m][\u001B[38;5;241m0\u001B[39m]]\n\u001B[0;32m    540\u001B[0m \u001B[38;5;28;01mif\u001B[39;00m \u001B[38;5;28mhasattr\u001B[39m(last_step, \u001B[38;5;124m\"\u001B[39m\u001B[38;5;124mfit_transform\u001B[39m\u001B[38;5;124m\"\u001B[39m):\n\u001B[1;32m--> 541\u001B[0m     \u001B[38;5;28;01mreturn\u001B[39;00m last_step\u001B[38;5;241m.\u001B[39mfit_transform(\n\u001B[0;32m    542\u001B[0m         Xt, y, \u001B[38;5;241m*\u001B[39m\u001B[38;5;241m*\u001B[39mlast_step_params[\u001B[38;5;124m\"\u001B[39m\u001B[38;5;124mfit_transform\u001B[39m\u001B[38;5;124m\"\u001B[39m]\n\u001B[0;32m    543\u001B[0m     )\n\u001B[0;32m    544\u001B[0m \u001B[38;5;28;01melse\u001B[39;00m:\n\u001B[0;32m    545\u001B[0m     \u001B[38;5;28;01mreturn\u001B[39;00m last_step\u001B[38;5;241m.\u001B[39mfit(Xt, y, \u001B[38;5;241m*\u001B[39m\u001B[38;5;241m*\u001B[39mlast_step_params[\u001B[38;5;124m\"\u001B[39m\u001B[38;5;124mfit\u001B[39m\u001B[38;5;124m\"\u001B[39m])\u001B[38;5;241m.\u001B[39mtransform(\n\u001B[0;32m    546\u001B[0m         Xt, \u001B[38;5;241m*\u001B[39m\u001B[38;5;241m*\u001B[39mlast_step_params[\u001B[38;5;124m\"\u001B[39m\u001B[38;5;124mtransform\u001B[39m\u001B[38;5;124m\"\u001B[39m]\n\u001B[0;32m    547\u001B[0m     )\n",
      "File \u001B[1;32m~\\anaconda3\\envs\\Analytics__2024_12_29\\Lib\\site-packages\\sklearn\\utils\\_set_output.py:316\u001B[0m, in \u001B[0;36m_wrap_method_output.<locals>.wrapped\u001B[1;34m(self, X, *args, **kwargs)\u001B[0m\n\u001B[0;32m    314\u001B[0m \u001B[38;5;129m@wraps\u001B[39m(f)\n\u001B[0;32m    315\u001B[0m \u001B[38;5;28;01mdef\u001B[39;00m \u001B[38;5;21mwrapped\u001B[39m(\u001B[38;5;28mself\u001B[39m, X, \u001B[38;5;241m*\u001B[39margs, \u001B[38;5;241m*\u001B[39m\u001B[38;5;241m*\u001B[39mkwargs):\n\u001B[1;32m--> 316\u001B[0m     data_to_wrap \u001B[38;5;241m=\u001B[39m f(\u001B[38;5;28mself\u001B[39m, X, \u001B[38;5;241m*\u001B[39margs, \u001B[38;5;241m*\u001B[39m\u001B[38;5;241m*\u001B[39mkwargs)\n\u001B[0;32m    317\u001B[0m     \u001B[38;5;28;01mif\u001B[39;00m \u001B[38;5;28misinstance\u001B[39m(data_to_wrap, \u001B[38;5;28mtuple\u001B[39m):\n\u001B[0;32m    318\u001B[0m         \u001B[38;5;66;03m# only wrap the first output for cross decomposition\u001B[39;00m\n\u001B[0;32m    319\u001B[0m         return_tuple \u001B[38;5;241m=\u001B[39m (\n\u001B[0;32m    320\u001B[0m             _wrap_data_with_container(method, data_to_wrap[\u001B[38;5;241m0\u001B[39m], X, \u001B[38;5;28mself\u001B[39m),\n\u001B[0;32m    321\u001B[0m             \u001B[38;5;241m*\u001B[39mdata_to_wrap[\u001B[38;5;241m1\u001B[39m:],\n\u001B[0;32m    322\u001B[0m         )\n",
      "File \u001B[1;32m~\\anaconda3\\envs\\Analytics__2024_12_29\\Lib\\site-packages\\sklearn\\base.py:1473\u001B[0m, in \u001B[0;36m_fit_context.<locals>.decorator.<locals>.wrapper\u001B[1;34m(estimator, *args, **kwargs)\u001B[0m\n\u001B[0;32m   1466\u001B[0m     estimator\u001B[38;5;241m.\u001B[39m_validate_params()\n\u001B[0;32m   1468\u001B[0m \u001B[38;5;28;01mwith\u001B[39;00m config_context(\n\u001B[0;32m   1469\u001B[0m     skip_parameter_validation\u001B[38;5;241m=\u001B[39m(\n\u001B[0;32m   1470\u001B[0m         prefer_skip_nested_validation \u001B[38;5;129;01mor\u001B[39;00m global_skip_validation\n\u001B[0;32m   1471\u001B[0m     )\n\u001B[0;32m   1472\u001B[0m ):\n\u001B[1;32m-> 1473\u001B[0m     \u001B[38;5;28;01mreturn\u001B[39;00m fit_method(estimator, \u001B[38;5;241m*\u001B[39margs, \u001B[38;5;241m*\u001B[39m\u001B[38;5;241m*\u001B[39mkwargs)\n",
      "File \u001B[1;32m~\\anaconda3\\envs\\Analytics__2024_12_29\\Lib\\site-packages\\sklearn\\compose\\_column_transformer.py:968\u001B[0m, in \u001B[0;36mColumnTransformer.fit_transform\u001B[1;34m(self, X, y, **params)\u001B[0m\n\u001B[0;32m    965\u001B[0m \u001B[38;5;28mself\u001B[39m\u001B[38;5;241m.\u001B[39m_validate_transformers()\n\u001B[0;32m    966\u001B[0m n_samples \u001B[38;5;241m=\u001B[39m _num_samples(X)\n\u001B[1;32m--> 968\u001B[0m \u001B[38;5;28mself\u001B[39m\u001B[38;5;241m.\u001B[39m_validate_column_callables(X)\n\u001B[0;32m    969\u001B[0m \u001B[38;5;28mself\u001B[39m\u001B[38;5;241m.\u001B[39m_validate_remainder(X)\n\u001B[0;32m    971\u001B[0m \u001B[38;5;28;01mif\u001B[39;00m _routing_enabled():\n",
      "File \u001B[1;32m~\\anaconda3\\envs\\Analytics__2024_12_29\\Lib\\site-packages\\sklearn\\compose\\_column_transformer.py:536\u001B[0m, in \u001B[0;36mColumnTransformer._validate_column_callables\u001B[1;34m(self, X)\u001B[0m\n\u001B[0;32m    534\u001B[0m         columns \u001B[38;5;241m=\u001B[39m columns(X)\n\u001B[0;32m    535\u001B[0m     all_columns\u001B[38;5;241m.\u001B[39mappend(columns)\n\u001B[1;32m--> 536\u001B[0m     transformer_to_input_indices[name] \u001B[38;5;241m=\u001B[39m _get_column_indices(X, columns)\n\u001B[0;32m    538\u001B[0m \u001B[38;5;28mself\u001B[39m\u001B[38;5;241m.\u001B[39m_columns \u001B[38;5;241m=\u001B[39m all_columns\n\u001B[0;32m    539\u001B[0m \u001B[38;5;28mself\u001B[39m\u001B[38;5;241m.\u001B[39m_transformer_to_input_indices \u001B[38;5;241m=\u001B[39m transformer_to_input_indices\n",
      "File \u001B[1;32m~\\anaconda3\\envs\\Analytics__2024_12_29\\Lib\\site-packages\\sklearn\\utils\\_indexing.py:326\u001B[0m, in \u001B[0;36m_get_column_indices\u001B[1;34m(X, key)\u001B[0m\n\u001B[0;32m    320\u001B[0m \u001B[38;5;28;01mdef\u001B[39;00m \u001B[38;5;21m_get_column_indices\u001B[39m(X, key):\n\u001B[0;32m    321\u001B[0m \u001B[38;5;250m    \u001B[39m\u001B[38;5;124;03m\"\"\"Get feature column indices for input data X and key.\u001B[39;00m\n\u001B[0;32m    322\u001B[0m \n\u001B[0;32m    323\u001B[0m \u001B[38;5;124;03m    For accepted values of `key`, see the docstring of\u001B[39;00m\n\u001B[0;32m    324\u001B[0m \u001B[38;5;124;03m    :func:`_safe_indexing`.\u001B[39;00m\n\u001B[0;32m    325\u001B[0m \u001B[38;5;124;03m    \"\"\"\u001B[39;00m\n\u001B[1;32m--> 326\u001B[0m     key_dtype \u001B[38;5;241m=\u001B[39m _determine_key_type(key)\n\u001B[0;32m    327\u001B[0m     \u001B[38;5;28;01mif\u001B[39;00m _use_interchange_protocol(X):\n\u001B[0;32m    328\u001B[0m         \u001B[38;5;28;01mreturn\u001B[39;00m _get_column_indices_interchange(X\u001B[38;5;241m.\u001B[39m__dataframe__(), key, key_dtype)\n",
      "File \u001B[1;32m~\\anaconda3\\envs\\Analytics__2024_12_29\\Lib\\site-packages\\sklearn\\utils\\_indexing.py:173\u001B[0m, in \u001B[0;36m_determine_key_type\u001B[1;34m(key, accept_slice)\u001B[0m\n\u001B[0;32m    171\u001B[0m         \u001B[38;5;28;01mexcept\u001B[39;00m \u001B[38;5;167;01mKeyError\u001B[39;00m:\n\u001B[0;32m    172\u001B[0m             \u001B[38;5;28;01mraise\u001B[39;00m \u001B[38;5;167;01mValueError\u001B[39;00m(err_msg)\n\u001B[1;32m--> 173\u001B[0m \u001B[38;5;28;01mraise\u001B[39;00m \u001B[38;5;167;01mValueError\u001B[39;00m(err_msg)\n",
      "\u001B[1;31mValueError\u001B[0m: No valid specification of the columns. Only a scalar, list or slice of all integers or all strings, or boolean mask is allowed"
     ]
    }
   ],
   "execution_count": 61
  },
  {
   "metadata": {},
   "cell_type": "code",
   "outputs": [],
   "execution_count": null,
   "source": "",
   "id": "2add44c2e2da8bc2"
  }
 ],
 "metadata": {
  "kernelspec": {
   "display_name": "Python 3",
   "language": "python",
   "name": "python3"
  },
  "language_info": {
   "codemirror_mode": {
    "name": "ipython",
    "version": 2
   },
   "file_extension": ".py",
   "mimetype": "text/x-python",
   "name": "python",
   "nbconvert_exporter": "python",
   "pygments_lexer": "ipython2",
   "version": "2.7.6"
  }
 },
 "nbformat": 4,
 "nbformat_minor": 5
}
