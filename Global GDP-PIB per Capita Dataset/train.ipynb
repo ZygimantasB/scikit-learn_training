{
 "cells": [
  {
   "metadata": {},
   "cell_type": "markdown",
   "source": "# https://www.kaggle.com/datasets/fredericksalazar/global-gdp-pib-per-capita-dataset-1960-present",
   "id": "13efac9c8de96017"
  },
  {
   "cell_type": "code",
   "id": "initial_id",
   "metadata": {
    "collapsed": true,
    "ExecuteTime": {
     "end_time": "2025-02-14T22:17:14.753326Z",
     "start_time": "2025-02-14T22:17:14.749683Z"
    }
   },
   "source": "df_path = r\"F:\\Datasets\\CSV datasets\\pib_per_capita_countries_dataset.csv\"",
   "outputs": [],
   "execution_count": 1
  },
  {
   "metadata": {
    "ExecuteTime": {
     "end_time": "2025-02-14T22:17:45.274240Z",
     "start_time": "2025-02-14T22:17:45.271178Z"
    }
   },
   "cell_type": "code",
   "source": [
    "import seaborn as sns\n",
    "import matplotlib.pyplot as plt\n",
    "import polars as pl\n",
    "import polars.selectors as cs\n",
    "import altair as alt\n",
    "import plotly.express as px\n",
    "import plotly.graph_objects as go\n",
    "import great_tables as tg\n",
    "import datetime as dt\n",
    "import numpy as np"
   ],
   "id": "c420d3ad7523d1bb",
   "outputs": [],
   "execution_count": 4
  },
  {
   "metadata": {
    "ExecuteTime": {
     "end_time": "2025-02-14T22:17:50.350267Z",
     "start_time": "2025-02-14T22:17:50.239487Z"
    }
   },
   "cell_type": "code",
   "source": "df = pl.read_csv(df_path)",
   "id": "b8ac6485b4749f8",
   "outputs": [],
   "execution_count": 5
  },
  {
   "metadata": {
    "ExecuteTime": {
     "end_time": "2025-02-14T22:27:15.933187Z",
     "start_time": "2025-02-14T22:27:15.926801Z"
    }
   },
   "cell_type": "code",
   "source": [
    "df = df.with_columns(\n",
    "    pl.col(\"intermediate_region\").fill_null('UNKNOWN'),\n",
    "    pl.col('region').fill_null('UNKNOWN'),\n",
    "    pl.col('gdp_variation').fill_null(0.0)\n",
    ")"
   ],
   "id": "35778d6f3f23c441",
   "outputs": [],
   "execution_count": 10
  },
  {
   "metadata": {
    "ExecuteTime": {
     "end_time": "2025-02-14T22:28:20.768452Z",
     "start_time": "2025-02-14T22:28:20.761916Z"
    }
   },
   "cell_type": "code",
   "source": "df",
   "id": "e8c73b488c8c4f5e",
   "outputs": [
    {
     "data": {
      "text/plain": [
       "shape: (13_760, 10)\n",
       "┌────────────┬────────────┬────────────┬────────────┬───┬───────────┬──────┬───────────┬───────────┐\n",
       "│ country_co ┆ country_na ┆ region     ┆ sub_region ┆ … ┆ indicator ┆ year ┆ gdp_per_c ┆ gdp_varia │\n",
       "│ de         ┆ me         ┆ ---        ┆ ---        ┆   ┆ _name     ┆ ---  ┆ apita     ┆ tion      │\n",
       "│ ---        ┆ ---        ┆ str        ┆ str        ┆   ┆ ---       ┆ i64  ┆ ---       ┆ ---       │\n",
       "│ str        ┆ str        ┆            ┆            ┆   ┆ str       ┆      ┆ f64       ┆ f64       │\n",
       "╞════════════╪════════════╪════════════╪════════════╪═══╪═══════════╪══════╪═══════════╪═══════════╡\n",
       "│ AFG        ┆ AFGANISTAN ┆ ASIA       ┆ SOUTHERN   ┆ … ┆ PIB PER   ┆ 1960 ┆ 0.0       ┆ 0.0       │\n",
       "│            ┆            ┆ MERIDIONAL ┆ ASIA       ┆   ┆ CAPITA    ┆      ┆           ┆           │\n",
       "│            ┆            ┆            ┆            ┆   ┆ (US$ A    ┆      ┆           ┆           │\n",
       "│            ┆            ┆            ┆            ┆   ┆ PRECIOS … ┆      ┆           ┆           │\n",
       "│ AFG        ┆ AFGANISTAN ┆ ASIA       ┆ SOUTHERN   ┆ … ┆ PIB PER   ┆ 1961 ┆ 0.0       ┆ 0.0       │\n",
       "│            ┆            ┆ MERIDIONAL ┆ ASIA       ┆   ┆ CAPITA    ┆      ┆           ┆           │\n",
       "│            ┆            ┆            ┆            ┆   ┆ (US$ A    ┆      ┆           ┆           │\n",
       "│            ┆            ┆            ┆            ┆   ┆ PRECIOS … ┆      ┆           ┆           │\n",
       "│ AFG        ┆ AFGANISTAN ┆ ASIA       ┆ SOUTHERN   ┆ … ┆ PIB PER   ┆ 1962 ┆ 0.0       ┆ 0.0       │\n",
       "│            ┆            ┆ MERIDIONAL ┆ ASIA       ┆   ┆ CAPITA    ┆      ┆           ┆           │\n",
       "│            ┆            ┆            ┆            ┆   ┆ (US$ A    ┆      ┆           ┆           │\n",
       "│            ┆            ┆            ┆            ┆   ┆ PRECIOS … ┆      ┆           ┆           │\n",
       "│ AFG        ┆ AFGANISTAN ┆ ASIA       ┆ SOUTHERN   ┆ … ┆ PIB PER   ┆ 1963 ┆ 0.0       ┆ 0.0       │\n",
       "│            ┆            ┆ MERIDIONAL ┆ ASIA       ┆   ┆ CAPITA    ┆      ┆           ┆           │\n",
       "│            ┆            ┆            ┆            ┆   ┆ (US$ A    ┆      ┆           ┆           │\n",
       "│            ┆            ┆            ┆            ┆   ┆ PRECIOS … ┆      ┆           ┆           │\n",
       "│ AFG        ┆ AFGANISTAN ┆ ASIA       ┆ SOUTHERN   ┆ … ┆ PIB PER   ┆ 1964 ┆ 0.0       ┆ 0.0       │\n",
       "│            ┆            ┆ MERIDIONAL ┆ ASIA       ┆   ┆ CAPITA    ┆      ┆           ┆           │\n",
       "│            ┆            ┆            ┆            ┆   ┆ (US$ A    ┆      ┆           ┆           │\n",
       "│            ┆            ┆            ┆            ┆   ┆ PRECIOS … ┆      ┆           ┆           │\n",
       "│ …          ┆ …          ┆ …          ┆ …          ┆ … ┆ …         ┆ …    ┆ …         ┆ …         │\n",
       "│ ZWE        ┆ ZIMBABWE   ┆ ÁFRICA AL  ┆ SUB-SAHARA ┆ … ┆ PIB PER   ┆ 2019 ┆ 1684.0279 ┆ -7.78558  │\n",
       "│            ┆            ┆ SUR DEL    ┆ N AFRICA   ┆   ┆ CAPITA    ┆      ┆ 04        ┆           │\n",
       "│            ┆            ┆ SAHARA     ┆            ┆   ┆ (US$ A    ┆      ┆           ┆           │\n",
       "│            ┆            ┆ (EXCL…     ┆            ┆   ┆ PRECIOS … ┆      ┆           ┆           │\n",
       "│ ZWE        ┆ ZIMBABWE   ┆ ÁFRICA AL  ┆ SUB-SAHARA ┆ … ┆ PIB PER   ┆ 2020 ┆ 1730.4134 ┆ -9.333971 │\n",
       "│            ┆            ┆ SUR DEL    ┆ N AFRICA   ┆   ┆ CAPITA    ┆      ┆ 89        ┆           │\n",
       "│            ┆            ┆ SAHARA     ┆            ┆   ┆ (US$ A    ┆      ┆           ┆           │\n",
       "│            ┆            ┆ (EXCL…     ┆            ┆   ┆ PRECIOS … ┆      ┆           ┆           │\n",
       "│ ZWE        ┆ ZIMBABWE   ┆ ÁFRICA AL  ┆ SUB-SAHARA ┆ … ┆ PIB PER   ┆ 2021 ┆ 1724.3877 ┆ 6.611911  │\n",
       "│            ┆            ┆ SUR DEL    ┆ N AFRICA   ┆   ┆ CAPITA    ┆      ┆ 31        ┆           │\n",
       "│            ┆            ┆ SAHARA     ┆            ┆   ┆ (US$ A    ┆      ┆           ┆           │\n",
       "│            ┆            ┆ (EXCL…     ┆            ┆   ┆ PRECIOS … ┆      ┆           ┆           │\n",
       "│ ZWE        ┆ ZIMBABWE   ┆ ÁFRICA AL  ┆ SUB-SAHARA ┆ … ┆ PIB PER   ┆ 2022 ┆ 2040.5524 ┆ 4.343667  │\n",
       "│            ┆            ┆ SUR DEL    ┆ N AFRICA   ┆   ┆ CAPITA    ┆      ┆ 59        ┆           │\n",
       "│            ┆            ┆ SAHARA     ┆            ┆   ┆ (US$ A    ┆      ┆           ┆           │\n",
       "│            ┆            ┆ (EXCL…     ┆            ┆   ┆ PRECIOS … ┆      ┆           ┆           │\n",
       "│ ZWE        ┆ ZIMBABWE   ┆ ÁFRICA AL  ┆ SUB-SAHARA ┆ … ┆ PIB PER   ┆ 2023 ┆ 2156.0340 ┆ 0.0       │\n",
       "│            ┆            ┆ SUR DEL    ┆ N AFRICA   ┆   ┆ CAPITA    ┆      ┆ 04        ┆           │\n",
       "│            ┆            ┆ SAHARA     ┆            ┆   ┆ (US$ A    ┆      ┆           ┆           │\n",
       "│            ┆            ┆ (EXCL…     ┆            ┆   ┆ PRECIOS … ┆      ┆           ┆           │\n",
       "└────────────┴────────────┴────────────┴────────────┴───┴───────────┴──────┴───────────┴───────────┘"
      ],
      "text/html": [
       "<div><style>\n",
       ".dataframe > thead > tr,\n",
       ".dataframe > tbody > tr {\n",
       "  text-align: right;\n",
       "  white-space: pre-wrap;\n",
       "}\n",
       "</style>\n",
       "<small>shape: (13_760, 10)</small><table border=\"1\" class=\"dataframe\"><thead><tr><th>country_code</th><th>country_name</th><th>region</th><th>sub_region</th><th>intermediate_region</th><th>indicator_code</th><th>indicator_name</th><th>year</th><th>gdp_per_capita</th><th>gdp_variation</th></tr><tr><td>str</td><td>str</td><td>str</td><td>str</td><td>str</td><td>str</td><td>str</td><td>i64</td><td>f64</td><td>f64</td></tr></thead><tbody><tr><td>&quot;AFG&quot;</td><td>&quot;AFGANISTAN&quot;</td><td>&quot;ASIA MERIDIONAL&quot;</td><td>&quot;SOUTHERN ASIA&quot;</td><td>&quot;UNKNOWN&quot;</td><td>&quot;NY.GDP.PCAP.CD&quot;</td><td>&quot;PIB PER CAPITA (US$ A PRECIOS …</td><td>1960</td><td>0.0</td><td>0.0</td></tr><tr><td>&quot;AFG&quot;</td><td>&quot;AFGANISTAN&quot;</td><td>&quot;ASIA MERIDIONAL&quot;</td><td>&quot;SOUTHERN ASIA&quot;</td><td>&quot;UNKNOWN&quot;</td><td>&quot;NY.GDP.PCAP.CD&quot;</td><td>&quot;PIB PER CAPITA (US$ A PRECIOS …</td><td>1961</td><td>0.0</td><td>0.0</td></tr><tr><td>&quot;AFG&quot;</td><td>&quot;AFGANISTAN&quot;</td><td>&quot;ASIA MERIDIONAL&quot;</td><td>&quot;SOUTHERN ASIA&quot;</td><td>&quot;UNKNOWN&quot;</td><td>&quot;NY.GDP.PCAP.CD&quot;</td><td>&quot;PIB PER CAPITA (US$ A PRECIOS …</td><td>1962</td><td>0.0</td><td>0.0</td></tr><tr><td>&quot;AFG&quot;</td><td>&quot;AFGANISTAN&quot;</td><td>&quot;ASIA MERIDIONAL&quot;</td><td>&quot;SOUTHERN ASIA&quot;</td><td>&quot;UNKNOWN&quot;</td><td>&quot;NY.GDP.PCAP.CD&quot;</td><td>&quot;PIB PER CAPITA (US$ A PRECIOS …</td><td>1963</td><td>0.0</td><td>0.0</td></tr><tr><td>&quot;AFG&quot;</td><td>&quot;AFGANISTAN&quot;</td><td>&quot;ASIA MERIDIONAL&quot;</td><td>&quot;SOUTHERN ASIA&quot;</td><td>&quot;UNKNOWN&quot;</td><td>&quot;NY.GDP.PCAP.CD&quot;</td><td>&quot;PIB PER CAPITA (US$ A PRECIOS …</td><td>1964</td><td>0.0</td><td>0.0</td></tr><tr><td>&hellip;</td><td>&hellip;</td><td>&hellip;</td><td>&hellip;</td><td>&hellip;</td><td>&hellip;</td><td>&hellip;</td><td>&hellip;</td><td>&hellip;</td><td>&hellip;</td></tr><tr><td>&quot;ZWE&quot;</td><td>&quot;ZIMBABWE&quot;</td><td>&quot;ÁFRICA AL SUR DEL SAHARA (EXCL…</td><td>&quot;SUB-SAHARAN AFRICA&quot;</td><td>&quot;EASTERN AFRICA&quot;</td><td>&quot;NY.GDP.PCAP.CD&quot;</td><td>&quot;PIB PER CAPITA (US$ A PRECIOS …</td><td>2019</td><td>1684.027904</td><td>-7.78558</td></tr><tr><td>&quot;ZWE&quot;</td><td>&quot;ZIMBABWE&quot;</td><td>&quot;ÁFRICA AL SUR DEL SAHARA (EXCL…</td><td>&quot;SUB-SAHARAN AFRICA&quot;</td><td>&quot;EASTERN AFRICA&quot;</td><td>&quot;NY.GDP.PCAP.CD&quot;</td><td>&quot;PIB PER CAPITA (US$ A PRECIOS …</td><td>2020</td><td>1730.413489</td><td>-9.333971</td></tr><tr><td>&quot;ZWE&quot;</td><td>&quot;ZIMBABWE&quot;</td><td>&quot;ÁFRICA AL SUR DEL SAHARA (EXCL…</td><td>&quot;SUB-SAHARAN AFRICA&quot;</td><td>&quot;EASTERN AFRICA&quot;</td><td>&quot;NY.GDP.PCAP.CD&quot;</td><td>&quot;PIB PER CAPITA (US$ A PRECIOS …</td><td>2021</td><td>1724.387731</td><td>6.611911</td></tr><tr><td>&quot;ZWE&quot;</td><td>&quot;ZIMBABWE&quot;</td><td>&quot;ÁFRICA AL SUR DEL SAHARA (EXCL…</td><td>&quot;SUB-SAHARAN AFRICA&quot;</td><td>&quot;EASTERN AFRICA&quot;</td><td>&quot;NY.GDP.PCAP.CD&quot;</td><td>&quot;PIB PER CAPITA (US$ A PRECIOS …</td><td>2022</td><td>2040.552459</td><td>4.343667</td></tr><tr><td>&quot;ZWE&quot;</td><td>&quot;ZIMBABWE&quot;</td><td>&quot;ÁFRICA AL SUR DEL SAHARA (EXCL…</td><td>&quot;SUB-SAHARAN AFRICA&quot;</td><td>&quot;EASTERN AFRICA&quot;</td><td>&quot;NY.GDP.PCAP.CD&quot;</td><td>&quot;PIB PER CAPITA (US$ A PRECIOS …</td><td>2023</td><td>2156.034004</td><td>0.0</td></tr></tbody></table></div>"
      ]
     },
     "execution_count": 11,
     "metadata": {},
     "output_type": "execute_result"
    }
   ],
   "execution_count": 11
  }
 ],
 "metadata": {
  "kernelspec": {
   "display_name": "Python 3",
   "language": "python",
   "name": "python3"
  },
  "language_info": {
   "codemirror_mode": {
    "name": "ipython",
    "version": 2
   },
   "file_extension": ".py",
   "mimetype": "text/x-python",
   "name": "python",
   "nbconvert_exporter": "python",
   "pygments_lexer": "ipython2",
   "version": "2.7.6"
  }
 },
 "nbformat": 4,
 "nbformat_minor": 5
}
