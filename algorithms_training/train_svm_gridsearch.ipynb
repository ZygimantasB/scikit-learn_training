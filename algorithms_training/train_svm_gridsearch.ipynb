{
 "cells": [
  {
   "cell_type": "code",
   "id": "initial_id",
   "metadata": {
    "collapsed": true,
    "ExecuteTime": {
     "end_time": "2024-09-29T15:37:33.974344Z",
     "start_time": "2024-09-29T15:37:33.971243Z"
    }
   },
   "source": [
    "import pandas as pd\n",
    "import seaborn as sns\n",
    "import matplotlib.pyplot as plt\n",
    "import polars as pl\n",
    "import numpy as np\n",
    "\n",
    "import polars.selectors as cs"
   ],
   "outputs": [],
   "execution_count": 4
  },
  {
   "metadata": {
    "ExecuteTime": {
     "end_time": "2024-09-29T15:37:34.002341Z",
     "start_time": "2024-09-29T15:37:33.999463Z"
    }
   },
   "cell_type": "code",
   "source": "df_path = r\"C:\\Users\\Zygim\\Downloads\\archive (1)\\bitcoin_2010-07-17_2024-06-28.csv\"",
   "id": "292eb3f85fb65ec2",
   "outputs": [],
   "execution_count": 5
  },
  {
   "metadata": {
    "ExecuteTime": {
     "end_time": "2024-09-29T15:37:34.026718Z",
     "start_time": "2024-09-29T15:37:34.017524Z"
    }
   },
   "cell_type": "code",
   "source": "df = pl.read_csv(df_path)",
   "id": "b8b8d2c7398099c6",
   "outputs": [],
   "execution_count": 6
  },
  {
   "metadata": {},
   "cell_type": "markdown",
   "source": "# Data Preprocessing",
   "id": "eceffda560ed5afb"
  },
  {
   "metadata": {},
   "cell_type": "markdown",
   "source": "## 1. Handling Missing Data: Check for missing values in the dataset and handle them using imputation techniques like SimpleImputer from Scikit-learn. Try using both mean and median for imputation.",
   "id": "ffc57db88ca70b94"
  },
  {
   "metadata": {
    "ExecuteTime": {
     "end_time": "2024-09-29T15:37:34.046029Z",
     "start_time": "2024-09-29T15:37:34.040249Z"
    }
   },
   "cell_type": "code",
   "source": "df.null_count()",
   "id": "c9765c7687303b71",
   "outputs": [
    {
     "data": {
      "text/plain": [
       "shape: (1, 8)\n",
       "┌───────┬─────┬──────┬──────┬─────┬───────┬────────┬────────────┐\n",
       "│ Start ┆ End ┆ Open ┆ High ┆ Low ┆ Close ┆ Volume ┆ Market Cap │\n",
       "│ ---   ┆ --- ┆ ---  ┆ ---  ┆ --- ┆ ---   ┆ ---    ┆ ---        │\n",
       "│ u32   ┆ u32 ┆ u32  ┆ u32  ┆ u32 ┆ u32   ┆ u32    ┆ u32        │\n",
       "╞═══════╪═════╪══════╪══════╪═════╪═══════╪════════╪════════════╡\n",
       "│ 0     ┆ 0   ┆ 0    ┆ 0    ┆ 0   ┆ 0     ┆ 0      ┆ 0          │\n",
       "└───────┴─────┴──────┴──────┴─────┴───────┴────────┴────────────┘"
      ],
      "text/html": [
       "<div><style>\n",
       ".dataframe > thead > tr,\n",
       ".dataframe > tbody > tr {\n",
       "  text-align: right;\n",
       "  white-space: pre-wrap;\n",
       "}\n",
       "</style>\n",
       "<small>shape: (1, 8)</small><table border=\"1\" class=\"dataframe\"><thead><tr><th>Start</th><th>End</th><th>Open</th><th>High</th><th>Low</th><th>Close</th><th>Volume</th><th>Market Cap</th></tr><tr><td>u32</td><td>u32</td><td>u32</td><td>u32</td><td>u32</td><td>u32</td><td>u32</td><td>u32</td></tr></thead><tbody><tr><td>0</td><td>0</td><td>0</td><td>0</td><td>0</td><td>0</td><td>0</td><td>0</td></tr></tbody></table></div>"
      ]
     },
     "execution_count": 7,
     "metadata": {},
     "output_type": "execute_result"
    }
   ],
   "execution_count": 7
  },
  {
   "metadata": {},
   "cell_type": "markdown",
   "source": "## 2. Feature Scaling: Scale the Open, Close, High, Low, Volume, and Market Cap features using StandardScaler and MinMaxScaler. Compare the differences.",
   "id": "3c51d3387c889544"
  },
  {
   "metadata": {
    "ExecuteTime": {
     "end_time": "2024-09-29T15:37:34.543854Z",
     "start_time": "2024-09-29T15:37:34.083120Z"
    }
   },
   "cell_type": "code",
   "source": "from sklearn.preprocessing import StandardScaler, MinMaxScaler",
   "id": "e59122f6844725e3",
   "outputs": [],
   "execution_count": 8
  },
  {
   "metadata": {
    "ExecuteTime": {
     "end_time": "2024-09-29T15:37:34.567793Z",
     "start_time": "2024-09-29T15:37:34.562397Z"
    }
   },
   "cell_type": "code",
   "source": "df",
   "id": "186e9aa3dfb9b632",
   "outputs": [
    {
     "data": {
      "text/plain": [
       "shape: (5_095, 8)\n",
       "┌────────────┬────────────┬──────────┬──────────┬──────────┬──────────┬───────────┬────────────┐\n",
       "│ Start      ┆ End        ┆ Open     ┆ High     ┆ Low      ┆ Close    ┆ Volume    ┆ Market Cap │\n",
       "│ ---        ┆ ---        ┆ ---      ┆ ---      ┆ ---      ┆ ---      ┆ ---       ┆ ---        │\n",
       "│ str        ┆ str        ┆ f64      ┆ f64      ┆ f64      ┆ f64      ┆ f64       ┆ f64        │\n",
       "╞════════════╪════════════╪══════════╪══════════╪══════════╪══════════╪═══════════╪════════════╡\n",
       "│ 2024-06-27 ┆ 2024-06-28 ┆ 60882.9  ┆ 62338.43 ┆ 60666.19 ┆ 61646.05 ┆ 1.2159e11 ┆ 1.2084e12  │\n",
       "│ 2024-06-26 ┆ 2024-06-27 ┆ 61733.99 ┆ 62357.58 ┆ 60761.24 ┆ 60761.24 ┆ 1.0176e11 ┆ 1.2105e12  │\n",
       "│ 2024-06-25 ┆ 2024-06-26 ┆ 60317.99 ┆ 62231.16 ┆ 60272.58 ┆ 61789.98 ┆ 1.0503e11 ┆ 1.2084e12  │\n",
       "│ 2024-06-24 ┆ 2024-06-25 ┆ 63168.03 ┆ 63316.01 ┆ 58946.24 ┆ 60382.81 ┆ 8.8284e10 ┆ 1.2111e12  │\n",
       "│ 2024-06-23 ┆ 2024-06-24 ┆ 64276.04 ┆ 64521.03 ┆ 63290.43 ┆ 63290.43 ┆ 6.8539e10 ┆ 1.2653e12  │\n",
       "│ …          ┆ …          ┆ …        ┆ …        ┆ …        ┆ …        ┆ …         ┆ …          │\n",
       "│ 2010-07-21 ┆ 2010-07-22 ┆ 0.0792   ┆ 0.0792   ┆ 0.0792   ┆ 0.0792   ┆ 0.0       ┆ 0.0        │\n",
       "│ 2010-07-20 ┆ 2010-07-21 ┆ 0.0747   ┆ 0.0747   ┆ 0.0747   ┆ 0.0747   ┆ 0.0       ┆ 0.0        │\n",
       "│ 2010-07-19 ┆ 2010-07-20 ┆ 0.0808   ┆ 0.0808   ┆ 0.0808   ┆ 0.0808   ┆ 0.0       ┆ 0.0        │\n",
       "│ 2010-07-18 ┆ 2010-07-19 ┆ 0.0858   ┆ 0.0858   ┆ 0.0858   ┆ 0.0858   ┆ 0.0       ┆ 0.0        │\n",
       "│ 2010-07-17 ┆ 2010-07-18 ┆ 0.05     ┆ 0.05     ┆ 0.05     ┆ 0.05     ┆ 0.0       ┆ 0.0        │\n",
       "└────────────┴────────────┴──────────┴──────────┴──────────┴──────────┴───────────┴────────────┘"
      ],
      "text/html": [
       "<div><style>\n",
       ".dataframe > thead > tr,\n",
       ".dataframe > tbody > tr {\n",
       "  text-align: right;\n",
       "  white-space: pre-wrap;\n",
       "}\n",
       "</style>\n",
       "<small>shape: (5_095, 8)</small><table border=\"1\" class=\"dataframe\"><thead><tr><th>Start</th><th>End</th><th>Open</th><th>High</th><th>Low</th><th>Close</th><th>Volume</th><th>Market Cap</th></tr><tr><td>str</td><td>str</td><td>f64</td><td>f64</td><td>f64</td><td>f64</td><td>f64</td><td>f64</td></tr></thead><tbody><tr><td>&quot;2024-06-27&quot;</td><td>&quot;2024-06-28&quot;</td><td>60882.9</td><td>62338.43</td><td>60666.19</td><td>61646.05</td><td>1.2159e11</td><td>1.2084e12</td></tr><tr><td>&quot;2024-06-26&quot;</td><td>&quot;2024-06-27&quot;</td><td>61733.99</td><td>62357.58</td><td>60761.24</td><td>60761.24</td><td>1.0176e11</td><td>1.2105e12</td></tr><tr><td>&quot;2024-06-25&quot;</td><td>&quot;2024-06-26&quot;</td><td>60317.99</td><td>62231.16</td><td>60272.58</td><td>61789.98</td><td>1.0503e11</td><td>1.2084e12</td></tr><tr><td>&quot;2024-06-24&quot;</td><td>&quot;2024-06-25&quot;</td><td>63168.03</td><td>63316.01</td><td>58946.24</td><td>60382.81</td><td>8.8284e10</td><td>1.2111e12</td></tr><tr><td>&quot;2024-06-23&quot;</td><td>&quot;2024-06-24&quot;</td><td>64276.04</td><td>64521.03</td><td>63290.43</td><td>63290.43</td><td>6.8539e10</td><td>1.2653e12</td></tr><tr><td>&hellip;</td><td>&hellip;</td><td>&hellip;</td><td>&hellip;</td><td>&hellip;</td><td>&hellip;</td><td>&hellip;</td><td>&hellip;</td></tr><tr><td>&quot;2010-07-21&quot;</td><td>&quot;2010-07-22&quot;</td><td>0.0792</td><td>0.0792</td><td>0.0792</td><td>0.0792</td><td>0.0</td><td>0.0</td></tr><tr><td>&quot;2010-07-20&quot;</td><td>&quot;2010-07-21&quot;</td><td>0.0747</td><td>0.0747</td><td>0.0747</td><td>0.0747</td><td>0.0</td><td>0.0</td></tr><tr><td>&quot;2010-07-19&quot;</td><td>&quot;2010-07-20&quot;</td><td>0.0808</td><td>0.0808</td><td>0.0808</td><td>0.0808</td><td>0.0</td><td>0.0</td></tr><tr><td>&quot;2010-07-18&quot;</td><td>&quot;2010-07-19&quot;</td><td>0.0858</td><td>0.0858</td><td>0.0858</td><td>0.0858</td><td>0.0</td><td>0.0</td></tr><tr><td>&quot;2010-07-17&quot;</td><td>&quot;2010-07-18&quot;</td><td>0.05</td><td>0.05</td><td>0.05</td><td>0.05</td><td>0.0</td><td>0.0</td></tr></tbody></table></div>"
      ]
     },
     "execution_count": 9,
     "metadata": {},
     "output_type": "execute_result"
    }
   ],
   "execution_count": 9
  },
  {
   "metadata": {
    "ExecuteTime": {
     "end_time": "2024-09-29T15:37:34.677273Z",
     "start_time": "2024-09-29T15:37:34.673946Z"
    }
   },
   "cell_type": "code",
   "source": [
    "standard_scaler = StandardScaler()\n",
    "min_max_scaler = MinMaxScaler()"
   ],
   "id": "5cb52bf87aa82d4",
   "outputs": [],
   "execution_count": 10
  },
  {
   "metadata": {
    "ExecuteTime": {
     "end_time": "2024-09-29T15:37:34.807491Z",
     "start_time": "2024-09-29T15:37:34.802558Z"
    }
   },
   "cell_type": "code",
   "source": "df.columns",
   "id": "dcc8617f12c891a4",
   "outputs": [
    {
     "data": {
      "text/plain": [
       "['Start', 'End', 'Open', 'High', 'Low', 'Close', 'Volume', 'Market Cap']"
      ]
     },
     "execution_count": 11,
     "metadata": {},
     "output_type": "execute_result"
    }
   ],
   "execution_count": 11
  },
  {
   "metadata": {
    "ExecuteTime": {
     "end_time": "2024-09-29T15:37:34.882237Z",
     "start_time": "2024-09-29T15:37:34.878117Z"
    }
   },
   "cell_type": "code",
   "source": "features = ['Open', 'Close', 'High', 'Low',]",
   "id": "bbeda84b0a1ed6f3",
   "outputs": [],
   "execution_count": 12
  },
  {
   "metadata": {
    "ExecuteTime": {
     "end_time": "2024-09-29T15:37:34.986355Z",
     "start_time": "2024-09-29T15:37:34.983680Z"
    }
   },
   "cell_type": "code",
   "source": "data_features = df[features]",
   "id": "fe122ba3b3385a20",
   "outputs": [],
   "execution_count": 13
  },
  {
   "metadata": {
    "ExecuteTime": {
     "end_time": "2024-09-29T15:37:35.029964Z",
     "start_time": "2024-09-29T15:37:35.012085Z"
    }
   },
   "cell_type": "code",
   "source": "data_standard_scaler = standard_scaler.fit_transform(data_features)",
   "id": "a0c6b40e7c5ab18d",
   "outputs": [],
   "execution_count": 14
  },
  {
   "metadata": {
    "ExecuteTime": {
     "end_time": "2024-09-29T15:37:35.049744Z",
     "start_time": "2024-09-29T15:37:35.045654Z"
    }
   },
   "cell_type": "code",
   "source": "data_minmax_scaled = min_max_scaler.fit_transform(data_features)",
   "id": "7070e5509a91ea6a",
   "outputs": [],
   "execution_count": 15
  },
  {
   "metadata": {
    "ExecuteTime": {
     "end_time": "2024-09-29T15:37:35.060273Z",
     "start_time": "2024-09-29T15:37:35.057098Z"
    }
   },
   "cell_type": "code",
   "source": "data_standard_scaled_df = pl.DataFrame(data_standard_scaler, schema=features)",
   "id": "369937209c1b9062",
   "outputs": [],
   "execution_count": 16
  },
  {
   "metadata": {
    "ExecuteTime": {
     "end_time": "2024-09-29T15:37:35.070664Z",
     "start_time": "2024-09-29T15:37:35.067920Z"
    }
   },
   "cell_type": "code",
   "source": "data_min_max_scaled_df = pl.DataFrame(data_minmax_scaled, schema=features)",
   "id": "c19a21758bc09dab",
   "outputs": [],
   "execution_count": 17
  },
  {
   "metadata": {
    "ExecuteTime": {
     "end_time": "2024-09-29T15:37:35.083138Z",
     "start_time": "2024-09-29T15:37:35.077995Z"
    }
   },
   "cell_type": "code",
   "source": [
    "print(\"Standard Scaled Data (First 5 rows):\")\n",
    "data_standard_scaled_df.head()"
   ],
   "id": "180482c5ede6be25",
   "outputs": [
    {
     "name": "stdout",
     "output_type": "stream",
     "text": [
      "Standard Scaled Data (First 5 rows):\n"
     ]
    },
    {
     "data": {
      "text/plain": [
       "shape: (5, 4)\n",
       "┌──────────┬──────────┬──────────┬──────────┐\n",
       "│ Open     ┆ Close    ┆ High     ┆ Low      │\n",
       "│ ---      ┆ ---      ┆ ---      ┆ ---      │\n",
       "│ f64      ┆ f64      ┆ f64      ┆ f64      │\n",
       "╞══════════╪══════════╪══════════╪══════════╡\n",
       "│ 2.815638 ┆ 2.856053 ┆ 2.820294 ┆ 2.888499 │\n",
       "│ 2.864492 ┆ 2.80531  ┆ 2.821369 ┆ 2.894088 │\n",
       "│ 2.783211 ┆ 2.864307 ┆ 2.814271 ┆ 2.865352 │\n",
       "│ 2.946809 ┆ 2.783607 ┆ 2.875176 ┆ 2.787355 │\n",
       "│ 3.010411 ┆ 2.950357 ┆ 2.942828 ┆ 3.04282  │\n",
       "└──────────┴──────────┴──────────┴──────────┘"
      ],
      "text/html": [
       "<div><style>\n",
       ".dataframe > thead > tr,\n",
       ".dataframe > tbody > tr {\n",
       "  text-align: right;\n",
       "  white-space: pre-wrap;\n",
       "}\n",
       "</style>\n",
       "<small>shape: (5, 4)</small><table border=\"1\" class=\"dataframe\"><thead><tr><th>Open</th><th>Close</th><th>High</th><th>Low</th></tr><tr><td>f64</td><td>f64</td><td>f64</td><td>f64</td></tr></thead><tbody><tr><td>2.815638</td><td>2.856053</td><td>2.820294</td><td>2.888499</td></tr><tr><td>2.864492</td><td>2.80531</td><td>2.821369</td><td>2.894088</td></tr><tr><td>2.783211</td><td>2.864307</td><td>2.814271</td><td>2.865352</td></tr><tr><td>2.946809</td><td>2.783607</td><td>2.875176</td><td>2.787355</td></tr><tr><td>3.010411</td><td>2.950357</td><td>2.942828</td><td>3.04282</td></tr></tbody></table></div>"
      ]
     },
     "execution_count": 18,
     "metadata": {},
     "output_type": "execute_result"
    }
   ],
   "execution_count": 18
  },
  {
   "metadata": {
    "ExecuteTime": {
     "end_time": "2024-09-29T15:37:35.121089Z",
     "start_time": "2024-09-29T15:37:35.115980Z"
    }
   },
   "cell_type": "code",
   "source": [
    "print(\"\\nMinMax Scaled Data (First 5 rows):\")\n",
    "data_min_max_scaled_df.head()"
   ],
   "id": "e7262279069e0efa",
   "outputs": [
    {
     "name": "stdout",
     "output_type": "stream",
     "text": [
      "\n",
      "MinMax Scaled Data (First 5 rows):\n"
     ]
    },
    {
     "data": {
      "text/plain": [
       "shape: (5, 4)\n",
       "┌──────────┬──────────┬──────────┬──────────┐\n",
       "│ Open     ┆ Close    ┆ High     ┆ Low      │\n",
       "│ ---      ┆ ---      ┆ ---      ┆ ---      │\n",
       "│ f64      ┆ f64      ┆ f64      ┆ f64      │\n",
       "╞══════════╪══════════╪══════════╪══════════╡\n",
       "│ 0.834458 ┆ 0.84345  ┆ 0.846662 ┆ 0.85046  │\n",
       "│ 0.846123 ┆ 0.831344 ┆ 0.846922 ┆ 0.851793 │\n",
       "│ 0.826715 ┆ 0.845419 ┆ 0.845205 ┆ 0.844942 │\n",
       "│ 0.865778 ┆ 0.826166 ┆ 0.85994  ┆ 0.826349 │\n",
       "│ 0.880964 ┆ 0.865949 ┆ 0.876306 ┆ 0.887249 │\n",
       "└──────────┴──────────┴──────────┴──────────┘"
      ],
      "text/html": [
       "<div><style>\n",
       ".dataframe > thead > tr,\n",
       ".dataframe > tbody > tr {\n",
       "  text-align: right;\n",
       "  white-space: pre-wrap;\n",
       "}\n",
       "</style>\n",
       "<small>shape: (5, 4)</small><table border=\"1\" class=\"dataframe\"><thead><tr><th>Open</th><th>Close</th><th>High</th><th>Low</th></tr><tr><td>f64</td><td>f64</td><td>f64</td><td>f64</td></tr></thead><tbody><tr><td>0.834458</td><td>0.84345</td><td>0.846662</td><td>0.85046</td></tr><tr><td>0.846123</td><td>0.831344</td><td>0.846922</td><td>0.851793</td></tr><tr><td>0.826715</td><td>0.845419</td><td>0.845205</td><td>0.844942</td></tr><tr><td>0.865778</td><td>0.826166</td><td>0.85994</td><td>0.826349</td></tr><tr><td>0.880964</td><td>0.865949</td><td>0.876306</td><td>0.887249</td></tr></tbody></table></div>"
      ]
     },
     "execution_count": 19,
     "metadata": {},
     "output_type": "execute_result"
    }
   ],
   "execution_count": 19
  },
  {
   "metadata": {
    "ExecuteTime": {
     "end_time": "2024-09-29T15:37:35.386675Z",
     "start_time": "2024-09-29T15:37:35.165616Z"
    }
   },
   "cell_type": "code",
   "source": [
    "plt.figure(figsize=(12,6))\n",
    "plt.plot(data_standard_scaled_df['Open'], label='Standard Scaled Open')\n",
    "plt.plot(data_min_max_scaled_df['Open'], label='MinMax Scaled Open', linestyle='--')\n",
    "plt.title('Comparison of Scaling (Open Price)')\n",
    "plt.legend()\n",
    "plt.show()"
   ],
   "id": "e55608f3d0838a34",
   "outputs": [
    {
     "data": {
      "text/plain": [
       "<Figure size 1200x600 with 1 Axes>"
      ],
      "image/png": "[encoded data removed]"
     },
     "metadata": {},
     "output_type": "display_data"
    }
   ],
   "execution_count": 20
  },
  {
   "metadata": {},
   "cell_type": "markdown",
   "source": "## 3. Train-Test Split: Split the dataset into a training and testing set using train_test_split for later model training (e.g., 80/20 split).",
   "id": "832ed26e39c14573"
  },
  {
   "metadata": {
    "ExecuteTime": {
     "end_time": "2024-09-29T15:55:34.740791Z",
     "start_time": "2024-09-29T15:55:29.717981Z"
    }
   },
   "cell_type": "code",
   "source": "from sklearn.model_selection import train_test_split",
   "id": "f9a35364e30069f1",
   "outputs": [],
   "execution_count": 21
  },
  {
   "metadata": {
    "ExecuteTime": {
     "end_time": "2024-09-29T16:00:12.387149Z",
     "start_time": "2024-09-29T16:00:12.382918Z"
    }
   },
   "cell_type": "code",
   "source": [
    "X = df['Open', 'High', 'Low', 'Volume', 'Market Cap']\n",
    "y = df['Close']"
   ],
   "id": "c4e5a6f578ac729f",
   "outputs": [],
   "execution_count": 26
  },
  {
   "metadata": {
    "ExecuteTime": {
     "end_time": "2024-09-29T16:00:54.230083Z",
     "start_time": "2024-09-29T16:00:54.225355Z"
    }
   },
   "cell_type": "code",
   "source": "X_train, X_test, y_train, y_test = train_test_split(X, y, test_size=0.2, random_state=42) ",
   "id": "10b90afc7629e1b7",
   "outputs": [],
   "execution_count": 28
  },
  {
   "metadata": {},
   "cell_type": "markdown",
   "source": "## 4. Feature Selection: Use SelectKBest to select the top 3 features with the highest correlation with the Close price.",
   "id": "bfa404362b012cc6"
  },
  {
   "metadata": {
    "ExecuteTime": {
     "end_time": "2024-09-29T16:02:16.076275Z",
     "start_time": "2024-09-29T16:02:11.542635Z"
    }
   },
   "cell_type": "code",
   "source": "from sklearn.feature_selection import SelectKBest, f_regression",
   "id": "66500549c79ac817",
   "outputs": [],
   "execution_count": 29
  },
  {
   "metadata": {
    "ExecuteTime": {
     "end_time": "2024-09-29T16:03:39.123936Z",
     "start_time": "2024-09-29T16:03:39.119285Z"
    }
   },
   "cell_type": "code",
   "source": [
    "selector = SelectKBest(score_func=f_regression, k=3)\n",
    "X_new = selector.fit_transform(X, y)"
   ],
   "id": "3b3abce420a607c4",
   "outputs": [],
   "execution_count": 30
  },
  {
   "metadata": {
    "ExecuteTime": {
     "end_time": "2024-09-29T16:04:24.895738Z",
     "start_time": "2024-09-29T16:04:24.892721Z"
    }
   },
   "cell_type": "code",
   "source": "selected_features = selector.get_support(indices=True)",
   "id": "ecd9a107b167ddcc",
   "outputs": [],
   "execution_count": 31
  },
  {
   "metadata": {
    "ExecuteTime": {
     "end_time": "2024-09-29T16:07:26.567904Z",
     "start_time": "2024-09-29T16:07:26.564511Z"
    }
   },
   "cell_type": "code",
   "source": "selected_feature_names = [X.columns[i] for i in selected_features]",
   "id": "872a2e721321c3cd",
   "outputs": [],
   "execution_count": 39
  },
  {
   "metadata": {
    "ExecuteTime": {
     "end_time": "2024-09-29T16:07:27.044154Z",
     "start_time": "2024-09-29T16:07:27.040697Z"
    }
   },
   "cell_type": "code",
   "source": "feature_scores = selector.scores_[selected_features]",
   "id": "4fbd9c7e5aea02e3",
   "outputs": [],
   "execution_count": 40
  },
  {
   "metadata": {
    "ExecuteTime": {
     "end_time": "2024-09-29T16:07:27.712249Z",
     "start_time": "2024-09-29T16:07:27.708742Z"
    }
   },
   "cell_type": "code",
   "source": [
    "print(\"Selected Features:\", selected_feature_names)\n",
    "print(\"Feature Scores:\", feature_scores)"
   ],
   "id": "f6bea13565f5e709",
   "outputs": [
    {
     "name": "stdout",
     "output_type": "stream",
     "text": [
      "Selected Features: ['High', 'Low', 'Market Cap']\n",
      "Feature Scores: [7006727.53494289 5880391.39349542 3463739.76634108]\n"
     ]
    }
   ],
   "execution_count": 41
  },
  {
   "metadata": {
    "ExecuteTime": {
     "end_time": "2024-09-29T16:07:51.573177Z",
     "start_time": "2024-09-29T16:07:51.565250Z"
    }
   },
   "cell_type": "code",
   "source": [
    "print(\"\\nDataset with top 3 selected features:\")\n",
    "print(pd.DataFrame(X_new, columns=selected_feature_names).head())"
   ],
   "id": "ee2e5053724194b4",
   "outputs": [
    {
     "name": "stdout",
     "output_type": "stream",
     "text": [
      "\n",
      "Dataset with top 3 selected features:\n",
      "       High       Low    Market Cap\n",
      "0  62338.43  60666.19  1.208392e+12\n",
      "1  62357.58  60761.24  1.210544e+12\n",
      "2  62231.16  60272.58  1.208415e+12\n",
      "3  63316.01  58946.24  1.211101e+12\n",
      "4  64521.03  63290.43  1.265327e+12\n"
     ]
    }
   ],
   "execution_count": 42
  }
 ],
 "metadata": {
  "kernelspec": {
   "display_name": "Python 3",
   "language": "python",
   "name": "python3"
  },
  "language_info": {
   "codemirror_mode": {
    "name": "ipython",
    "version": 2
   },
   "file_extension": ".py",
   "mimetype": "text/x-python",
   "name": "python",
   "nbconvert_exporter": "python",
   "pygments_lexer": "ipython2",
   "version": "2.7.6"
  }
 },
 "nbformat": 4,
 "nbformat_minor": 5
}
