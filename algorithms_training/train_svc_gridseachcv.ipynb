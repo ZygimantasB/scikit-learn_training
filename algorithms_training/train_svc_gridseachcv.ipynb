{
 "cells": [
  {
   "metadata": {},
   "cell_type": "markdown",
   "source": "## https://www.kaggle.com/datasets/cameronseamons/electronic-sales-sep2023-sep2024",
   "id": "470fd44b1ce0d6b3"
  },
  {
   "cell_type": "code",
   "id": "initial_id",
   "metadata": {
    "collapsed": true,
    "ExecuteTime": {
     "end_time": "2024-09-23T19:34:24.469843Z",
     "start_time": "2024-09-23T19:34:24.466913Z"
    }
   },
   "source": [
    "import pandas as pd\n",
    "import seaborn as sns\n",
    "import matplotlib.pyplot as plt\n",
    "import polars as pl\n",
    "import numpy as np\n",
    "\n",
    "import polars.selectors as cs "
   ],
   "outputs": [],
   "execution_count": 92
  },
  {
   "metadata": {
    "ExecuteTime": {
     "end_time": "2024-09-23T19:28:22.751751Z",
     "start_time": "2024-09-23T19:28:22.748428Z"
    }
   },
   "cell_type": "code",
   "source": "df_path = r'F:\\DataSpell\\scikit-learn_training\\DATA\\Electronic_sales_Sep2023-Sep2024.csv'",
   "id": "1380d809efa71816",
   "outputs": [],
   "execution_count": 84
  },
  {
   "metadata": {
    "ExecuteTime": {
     "end_time": "2024-09-23T19:28:22.780547Z",
     "start_time": "2024-09-23T19:28:22.775605Z"
    }
   },
   "cell_type": "code",
   "source": "df = pl.read_csv(df_path)",
   "id": "f665f3c7cd08a46d",
   "outputs": [],
   "execution_count": 85
  },
  {
   "metadata": {
    "ExecuteTime": {
     "end_time": "2024-09-23T19:28:22.801121Z",
     "start_time": "2024-09-23T19:28:22.796449Z"
    }
   },
   "cell_type": "code",
   "source": "df",
   "id": "ce3e319c3493b07d",
   "outputs": [
    {
     "data": {
      "text/plain": [
       "shape: (20_000, 16)\n",
       "┌────────────────┬─────┬────────┬─────────┬───┬───────────────┬───────────┬───────────────┬────────┐\n",
       "│ Customer ID    ┆ Age ┆ Gender ┆ Loyalty ┆ … ┆ Purchase Date ┆ Shipping  ┆ Add-ons       ┆ Add-on │\n",
       "│ ---            ┆ --- ┆ ---    ┆ Member  ┆   ┆ ---           ┆ Type      ┆ Purchased     ┆ Total  │\n",
       "│ i64            ┆ i64 ┆ str    ┆ ---     ┆   ┆ str           ┆ ---       ┆ ---           ┆ ---    │\n",
       "│                ┆     ┆        ┆ str     ┆   ┆               ┆ str       ┆ str           ┆ f64    │\n",
       "╞════════════════╪═════╪════════╪═════════╪═══╪═══════════════╪═══════════╪═══════════════╪════════╡\n",
       "│ 1000           ┆ 53  ┆ Male   ┆ No      ┆ … ┆ 2024-03-20    ┆ Standard  ┆ Accessory,Acc ┆ 40.21  │\n",
       "│                ┆     ┆        ┆         ┆   ┆               ┆           ┆ essory,Access ┆        │\n",
       "│                ┆     ┆        ┆         ┆   ┆               ┆           ┆ ory           ┆        │\n",
       "│ 1000           ┆ 53  ┆ Male   ┆ No      ┆ … ┆ 2024-04-20    ┆ Overnight ┆ Impulse Item  ┆ 26.09  │\n",
       "│ 1002           ┆ 41  ┆ Male   ┆ No      ┆ … ┆ 2023-10-17    ┆ Express   ┆ null          ┆ 0.0    │\n",
       "│ 1002           ┆ 41  ┆ Male   ┆ Yes     ┆ … ┆ 2024-08-09    ┆ Overnight ┆ Impulse       ┆ 60.16  │\n",
       "│                ┆     ┆        ┆         ┆   ┆               ┆           ┆ Item,Impulse  ┆        │\n",
       "│                ┆     ┆        ┆         ┆   ┆               ┆           ┆ Item          ┆        │\n",
       "│ 1003           ┆ 75  ┆ Male   ┆ Yes     ┆ … ┆ 2024-05-21    ┆ Express   ┆ Accessory     ┆ 35.56  │\n",
       "│ …              ┆ …   ┆ …      ┆ …       ┆ … ┆ …             ┆ …         ┆ …             ┆ …      │\n",
       "│ 19996          ┆ 27  ┆ Female ┆ No      ┆ … ┆ 2024-06-15    ┆ Expedited ┆ null          ┆ 0.0    │\n",
       "│ 19996          ┆ 27  ┆ Female ┆ Yes     ┆ … ┆ 2024-07-18    ┆ Standard  ┆ null          ┆ 0.0    │\n",
       "│ 19996          ┆ 27  ┆ Female ┆ No      ┆ … ┆ 2024-08-26    ┆ Standard  ┆ Impulse Item, ┆ 198.98 │\n",
       "│                ┆     ┆        ┆         ┆   ┆               ┆           ┆ Extended      ┆        │\n",
       "│                ┆     ┆        ┆         ┆   ┆               ┆           ┆ Warrant…      ┆        │\n",
       "│ 19997          ┆ 27  ┆ Male   ┆ No      ┆ … ┆ 2024-01-06    ┆ Expedited ┆ Extended      ┆ 101.34 │\n",
       "│                ┆     ┆        ┆         ┆   ┆               ┆           ┆ Warranty,     ┆        │\n",
       "│                ┆     ┆        ┆         ┆   ┆               ┆           ┆ Accessory     ┆        │\n",
       "│ 19998          ┆ 27  ┆ #N/A   ┆ Yes     ┆ … ┆ 2024-01-29    ┆ Expedited ┆ null          ┆ 0.0    │\n",
       "└────────────────┴─────┴────────┴─────────┴───┴───────────────┴───────────┴───────────────┴────────┘"
      ],
      "text/html": [
       "<div><style>\n",
       ".dataframe > thead > tr,\n",
       ".dataframe > tbody > tr {\n",
       "  text-align: right;\n",
       "  white-space: pre-wrap;\n",
       "}\n",
       "</style>\n",
       "<small>shape: (20_000, 16)</small><table border=\"1\" class=\"dataframe\"><thead><tr><th>Customer ID</th><th>Age</th><th>Gender</th><th>Loyalty Member</th><th>Product Type</th><th>SKU</th><th>Rating</th><th>Order Status</th><th>Payment Method</th><th>Total Price</th><th>Unit Price</th><th>Quantity</th><th>Purchase Date</th><th>Shipping Type</th><th>Add-ons Purchased</th><th>Add-on Total</th></tr><tr><td>i64</td><td>i64</td><td>str</td><td>str</td><td>str</td><td>str</td><td>i64</td><td>str</td><td>str</td><td>f64</td><td>f64</td><td>i64</td><td>str</td><td>str</td><td>str</td><td>f64</td></tr></thead><tbody><tr><td>1000</td><td>53</td><td>&quot;Male&quot;</td><td>&quot;No&quot;</td><td>&quot;Smartphone&quot;</td><td>&quot;SKU1004&quot;</td><td>2</td><td>&quot;Cancelled&quot;</td><td>&quot;Credit Card&quot;</td><td>5538.33</td><td>791.19</td><td>7</td><td>&quot;2024-03-20&quot;</td><td>&quot;Standard&quot;</td><td>&quot;Accessory,Accessory,Accessory&quot;</td><td>40.21</td></tr><tr><td>1000</td><td>53</td><td>&quot;Male&quot;</td><td>&quot;No&quot;</td><td>&quot;Tablet&quot;</td><td>&quot;SKU1002&quot;</td><td>3</td><td>&quot;Completed&quot;</td><td>&quot;Paypal&quot;</td><td>741.09</td><td>247.03</td><td>3</td><td>&quot;2024-04-20&quot;</td><td>&quot;Overnight&quot;</td><td>&quot;Impulse Item&quot;</td><td>26.09</td></tr><tr><td>1002</td><td>41</td><td>&quot;Male&quot;</td><td>&quot;No&quot;</td><td>&quot;Laptop&quot;</td><td>&quot;SKU1005&quot;</td><td>3</td><td>&quot;Completed&quot;</td><td>&quot;Credit Card&quot;</td><td>1855.84</td><td>463.96</td><td>4</td><td>&quot;2023-10-17&quot;</td><td>&quot;Express&quot;</td><td>null</td><td>0.0</td></tr><tr><td>1002</td><td>41</td><td>&quot;Male&quot;</td><td>&quot;Yes&quot;</td><td>&quot;Smartphone&quot;</td><td>&quot;SKU1004&quot;</td><td>2</td><td>&quot;Completed&quot;</td><td>&quot;Cash&quot;</td><td>3164.76</td><td>791.19</td><td>4</td><td>&quot;2024-08-09&quot;</td><td>&quot;Overnight&quot;</td><td>&quot;Impulse Item,Impulse Item&quot;</td><td>60.16</td></tr><tr><td>1003</td><td>75</td><td>&quot;Male&quot;</td><td>&quot;Yes&quot;</td><td>&quot;Smartphone&quot;</td><td>&quot;SKU1001&quot;</td><td>5</td><td>&quot;Completed&quot;</td><td>&quot;Cash&quot;</td><td>41.5</td><td>20.75</td><td>2</td><td>&quot;2024-05-21&quot;</td><td>&quot;Express&quot;</td><td>&quot;Accessory&quot;</td><td>35.56</td></tr><tr><td>&hellip;</td><td>&hellip;</td><td>&hellip;</td><td>&hellip;</td><td>&hellip;</td><td>&hellip;</td><td>&hellip;</td><td>&hellip;</td><td>&hellip;</td><td>&hellip;</td><td>&hellip;</td><td>&hellip;</td><td>&hellip;</td><td>&hellip;</td><td>&hellip;</td><td>&hellip;</td></tr><tr><td>19996</td><td>27</td><td>&quot;Female&quot;</td><td>&quot;No&quot;</td><td>&quot;Smartphone&quot;</td><td>&quot;SMP234&quot;</td><td>4</td><td>&quot;Completed&quot;</td><td>&quot;Bank Transfer&quot;</td><td>6838.08</td><td>1139.68</td><td>6</td><td>&quot;2024-06-15&quot;</td><td>&quot;Expedited&quot;</td><td>null</td><td>0.0</td></tr><tr><td>19996</td><td>27</td><td>&quot;Female&quot;</td><td>&quot;Yes&quot;</td><td>&quot;Laptop&quot;</td><td>&quot;LTP123&quot;</td><td>4</td><td>&quot;Cancelled&quot;</td><td>&quot;Credit Card&quot;</td><td>2697.28</td><td>674.32</td><td>4</td><td>&quot;2024-07-18&quot;</td><td>&quot;Standard&quot;</td><td>null</td><td>0.0</td></tr><tr><td>19996</td><td>27</td><td>&quot;Female&quot;</td><td>&quot;No&quot;</td><td>&quot;Headphones&quot;</td><td>&quot;HDP456&quot;</td><td>4</td><td>&quot;Completed&quot;</td><td>&quot;Bank Transfer&quot;</td><td>1805.9</td><td>361.18</td><td>5</td><td>&quot;2024-08-26&quot;</td><td>&quot;Standard&quot;</td><td>&quot;Impulse Item, Extended Warrant…</td><td>198.98</td></tr><tr><td>19997</td><td>27</td><td>&quot;Male&quot;</td><td>&quot;No&quot;</td><td>&quot;Headphones&quot;</td><td>&quot;HDP456&quot;</td><td>1</td><td>&quot;Cancelled&quot;</td><td>&quot;Bank Transfer&quot;</td><td>2528.26</td><td>361.18</td><td>7</td><td>&quot;2024-01-06&quot;</td><td>&quot;Expedited&quot;</td><td>&quot;Extended Warranty, Accessory&quot;</td><td>101.34</td></tr><tr><td>19998</td><td>27</td><td>&quot;#N/A&quot;</td><td>&quot;Yes&quot;</td><td>&quot;Laptop&quot;</td><td>&quot;LTP123&quot;</td><td>4</td><td>&quot;Completed&quot;</td><td>&quot;Bank Transfer&quot;</td><td>674.32</td><td>674.32</td><td>1</td><td>&quot;2024-01-29&quot;</td><td>&quot;Expedited&quot;</td><td>null</td><td>0.0</td></tr></tbody></table></div>"
      ]
     },
     "execution_count": 86,
     "metadata": {},
     "output_type": "execute_result"
    }
   ],
   "execution_count": 86
  },
  {
   "metadata": {
    "ExecuteTime": {
     "end_time": "2024-09-23T19:28:22.844112Z",
     "start_time": "2024-09-23T19:28:22.839089Z"
    }
   },
   "cell_type": "code",
   "source": [
    "most_frequent_value = df.select(\n",
    "    pl.col('Add-ons Purchased').mode()\n",
    ").item()\n"
   ],
   "id": "70e0185ae45a97f9",
   "outputs": [],
   "execution_count": 87
  },
  {
   "metadata": {
    "ExecuteTime": {
     "end_time": "2024-09-23T19:28:22.874244Z",
     "start_time": "2024-09-23T19:28:22.870735Z"
    }
   },
   "cell_type": "code",
   "source": [
    "df = df.with_columns(\n",
    "    pl.col('Add-ons Purchased').fill_null(most_frequent_value, strategy='max')\n",
    ")\n"
   ],
   "id": "4f1fa6d415913b85",
   "outputs": [],
   "execution_count": 88
  },
  {
   "metadata": {
    "ExecuteTime": {
     "end_time": "2024-09-23T19:28:40.320977Z",
     "start_time": "2024-09-23T19:28:40.316771Z"
    }
   },
   "cell_type": "code",
   "source": [
    "null_count = df.select(\n",
    "    pl.col('Add-ons Purchased').null_count()\n",
    ").item()\n",
    "\n",
    "print(f\"Null values after imputation: {null_count}\")"
   ],
   "id": "695fa21964d55877",
   "outputs": [
    {
     "name": "stdout",
     "output_type": "stream",
     "text": [
      "Null values after imputation: 0\n"
     ]
    }
   ],
   "execution_count": 90
  },
  {
   "metadata": {},
   "cell_type": "markdown",
   "source": "# Feature Scaling: Apply normalization and standardization techniques to numerical features. Use histograms to visualize the effect before and after scaling.",
   "id": "9d68d44974d92bc5"
  },
  {
   "metadata": {
    "ExecuteTime": {
     "end_time": "2024-09-23T19:41:16.212031Z",
     "start_time": "2024-09-23T19:41:16.206508Z"
    }
   },
   "cell_type": "code",
   "source": [
    "df = df.with_columns(\n",
    "    pl.col('Customer ID').cast(pl.String),\n",
    "    pl.col('Rating').cast(pl.String),\n",
    "    \n",
    ")"
   ],
   "id": "6cc30dd3446226c3",
   "outputs": [],
   "execution_count": 108
  },
  {
   "metadata": {
    "ExecuteTime": {
     "end_time": "2024-09-23T19:41:17.749019Z",
     "start_time": "2024-09-23T19:41:17.744145Z"
    }
   },
   "cell_type": "code",
   "source": [
    "numeric_columns = df.select(\n",
    "    # cs.by_dtype(pl.Int8, pl.Int16, pl.Int32, pl.Int64, pl.Float32, pl.Float64)\n",
    "    cs.by_dtype(cs.INTEGER_DTYPES, cs.FLOAT_DTYPES)\n",
    ").columns\n",
    "\n",
    "numeric_columns"
   ],
   "id": "1c2c57d2cd7d3f51",
   "outputs": [
    {
     "data": {
      "text/plain": [
       "['Age', 'Total Price', 'Unit Price', 'Quantity', 'Add-on Total']"
      ]
     },
     "execution_count": 109,
     "metadata": {},
     "output_type": "execute_result"
    }
   ],
   "execution_count": 109
  },
  {
   "metadata": {
    "ExecuteTime": {
     "end_time": "2024-09-23T19:54:10.520598Z",
     "start_time": "2024-09-23T19:54:10.516473Z"
    }
   },
   "cell_type": "code",
   "source": "df_original = df[numeric_columns].to_pandas()",
   "id": "d9fb51069015fa2f",
   "outputs": [],
   "execution_count": 131
  },
  {
   "metadata": {
    "ExecuteTime": {
     "end_time": "2024-09-23T19:43:11.195630Z",
     "start_time": "2024-09-23T19:43:11.192123Z"
    }
   },
   "cell_type": "code",
   "source": "from sklearn.preprocessing import MinMaxScaler, StandardScaler",
   "id": "1d224c848fc3cd1c",
   "outputs": [],
   "execution_count": 113
  },
  {
   "metadata": {
    "ExecuteTime": {
     "end_time": "2024-09-23T19:43:26.673689Z",
     "start_time": "2024-09-23T19:43:26.670604Z"
    }
   },
   "cell_type": "code",
   "source": "min_max_scaler = MinMaxScaler()",
   "id": "ca80df53b868b04c",
   "outputs": [],
   "execution_count": 114
  },
  {
   "metadata": {
    "ExecuteTime": {
     "end_time": "2024-09-23T19:43:44.848115Z",
     "start_time": "2024-09-23T19:43:44.843583Z"
    }
   },
   "cell_type": "code",
   "source": "df_normalized = min_max_scaler.fit_transform(df[numeric_columns])",
   "id": "95c6d6c336e87743",
   "outputs": [],
   "execution_count": 115
  },
  {
   "metadata": {
    "ExecuteTime": {
     "end_time": "2024-09-23T19:45:18.231993Z",
     "start_time": "2024-09-23T19:45:18.227489Z"
    }
   },
   "cell_type": "code",
   "source": "df_normalized",
   "id": "5b40b787633e35cb",
   "outputs": [
    {
     "data": {
      "text/plain": [
       "array([[0.56451613, 0.48501721, 0.68855067, 0.66666667, 0.13734331],\n",
       "       [0.56451613, 0.06332075, 0.20222892, 0.22222222, 0.08911432],\n",
       "       [0.37096774, 0.1613117 , 0.39610163, 0.33333333, 0.        ],\n",
       "       ...,\n",
       "       [0.14516129, 0.15692178, 0.30424602, 0.44444444, 0.67964614],\n",
       "       [0.14516129, 0.22042009, 0.30424602, 0.66666667, 0.34614202],\n",
       "       [0.14516129, 0.0574514 , 0.58410267, 0.        , 0.        ]])"
      ]
     },
     "execution_count": 119,
     "metadata": {},
     "output_type": "execute_result"
    }
   ],
   "execution_count": 119
  },
  {
   "metadata": {
    "ExecuteTime": {
     "end_time": "2024-09-23T19:44:31.064273Z",
     "start_time": "2024-09-23T19:44:31.060925Z"
    }
   },
   "cell_type": "code",
   "source": "standard_scaler = StandardScaler()",
   "id": "38c02f3d8938dc57",
   "outputs": [],
   "execution_count": 116
  },
  {
   "metadata": {
    "ExecuteTime": {
     "end_time": "2024-09-23T19:45:09.626063Z",
     "start_time": "2024-09-23T19:45:09.621262Z"
    }
   },
   "cell_type": "code",
   "source": "df_standardized = standard_scaler.fit_transform(df[numeric_columns])",
   "id": "16780b2880b9b7e1",
   "outputs": [],
   "execution_count": 117
  },
  {
   "metadata": {
    "ExecuteTime": {
     "end_time": "2024-09-23T19:45:13.590550Z",
     "start_time": "2024-09-23T19:45:13.585465Z"
    }
   },
   "cell_type": "code",
   "source": "df_standardized",
   "id": "d2978a1c443d16b7",
   "outputs": [
    {
     "data": {
      "text/plain": [
       "array([[ 0.22207754,  0.92663077,  0.68069514,  0.52753913, -0.37953831],\n",
       "       [ 0.22207754, -0.95839876, -1.06192023, -0.86580929, -0.62274766],\n",
       "       [-0.44317383, -0.52036842, -0.36722464, -0.51747218, -1.07213377],\n",
       "       ...,\n",
       "       [-1.21930042, -0.53999186, -0.69636681, -0.16913508,  2.35518888],\n",
       "       [-1.21930042, -0.25614742, -0.69636681,  0.52753913,  0.6733928 ],\n",
       "       [-1.21930042, -0.98463539,  0.30643122, -1.56248349, -1.07213377]])"
      ]
     },
     "execution_count": 118,
     "metadata": {},
     "output_type": "execute_result"
    }
   ],
   "execution_count": 118
  },
  {
   "metadata": {
    "ExecuteTime": {
     "end_time": "2024-09-23T19:54:16.563642Z",
     "start_time": "2024-09-23T19:54:16.559023Z"
    }
   },
   "cell_type": "code",
   "source": [
    "df_normalized = pl.DataFrame(df_normalized, schema=numeric_columns).to_pandas()\n",
    "df_standardized = pl.DataFrame(df_standardized, schema=numeric_columns).to_pandas()"
   ],
   "id": "ad1d03eaeb4ffc96",
   "outputs": [],
   "execution_count": 132
  },
  {
   "metadata": {
    "jupyter": {
     "is_executing": true
    },
    "ExecuteTime": {
     "start_time": "2024-09-23T19:54:17.290074Z"
    }
   },
   "cell_type": "code",
   "source": [
    "fig, axes = plt.subplots(len(df[numeric_columns]), 3, figsize=(15, len(df[numeric_columns]) * 4))\n",
    "\n",
    "for i, column in enumerate(numeric_columns):\n",
    "    sns.histplot(df_original[column], bins=30, kde=True, ax=axes[i, 0])\n",
    "    axes[i, 0].set_title(f\"Original {column}\")\n",
    "    \n",
    "    sns.histplot(df_normalized[column], bins=30, kde=True, ax=axes[i, 1])\n",
    "    axes[i, 1].set_title(f\"Normalized {column}\")\n",
    "    \n",
    "    sns.histplot(df_standardized[column], bins=30, kde=True, ax=axes[i, 2])\n",
    "    axes[i, 2].set_title(f\"Standardized {column}\")\n",
    "\n",
    "plt.tight_layout()\n",
    "plt.show()"
   ],
   "id": "b8c0b2c4697848aa",
   "outputs": [],
   "execution_count": null
  }
 ],
 "metadata": {
  "kernelspec": {
   "display_name": "Python 3",
   "language": "python",
   "name": "python3"
  },
  "language_info": {
   "codemirror_mode": {
    "name": "ipython",
    "version": 2
   },
   "file_extension": ".py",
   "mimetype": "text/x-python",
   "name": "python",
   "nbconvert_exporter": "python",
   "pygments_lexer": "ipython2",
   "version": "2.7.6"
  }
 },
 "nbformat": 4,
 "nbformat_minor": 5
}
