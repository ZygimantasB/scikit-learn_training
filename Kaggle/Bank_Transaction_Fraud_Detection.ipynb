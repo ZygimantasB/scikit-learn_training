{
 "cells": [
  {
   "cell_type": "code",
   "id": "initial_id",
   "metadata": {
    "collapsed": true,
    "ExecuteTime": {
     "end_time": "2025-02-18T18:55:38.414709Z",
     "start_time": "2025-02-18T18:55:38.409477Z"
    }
   },
   "source": [
    "import seaborn as sns\n",
    "import matplotlib.pyplot as plt\n",
    "import polars as pl\n",
    "import polars.selectors as cs\n",
    "import altair as alt\n",
    "import plotly.express as px\n",
    "import plotly.graph_objects as go\n",
    "import great_tables as tg\n",
    "import datetime as dt\n",
    "import numpy as np\n",
    "import pandas as pd\n",
    "from imblearn.over_sampling import SMOTE"
   ],
   "outputs": [],
   "execution_count": 36
  },
  {
   "metadata": {
    "ExecuteTime": {
     "end_time": "2025-02-18T18:55:38.817689Z",
     "start_time": "2025-02-18T18:55:38.815196Z"
    }
   },
   "cell_type": "code",
   "source": "df_path = r\"F:\\Datasets\\CSV datasets\\Bank_Transaction_Fraud_Detection.csv\"",
   "id": "26ac8cf5653ff888",
   "outputs": [],
   "execution_count": 37
  },
  {
   "metadata": {
    "ExecuteTime": {
     "end_time": "2025-02-18T18:55:39.227656Z",
     "start_time": "2025-02-18T18:55:39.158524Z"
    }
   },
   "cell_type": "code",
   "source": "df = pl.read_csv(df_path, try_parse_dates=True)",
   "id": "a1382ca57acc7e29",
   "outputs": [],
   "execution_count": 38
  },
  {
   "metadata": {
    "ExecuteTime": {
     "end_time": "2025-02-18T18:55:39.546088Z",
     "start_time": "2025-02-18T18:55:39.532334Z"
    }
   },
   "cell_type": "code",
   "source": [
    "df = df.with_columns(\n",
    "    pl.col('Account_Balance') * 0.011007299,\n",
    "    pl.col('Transaction_Amount') * 0.011007299,\n",
    ")"
   ],
   "id": "7e3282e4ea9d280a",
   "outputs": [],
   "execution_count": 39
  },
  {
   "metadata": {
    "ExecuteTime": {
     "end_time": "2025-02-18T18:55:40.155096Z",
     "start_time": "2025-02-18T18:55:40.150102Z"
    }
   },
   "cell_type": "code",
   "source": [
    "df = df.drop(\n",
    "    'Customer_ID', 'Transaction_ID', 'Customer_Contact', 'Customer_Email',\n",
    "    'Transaction_Currency', 'Transaction_Currency', 'Merchant_ID',\n",
    "    'Customer_Name'\n",
    ")"
   ],
   "id": "22c03089e0db6e86",
   "outputs": [],
   "execution_count": 40
  },
  {
   "metadata": {
    "ExecuteTime": {
     "end_time": "2025-02-18T18:55:41.105597Z",
     "start_time": "2025-02-18T18:55:41.092387Z"
    }
   },
   "cell_type": "code",
   "source": "df['State'].value_counts()",
   "id": "41b3c133634815cf",
   "outputs": [
    {
     "data": {
      "text/plain": [
       "shape: (34, 2)\n",
       "┌─────────────────────────────────┬───────┐\n",
       "│ State                           ┆ count │\n",
       "│ ---                             ┆ ---   │\n",
       "│ str                             ┆ u32   │\n",
       "╞═════════════════════════════════╪═══════╡\n",
       "│ Manipur                         ┆ 5869  │\n",
       "│ West Bengal                     ┆ 5851  │\n",
       "│ Telangana                       ┆ 5952  │\n",
       "│ Rajasthan                       ┆ 5795  │\n",
       "│ Dadra and Nagar Haveli and Dam… ┆ 5857  │\n",
       "│ …                               ┆ …     │\n",
       "│ Bihar                           ┆ 5857  │\n",
       "│ Odisha                          ┆ 5899  │\n",
       "│ Jharkhand                       ┆ 5898  │\n",
       "│ Delhi                           ┆ 5943  │\n",
       "│ Puducherry                      ┆ 5828  │\n",
       "└─────────────────────────────────┴───────┘"
      ],
      "text/html": [
       "<div><style>\n",
       ".dataframe > thead > tr,\n",
       ".dataframe > tbody > tr {\n",
       "  text-align: right;\n",
       "  white-space: pre-wrap;\n",
       "}\n",
       "</style>\n",
       "<small>shape: (34, 2)</small><table border=\"1\" class=\"dataframe\"><thead><tr><th>State</th><th>count</th></tr><tr><td>str</td><td>u32</td></tr></thead><tbody><tr><td>&quot;Manipur&quot;</td><td>5869</td></tr><tr><td>&quot;West Bengal&quot;</td><td>5851</td></tr><tr><td>&quot;Telangana&quot;</td><td>5952</td></tr><tr><td>&quot;Rajasthan&quot;</td><td>5795</td></tr><tr><td>&quot;Dadra and Nagar Haveli and Dam…</td><td>5857</td></tr><tr><td>&hellip;</td><td>&hellip;</td></tr><tr><td>&quot;Bihar&quot;</td><td>5857</td></tr><tr><td>&quot;Odisha&quot;</td><td>5899</td></tr><tr><td>&quot;Jharkhand&quot;</td><td>5898</td></tr><tr><td>&quot;Delhi&quot;</td><td>5943</td></tr><tr><td>&quot;Puducherry&quot;</td><td>5828</td></tr></tbody></table></div>"
      ]
     },
     "execution_count": 41,
     "metadata": {},
     "output_type": "execute_result"
    }
   ],
   "execution_count": 41
  },
  {
   "metadata": {
    "ExecuteTime": {
     "end_time": "2025-02-18T18:55:42.230566Z",
     "start_time": "2025-02-18T18:55:42.223630Z"
    }
   },
   "cell_type": "code",
   "source": "df.select('*')",
   "id": "c3ab4e2edb9a592d",
   "outputs": [
    {
     "data": {
      "text/plain": [
       "shape: (200_000, 17)\n",
       "┌────────┬─────┬─────────────┬─────────────┬───┬─────────────┬─────────────┬──────────┬────────────┐\n",
       "│ Gender ┆ Age ┆ State       ┆ City        ┆ … ┆ Transaction ┆ Device_Type ┆ Is_Fraud ┆ Transactio │\n",
       "│ ---    ┆ --- ┆ ---         ┆ ---         ┆   ┆ _Location   ┆ ---         ┆ ---      ┆ n_Descript │\n",
       "│ str    ┆ i64 ┆ str         ┆ str         ┆   ┆ ---         ┆ str         ┆ i64      ┆ ion        │\n",
       "│        ┆     ┆             ┆             ┆   ┆ str         ┆             ┆          ┆ ---        │\n",
       "│        ┆     ┆             ┆             ┆   ┆             ┆             ┆          ┆ str        │\n",
       "╞════════╪═════╪═════════════╪═════════════╪═══╪═════════════╪═════════════╪══════════╪════════════╡\n",
       "│ Male   ┆ 60  ┆ Kerala      ┆ Thiruvanant ┆ … ┆ Thiruvanant ┆ POS         ┆ 0        ┆ Bitcoin    │\n",
       "│        ┆     ┆             ┆ hapuram     ┆   ┆ hapuram,    ┆             ┆          ┆ transactio │\n",
       "│        ┆     ┆             ┆             ┆   ┆ Kerala      ┆             ┆          ┆ n          │\n",
       "│ Female ┆ 51  ┆ Maharashtra ┆ Nashik      ┆ … ┆ Nashik,     ┆ Desktop     ┆ 0        ┆ Grocery    │\n",
       "│        ┆     ┆             ┆             ┆   ┆ Maharashtra ┆             ┆          ┆ delivery   │\n",
       "│ Male   ┆ 20  ┆ Bihar       ┆ Bhagalpur   ┆ … ┆ Bhagalpur,  ┆ Desktop     ┆ 0        ┆ Mutual     │\n",
       "│        ┆     ┆             ┆             ┆   ┆ Bihar       ┆             ┆          ┆ fund       │\n",
       "│        ┆     ┆             ┆             ┆   ┆             ┆             ┆          ┆ investment │\n",
       "│ Female ┆ 57  ┆ Tamil Nadu  ┆ Chennai     ┆ … ┆ Chennai,    ┆ Mobile      ┆ 0        ┆ Food       │\n",
       "│        ┆     ┆             ┆             ┆   ┆ Tamil Nadu  ┆             ┆          ┆ delivery   │\n",
       "│ Female ┆ 43  ┆ Punjab      ┆ Amritsar    ┆ … ┆ Amritsar,   ┆ Mobile      ┆ 0        ┆ Debt       │\n",
       "│        ┆     ┆             ┆             ┆   ┆ Punjab      ┆             ┆          ┆ repayment  │\n",
       "│ …      ┆ …   ┆ …           ┆ …           ┆ … ┆ …           ┆ …           ┆ …        ┆ …          │\n",
       "│ Female ┆ 55  ┆ Dadra and   ┆ Diu         ┆ … ┆ Diu, Dadra  ┆ ATM         ┆ 0        ┆ ATM        │\n",
       "│        ┆     ┆ Nagar       ┆             ┆   ┆ and Nagar   ┆             ┆          ┆ withdrawal │\n",
       "│        ┆     ┆ Haveli and  ┆             ┆   ┆ Haveli an…  ┆             ┆          ┆            │\n",
       "│        ┆     ┆ Dam…        ┆             ┆   ┆             ┆             ┆          ┆            │\n",
       "│ Male   ┆ 51  ┆ Manipur     ┆ Kangpokpi   ┆ … ┆ Kangpokpi,  ┆ ATM         ┆ 0        ┆ Subscripti │\n",
       "│        ┆     ┆             ┆             ┆   ┆ Manipur     ┆             ┆          ┆ on box     │\n",
       "│ Female ┆ 41  ┆ Chandigarh  ┆ Chandigarh  ┆ … ┆ Chandigarh, ┆ Desktop     ┆ 0        ┆ Charity    │\n",
       "│        ┆     ┆             ┆             ┆   ┆ Chandigarh  ┆             ┆          ┆ donation   │\n",
       "│ Female ┆ 28  ┆ Telangana   ┆ Nizamabad   ┆ … ┆ Nizamabad,  ┆ Desktop     ┆ 0        ┆ Tourist    │\n",
       "│        ┆     ┆             ┆             ┆   ┆ Telangana   ┆             ┆          ┆ attraction │\n",
       "│        ┆     ┆             ┆             ┆   ┆             ┆             ┆          ┆ payment    │\n",
       "│ Male   ┆ 34  ┆ Nagaland    ┆ Kohima      ┆ … ┆ Kohima,     ┆ Mobile      ┆ 0        ┆ Installmen │\n",
       "│        ┆     ┆             ┆             ┆   ┆ Nagaland    ┆             ┆          ┆ t payment  │\n",
       "└────────┴─────┴─────────────┴─────────────┴───┴─────────────┴─────────────┴──────────┴────────────┘"
      ],
      "text/html": [
       "<div><style>\n",
       ".dataframe > thead > tr,\n",
       ".dataframe > tbody > tr {\n",
       "  text-align: right;\n",
       "  white-space: pre-wrap;\n",
       "}\n",
       "</style>\n",
       "<small>shape: (200_000, 17)</small><table border=\"1\" class=\"dataframe\"><thead><tr><th>Gender</th><th>Age</th><th>State</th><th>City</th><th>Bank_Branch</th><th>Account_Type</th><th>Transaction_Date</th><th>Transaction_Time</th><th>Transaction_Amount</th><th>Transaction_Type</th><th>Merchant_Category</th><th>Account_Balance</th><th>Transaction_Device</th><th>Transaction_Location</th><th>Device_Type</th><th>Is_Fraud</th><th>Transaction_Description</th></tr><tr><td>str</td><td>i64</td><td>str</td><td>str</td><td>str</td><td>str</td><td>date</td><td>time</td><td>f64</td><td>str</td><td>str</td><td>f64</td><td>str</td><td>str</td><td>str</td><td>i64</td><td>str</td></tr></thead><tbody><tr><td>&quot;Male&quot;</td><td>60</td><td>&quot;Kerala&quot;</td><td>&quot;Thiruvananthapuram&quot;</td><td>&quot;Thiruvananthapuram Branch&quot;</td><td>&quot;Savings&quot;</td><td>2025-01-23</td><td>16:04:07</td><td>356.80655</td><td>&quot;Transfer&quot;</td><td>&quot;Restaurant&quot;</td><td>820.674164</td><td>&quot;Voice Assistant&quot;</td><td>&quot;Thiruvananthapuram, Kerala&quot;</td><td>&quot;POS&quot;</td><td>0</td><td>&quot;Bitcoin transaction&quot;</td></tr><tr><td>&quot;Female&quot;</td><td>51</td><td>&quot;Maharashtra&quot;</td><td>&quot;Nashik&quot;</td><td>&quot;Nashik Branch&quot;</td><td>&quot;Business&quot;</td><td>2025-01-11</td><td>17:14:53</td><td>480.167001</td><td>&quot;Bill Payment&quot;</td><td>&quot;Restaurant&quot;</td><td>821.393931</td><td>&quot;POS Mobile Device&quot;</td><td>&quot;Nashik, Maharashtra&quot;</td><td>&quot;Desktop&quot;</td><td>0</td><td>&quot;Grocery delivery&quot;</td></tr><tr><td>&quot;Male&quot;</td><td>20</td><td>&quot;Bihar&quot;</td><td>&quot;Bhagalpur&quot;</td><td>&quot;Bhagalpur Branch&quot;</td><td>&quot;Savings&quot;</td><td>2025-01-25</td><td>03:09:52</td><td>694.148454</td><td>&quot;Bill Payment&quot;</td><td>&quot;Groceries&quot;</td><td>735.485595</td><td>&quot;ATM&quot;</td><td>&quot;Bhagalpur, Bihar&quot;</td><td>&quot;Desktop&quot;</td><td>0</td><td>&quot;Mutual fund investment&quot;</td></tr><tr><td>&quot;Female&quot;</td><td>57</td><td>&quot;Tamil Nadu&quot;</td><td>&quot;Chennai&quot;</td><td>&quot;Chennai Branch&quot;</td><td>&quot;Business&quot;</td><td>2025-01-19</td><td>12:27:02</td><td>154.110111</td><td>&quot;Debit&quot;</td><td>&quot;Entertainment&quot;</td><td>640.372515</td><td>&quot;POS Mobile App&quot;</td><td>&quot;Chennai, Tamil Nadu&quot;</td><td>&quot;Mobile&quot;</td><td>0</td><td>&quot;Food delivery&quot;</td></tr><tr><td>&quot;Female&quot;</td><td>43</td><td>&quot;Punjab&quot;</td><td>&quot;Amritsar&quot;</td><td>&quot;Amritsar Branch&quot;</td><td>&quot;Savings&quot;</td><td>2025-01-30</td><td>18:30:46</td><td>201.820588</td><td>&quot;Transfer&quot;</td><td>&quot;Entertainment&quot;</td><td>177.311736</td><td>&quot;Virtual Card&quot;</td><td>&quot;Amritsar, Punjab&quot;</td><td>&quot;Mobile&quot;</td><td>0</td><td>&quot;Debt repayment&quot;</td></tr><tr><td>&hellip;</td><td>&hellip;</td><td>&hellip;</td><td>&hellip;</td><td>&hellip;</td><td>&hellip;</td><td>&hellip;</td><td>&hellip;</td><td>&hellip;</td><td>&hellip;</td><td>&hellip;</td><td>&hellip;</td><td>&hellip;</td><td>&hellip;</td><td>&hellip;</td><td>&hellip;</td><td>&hellip;</td></tr><tr><td>&quot;Female&quot;</td><td>55</td><td>&quot;Dadra and Nagar Haveli and Dam…</td><td>&quot;Diu&quot;</td><td>&quot;Diu Branch&quot;</td><td>&quot;Business&quot;</td><td>2025-01-08</td><td>18:42:09</td><td>1084.370192</td><td>&quot;Credit&quot;</td><td>&quot;Restaurant&quot;</td><td>412.499741</td><td>&quot;Desktop/Laptop&quot;</td><td>&quot;Diu, Dadra and Nagar Haveli an…</td><td>&quot;ATM&quot;</td><td>0</td><td>&quot;ATM withdrawal&quot;</td></tr><tr><td>&quot;Male&quot;</td><td>51</td><td>&quot;Manipur&quot;</td><td>&quot;Kangpokpi&quot;</td><td>&quot;Kangpokpi Branch&quot;</td><td>&quot;Business&quot;</td><td>2025-01-01</td><td>20:51:21</td><td>446.825342</td><td>&quot;Withdrawal&quot;</td><td>&quot;Groceries&quot;</td><td>583.796319</td><td>&quot;ATM&quot;</td><td>&quot;Kangpokpi, Manipur&quot;</td><td>&quot;ATM&quot;</td><td>0</td><td>&quot;Subscription box&quot;</td></tr><tr><td>&quot;Female&quot;</td><td>41</td><td>&quot;Chandigarh&quot;</td><td>&quot;Chandigarh&quot;</td><td>&quot;Chandigarh Branch&quot;</td><td>&quot;Savings&quot;</td><td>2025-01-28</td><td>10:47:40</td><td>677.82617</td><td>&quot;Withdrawal&quot;</td><td>&quot;Health&quot;</td><td>1059.181309</td><td>&quot;ATM&quot;</td><td>&quot;Chandigarh, Chandigarh&quot;</td><td>&quot;Desktop&quot;</td><td>0</td><td>&quot;Charity donation&quot;</td></tr><tr><td>&quot;Female&quot;</td><td>28</td><td>&quot;Telangana&quot;</td><td>&quot;Nizamabad&quot;</td><td>&quot;Nizamabad Branch&quot;</td><td>&quot;Checking&quot;</td><td>2025-01-08</td><td>06:26:41</td><td>434.658645</td><td>&quot;Debit&quot;</td><td>&quot;Electronics&quot;</td><td>986.25289</td><td>&quot;Voice Assistant&quot;</td><td>&quot;Nizamabad, Telangana&quot;</td><td>&quot;Desktop&quot;</td><td>0</td><td>&quot;Tourist attraction payment&quot;</td></tr><tr><td>&quot;Male&quot;</td><td>34</td><td>&quot;Nagaland&quot;</td><td>&quot;Kohima&quot;</td><td>&quot;Kohima Branch&quot;</td><td>&quot;Business&quot;</td><td>2025-01-08</td><td>15:26:19</td><td>645.275276</td><td>&quot;Debit&quot;</td><td>&quot;Electronics&quot;</td><td>165.838608</td><td>&quot;Virtual Card&quot;</td><td>&quot;Kohima, Nagaland&quot;</td><td>&quot;Mobile&quot;</td><td>0</td><td>&quot;Installment payment&quot;</td></tr></tbody></table></div>"
      ]
     },
     "execution_count": 42,
     "metadata": {},
     "output_type": "execute_result"
    }
   ],
   "execution_count": 42
  },
  {
   "metadata": {
    "ExecuteTime": {
     "end_time": "2025-02-18T18:55:43.422397Z",
     "start_time": "2025-02-18T18:55:43.379786Z"
    }
   },
   "cell_type": "code",
   "source": [
    "pl.DataFrame({\n",
    "    \"column\": df.columns,\n",
    "    \"unique_count\": [df[col].n_unique() for col in df.columns]\n",
    "})"
   ],
   "id": "fc2d3a31b96ad052",
   "outputs": [
    {
     "data": {
      "text/plain": [
       "shape: (17, 2)\n",
       "┌─────────────────────────┬──────────────┐\n",
       "│ column                  ┆ unique_count │\n",
       "│ ---                     ┆ ---          │\n",
       "│ str                     ┆ i64          │\n",
       "╞═════════════════════════╪══════════════╡\n",
       "│ Gender                  ┆ 2            │\n",
       "│ Age                     ┆ 53           │\n",
       "│ State                   ┆ 34           │\n",
       "│ City                    ┆ 145          │\n",
       "│ Bank_Branch             ┆ 145          │\n",
       "│ …                       ┆ …            │\n",
       "│ Transaction_Device      ┆ 20           │\n",
       "│ Transaction_Location    ┆ 148          │\n",
       "│ Device_Type             ┆ 4            │\n",
       "│ Is_Fraud                ┆ 2            │\n",
       "│ Transaction_Description ┆ 172          │\n",
       "└─────────────────────────┴──────────────┘"
      ],
      "text/html": [
       "<div><style>\n",
       ".dataframe > thead > tr,\n",
       ".dataframe > tbody > tr {\n",
       "  text-align: right;\n",
       "  white-space: pre-wrap;\n",
       "}\n",
       "</style>\n",
       "<small>shape: (17, 2)</small><table border=\"1\" class=\"dataframe\"><thead><tr><th>column</th><th>unique_count</th></tr><tr><td>str</td><td>i64</td></tr></thead><tbody><tr><td>&quot;Gender&quot;</td><td>2</td></tr><tr><td>&quot;Age&quot;</td><td>53</td></tr><tr><td>&quot;State&quot;</td><td>34</td></tr><tr><td>&quot;City&quot;</td><td>145</td></tr><tr><td>&quot;Bank_Branch&quot;</td><td>145</td></tr><tr><td>&hellip;</td><td>&hellip;</td></tr><tr><td>&quot;Transaction_Device&quot;</td><td>20</td></tr><tr><td>&quot;Transaction_Location&quot;</td><td>148</td></tr><tr><td>&quot;Device_Type&quot;</td><td>4</td></tr><tr><td>&quot;Is_Fraud&quot;</td><td>2</td></tr><tr><td>&quot;Transaction_Description&quot;</td><td>172</td></tr></tbody></table></div>"
      ]
     },
     "execution_count": 43,
     "metadata": {},
     "output_type": "execute_result"
    }
   ],
   "execution_count": 43
  },
  {
   "metadata": {
    "ExecuteTime": {
     "end_time": "2025-02-18T18:55:44.571195Z",
     "start_time": "2025-02-18T18:55:44.560108Z"
    }
   },
   "cell_type": "code",
   "source": [
    "df = df.with_columns(\n",
    "    pl.col('Transaction_Date').dt.year().alias('Year'),\n",
    "    pl.col('Transaction_Date').dt.month().alias('Month'),\n",
    "    pl.col('Transaction_Date').dt.day().alias('Day'),\n",
    "    pl.col('Transaction_Time').dt.hour().alias('Hour'),\n",
    "    pl.col('Transaction_Time').dt.minute().alias('Minute'),\n",
    "    pl.col('Transaction_Time').dt.second().alias('Second'),\n",
    ")"
   ],
   "id": "612d71b9f97fbbbd",
   "outputs": [],
   "execution_count": 44
  },
  {
   "metadata": {
    "ExecuteTime": {
     "end_time": "2025-02-18T18:55:45.380945Z",
     "start_time": "2025-02-18T18:55:45.378347Z"
    }
   },
   "cell_type": "code",
   "source": [
    "df = df.drop(\n",
    "    'Transaction_Date', 'Transaction_Time'\n",
    ")"
   ],
   "id": "a6e97f70030f4803",
   "outputs": [],
   "execution_count": 45
  },
  {
   "metadata": {
    "ExecuteTime": {
     "end_time": "2025-02-18T18:55:46.291363Z",
     "start_time": "2025-02-18T18:55:46.286181Z"
    }
   },
   "cell_type": "code",
   "source": "df",
   "id": "a1061790a244727e",
   "outputs": [
    {
     "data": {
      "text/plain": [
       "shape: (200_000, 21)\n",
       "┌────────┬─────┬────────────────────────┬────────────────────┬───┬─────┬──────┬────────┬────────┐\n",
       "│ Gender ┆ Age ┆ State                  ┆ City               ┆ … ┆ Day ┆ Hour ┆ Minute ┆ Second │\n",
       "│ ---    ┆ --- ┆ ---                    ┆ ---                ┆   ┆ --- ┆ ---  ┆ ---    ┆ ---    │\n",
       "│ str    ┆ i64 ┆ str                    ┆ str                ┆   ┆ i8  ┆ i8   ┆ i8     ┆ i8     │\n",
       "╞════════╪═════╪════════════════════════╪════════════════════╪═══╪═════╪══════╪════════╪════════╡\n",
       "│ Male   ┆ 60  ┆ Kerala                 ┆ Thiruvananthapuram ┆ … ┆ 23  ┆ 16   ┆ 4      ┆ 7      │\n",
       "│ Female ┆ 51  ┆ Maharashtra            ┆ Nashik             ┆ … ┆ 11  ┆ 17   ┆ 14     ┆ 53     │\n",
       "│ Male   ┆ 20  ┆ Bihar                  ┆ Bhagalpur          ┆ … ┆ 25  ┆ 3    ┆ 9      ┆ 52     │\n",
       "│ Female ┆ 57  ┆ Tamil Nadu             ┆ Chennai            ┆ … ┆ 19  ┆ 12   ┆ 27     ┆ 2      │\n",
       "│ Female ┆ 43  ┆ Punjab                 ┆ Amritsar           ┆ … ┆ 30  ┆ 18   ┆ 30     ┆ 46     │\n",
       "│ …      ┆ …   ┆ …                      ┆ …                  ┆ … ┆ …   ┆ …    ┆ …      ┆ …      │\n",
       "│ Female ┆ 55  ┆ Dadra and Nagar Haveli ┆ Diu                ┆ … ┆ 8   ┆ 18   ┆ 42     ┆ 9      │\n",
       "│        ┆     ┆ and Dam…               ┆                    ┆   ┆     ┆      ┆        ┆        │\n",
       "│ Male   ┆ 51  ┆ Manipur                ┆ Kangpokpi          ┆ … ┆ 1   ┆ 20   ┆ 51     ┆ 21     │\n",
       "│ Female ┆ 41  ┆ Chandigarh             ┆ Chandigarh         ┆ … ┆ 28  ┆ 10   ┆ 47     ┆ 40     │\n",
       "│ Female ┆ 28  ┆ Telangana              ┆ Nizamabad          ┆ … ┆ 8   ┆ 6    ┆ 26     ┆ 41     │\n",
       "│ Male   ┆ 34  ┆ Nagaland               ┆ Kohima             ┆ … ┆ 8   ┆ 15   ┆ 26     ┆ 19     │\n",
       "└────────┴─────┴────────────────────────┴────────────────────┴───┴─────┴──────┴────────┴────────┘"
      ],
      "text/html": [
       "<div><style>\n",
       ".dataframe > thead > tr,\n",
       ".dataframe > tbody > tr {\n",
       "  text-align: right;\n",
       "  white-space: pre-wrap;\n",
       "}\n",
       "</style>\n",
       "<small>shape: (200_000, 21)</small><table border=\"1\" class=\"dataframe\"><thead><tr><th>Gender</th><th>Age</th><th>State</th><th>City</th><th>Bank_Branch</th><th>Account_Type</th><th>Transaction_Amount</th><th>Transaction_Type</th><th>Merchant_Category</th><th>Account_Balance</th><th>Transaction_Device</th><th>Transaction_Location</th><th>Device_Type</th><th>Is_Fraud</th><th>Transaction_Description</th><th>Year</th><th>Month</th><th>Day</th><th>Hour</th><th>Minute</th><th>Second</th></tr><tr><td>str</td><td>i64</td><td>str</td><td>str</td><td>str</td><td>str</td><td>f64</td><td>str</td><td>str</td><td>f64</td><td>str</td><td>str</td><td>str</td><td>i64</td><td>str</td><td>i32</td><td>i8</td><td>i8</td><td>i8</td><td>i8</td><td>i8</td></tr></thead><tbody><tr><td>&quot;Male&quot;</td><td>60</td><td>&quot;Kerala&quot;</td><td>&quot;Thiruvananthapuram&quot;</td><td>&quot;Thiruvananthapuram Branch&quot;</td><td>&quot;Savings&quot;</td><td>356.80655</td><td>&quot;Transfer&quot;</td><td>&quot;Restaurant&quot;</td><td>820.674164</td><td>&quot;Voice Assistant&quot;</td><td>&quot;Thiruvananthapuram, Kerala&quot;</td><td>&quot;POS&quot;</td><td>0</td><td>&quot;Bitcoin transaction&quot;</td><td>2025</td><td>1</td><td>23</td><td>16</td><td>4</td><td>7</td></tr><tr><td>&quot;Female&quot;</td><td>51</td><td>&quot;Maharashtra&quot;</td><td>&quot;Nashik&quot;</td><td>&quot;Nashik Branch&quot;</td><td>&quot;Business&quot;</td><td>480.167001</td><td>&quot;Bill Payment&quot;</td><td>&quot;Restaurant&quot;</td><td>821.393931</td><td>&quot;POS Mobile Device&quot;</td><td>&quot;Nashik, Maharashtra&quot;</td><td>&quot;Desktop&quot;</td><td>0</td><td>&quot;Grocery delivery&quot;</td><td>2025</td><td>1</td><td>11</td><td>17</td><td>14</td><td>53</td></tr><tr><td>&quot;Male&quot;</td><td>20</td><td>&quot;Bihar&quot;</td><td>&quot;Bhagalpur&quot;</td><td>&quot;Bhagalpur Branch&quot;</td><td>&quot;Savings&quot;</td><td>694.148454</td><td>&quot;Bill Payment&quot;</td><td>&quot;Groceries&quot;</td><td>735.485595</td><td>&quot;ATM&quot;</td><td>&quot;Bhagalpur, Bihar&quot;</td><td>&quot;Desktop&quot;</td><td>0</td><td>&quot;Mutual fund investment&quot;</td><td>2025</td><td>1</td><td>25</td><td>3</td><td>9</td><td>52</td></tr><tr><td>&quot;Female&quot;</td><td>57</td><td>&quot;Tamil Nadu&quot;</td><td>&quot;Chennai&quot;</td><td>&quot;Chennai Branch&quot;</td><td>&quot;Business&quot;</td><td>154.110111</td><td>&quot;Debit&quot;</td><td>&quot;Entertainment&quot;</td><td>640.372515</td><td>&quot;POS Mobile App&quot;</td><td>&quot;Chennai, Tamil Nadu&quot;</td><td>&quot;Mobile&quot;</td><td>0</td><td>&quot;Food delivery&quot;</td><td>2025</td><td>1</td><td>19</td><td>12</td><td>27</td><td>2</td></tr><tr><td>&quot;Female&quot;</td><td>43</td><td>&quot;Punjab&quot;</td><td>&quot;Amritsar&quot;</td><td>&quot;Amritsar Branch&quot;</td><td>&quot;Savings&quot;</td><td>201.820588</td><td>&quot;Transfer&quot;</td><td>&quot;Entertainment&quot;</td><td>177.311736</td><td>&quot;Virtual Card&quot;</td><td>&quot;Amritsar, Punjab&quot;</td><td>&quot;Mobile&quot;</td><td>0</td><td>&quot;Debt repayment&quot;</td><td>2025</td><td>1</td><td>30</td><td>18</td><td>30</td><td>46</td></tr><tr><td>&hellip;</td><td>&hellip;</td><td>&hellip;</td><td>&hellip;</td><td>&hellip;</td><td>&hellip;</td><td>&hellip;</td><td>&hellip;</td><td>&hellip;</td><td>&hellip;</td><td>&hellip;</td><td>&hellip;</td><td>&hellip;</td><td>&hellip;</td><td>&hellip;</td><td>&hellip;</td><td>&hellip;</td><td>&hellip;</td><td>&hellip;</td><td>&hellip;</td><td>&hellip;</td></tr><tr><td>&quot;Female&quot;</td><td>55</td><td>&quot;Dadra and Nagar Haveli and Dam…</td><td>&quot;Diu&quot;</td><td>&quot;Diu Branch&quot;</td><td>&quot;Business&quot;</td><td>1084.370192</td><td>&quot;Credit&quot;</td><td>&quot;Restaurant&quot;</td><td>412.499741</td><td>&quot;Desktop/Laptop&quot;</td><td>&quot;Diu, Dadra and Nagar Haveli an…</td><td>&quot;ATM&quot;</td><td>0</td><td>&quot;ATM withdrawal&quot;</td><td>2025</td><td>1</td><td>8</td><td>18</td><td>42</td><td>9</td></tr><tr><td>&quot;Male&quot;</td><td>51</td><td>&quot;Manipur&quot;</td><td>&quot;Kangpokpi&quot;</td><td>&quot;Kangpokpi Branch&quot;</td><td>&quot;Business&quot;</td><td>446.825342</td><td>&quot;Withdrawal&quot;</td><td>&quot;Groceries&quot;</td><td>583.796319</td><td>&quot;ATM&quot;</td><td>&quot;Kangpokpi, Manipur&quot;</td><td>&quot;ATM&quot;</td><td>0</td><td>&quot;Subscription box&quot;</td><td>2025</td><td>1</td><td>1</td><td>20</td><td>51</td><td>21</td></tr><tr><td>&quot;Female&quot;</td><td>41</td><td>&quot;Chandigarh&quot;</td><td>&quot;Chandigarh&quot;</td><td>&quot;Chandigarh Branch&quot;</td><td>&quot;Savings&quot;</td><td>677.82617</td><td>&quot;Withdrawal&quot;</td><td>&quot;Health&quot;</td><td>1059.181309</td><td>&quot;ATM&quot;</td><td>&quot;Chandigarh, Chandigarh&quot;</td><td>&quot;Desktop&quot;</td><td>0</td><td>&quot;Charity donation&quot;</td><td>2025</td><td>1</td><td>28</td><td>10</td><td>47</td><td>40</td></tr><tr><td>&quot;Female&quot;</td><td>28</td><td>&quot;Telangana&quot;</td><td>&quot;Nizamabad&quot;</td><td>&quot;Nizamabad Branch&quot;</td><td>&quot;Checking&quot;</td><td>434.658645</td><td>&quot;Debit&quot;</td><td>&quot;Electronics&quot;</td><td>986.25289</td><td>&quot;Voice Assistant&quot;</td><td>&quot;Nizamabad, Telangana&quot;</td><td>&quot;Desktop&quot;</td><td>0</td><td>&quot;Tourist attraction payment&quot;</td><td>2025</td><td>1</td><td>8</td><td>6</td><td>26</td><td>41</td></tr><tr><td>&quot;Male&quot;</td><td>34</td><td>&quot;Nagaland&quot;</td><td>&quot;Kohima&quot;</td><td>&quot;Kohima Branch&quot;</td><td>&quot;Business&quot;</td><td>645.275276</td><td>&quot;Debit&quot;</td><td>&quot;Electronics&quot;</td><td>165.838608</td><td>&quot;Virtual Card&quot;</td><td>&quot;Kohima, Nagaland&quot;</td><td>&quot;Mobile&quot;</td><td>0</td><td>&quot;Installment payment&quot;</td><td>2025</td><td>1</td><td>8</td><td>15</td><td>26</td><td>19</td></tr></tbody></table></div>"
      ]
     },
     "execution_count": 46,
     "metadata": {},
     "output_type": "execute_result"
    }
   ],
   "execution_count": 46
  },
  {
   "metadata": {
    "ExecuteTime": {
     "end_time": "2025-02-18T18:55:47.326741Z",
     "start_time": "2025-02-18T18:55:47.322850Z"
    }
   },
   "cell_type": "code",
   "source": "X = df.select(cs.exclude('Is_Fraud'))",
   "id": "1750201c4d051111",
   "outputs": [],
   "execution_count": 47
  },
  {
   "metadata": {
    "ExecuteTime": {
     "end_time": "2025-02-18T18:55:48.228168Z",
     "start_time": "2025-02-18T18:55:48.225761Z"
    }
   },
   "cell_type": "code",
   "source": "y = df.get_column('Is_Fraud')",
   "id": "acbd596a2f4b9e37",
   "outputs": [],
   "execution_count": 48
  },
  {
   "metadata": {
    "ExecuteTime": {
     "end_time": "2025-02-18T18:55:49.711799Z",
     "start_time": "2025-02-18T18:55:49.709264Z"
    }
   },
   "cell_type": "code",
   "source": [
    "# from sklearn.preprocessing import OneHotEncoder\n",
    "# from sklearn.compose import ColumnTransformer"
   ],
   "id": "517463252653f306",
   "outputs": [],
   "execution_count": 49
  },
  {
   "metadata": {
    "ExecuteTime": {
     "end_time": "2025-02-18T18:55:50.324572Z",
     "start_time": "2025-02-18T18:55:50.321556Z"
    }
   },
   "cell_type": "code",
   "source": "# X.select(cs.string()).columns",
   "id": "5c10ee7cd4e4f1cb",
   "outputs": [],
   "execution_count": 50
  },
  {
   "metadata": {
    "ExecuteTime": {
     "end_time": "2025-02-18T18:55:50.839656Z",
     "start_time": "2025-02-18T18:55:50.836717Z"
    }
   },
   "cell_type": "code",
   "source": "# X.select(cs.numeric()).columns",
   "id": "3cfd388991a6738e",
   "outputs": [],
   "execution_count": 51
  },
  {
   "metadata": {
    "ExecuteTime": {
     "end_time": "2025-02-18T18:55:51.568674Z",
     "start_time": "2025-02-18T18:55:51.566005Z"
    }
   },
   "cell_type": "code",
   "source": [
    "# column_transformer = ColumnTransformer(\n",
    "#     transformers=[\n",
    "#         ('encoder', OneHotEncoder(\n",
    "#             handle_unknown='ignore', sparse_output=False, drop='first'),\n",
    "#         X.select(cs.string()).columns),\n",
    "#         ('passthrough', 'passthrough', X.select(cs.numeric()).columns)\n",
    "#     ])"
   ],
   "id": "ef10e86ce1eb6bb3",
   "outputs": [],
   "execution_count": 52
  },
  {
   "metadata": {
    "ExecuteTime": {
     "end_time": "2025-02-18T18:55:52.570082Z",
     "start_time": "2025-02-18T18:55:52.566254Z"
    }
   },
   "cell_type": "code",
   "source": "from sklearn.model_selection import train_test_split",
   "id": "c6c57eab10ff59c5",
   "outputs": [],
   "execution_count": 53
  },
  {
   "metadata": {
    "ExecuteTime": {
     "end_time": "2025-02-18T18:55:53.245694Z",
     "start_time": "2025-02-18T18:55:53.204045Z"
    }
   },
   "cell_type": "code",
   "source": "X_train, X_test, y_train, y_test = train_test_split(X, y, test_size=0.2, random_state=42)",
   "id": "62ac50f0ab6a8f4a",
   "outputs": [],
   "execution_count": 54
  },
  {
   "metadata": {
    "ExecuteTime": {
     "end_time": "2025-02-18T18:55:53.814992Z",
     "start_time": "2025-02-18T18:55:53.812262Z"
    }
   },
   "cell_type": "code",
   "source": "from sklearn.feature_extraction import FeatureHasher",
   "id": "709933bc124ce470",
   "outputs": [],
   "execution_count": 55
  },
  {
   "metadata": {
    "ExecuteTime": {
     "end_time": "2025-02-18T18:55:54.581365Z",
     "start_time": "2025-02-18T18:55:54.578139Z"
    }
   },
   "cell_type": "code",
   "source": [
    "def prepare_for_hashing(df, categorical_cols):\n",
    "    df_copy = df.clone()\n",
    "    for col in categorical_cols:\n",
    "        df_copy = df_copy.with_columns(pl.col(col).cast(pl.Utf8).alias(col))\n",
    "    result = df_copy.select(categorical_cols).to_numpy().tolist()\n",
    "\n",
    "    return [[str(item) for item in row] for row in result]"
   ],
   "id": "2a5ef248994b1060",
   "outputs": [],
   "execution_count": 56
  },
  {
   "metadata": {
    "ExecuteTime": {
     "end_time": "2025-02-18T18:55:57.109606Z",
     "start_time": "2025-02-18T18:55:57.105695Z"
    }
   },
   "cell_type": "code",
   "source": [
    "categorical_cols = X_train.select(cs.string()).columns\n",
    "numerical_cols = X_train.select(cs.numeric()).columns"
   ],
   "id": "e183320734716f77",
   "outputs": [],
   "execution_count": 57
  },
  {
   "metadata": {
    "ExecuteTime": {
     "end_time": "2025-02-18T18:55:58.886272Z",
     "start_time": "2025-02-18T18:55:58.227186Z"
    }
   },
   "cell_type": "code",
   "source": [
    "X_train_list = prepare_for_hashing(X_train, categorical_cols)\n",
    "X_test_list = prepare_for_hashing(X_test, categorical_cols)"
   ],
   "id": "26576b659fc01ee",
   "outputs": [],
   "execution_count": 58
  },
  {
   "metadata": {
    "ExecuteTime": {
     "end_time": "2025-02-18T18:56:03.966766Z",
     "start_time": "2025-02-18T18:56:03.453925Z"
    }
   },
   "cell_type": "code",
   "source": [
    "hasher = FeatureHasher(n_features=64, input_type='string')\n",
    "X_train_hashed = hasher.fit_transform(X_train_list)\n",
    "X_test_hashed = hasher.transform(X_test_list)"
   ],
   "id": "e60d5a209bc41a93",
   "outputs": [],
   "execution_count": 59
  },
  {
   "metadata": {
    "ExecuteTime": {
     "end_time": "2025-02-18T18:56:06.554649Z",
     "start_time": "2025-02-18T18:56:06.551502Z"
    }
   },
   "cell_type": "code",
   "source": "smote = SMOTE(random_state=42)",
   "id": "2f42adec2279d7f9",
   "outputs": [],
   "execution_count": 60
  },
  {
   "metadata": {
    "ExecuteTime": {
     "end_time": "2025-02-18T18:56:10.769119Z",
     "start_time": "2025-02-18T18:56:08.932236Z"
    }
   },
   "cell_type": "code",
   "source": "X_train_resampled, y_train_resampled = smote.fit_resample(X_train_hashed, y_train)",
   "id": "a8e20f3689557136",
   "outputs": [],
   "execution_count": 61
  },
  {
   "metadata": {
    "ExecuteTime": {
     "end_time": "2025-02-18T18:56:11.599733Z",
     "start_time": "2025-02-18T18:56:11.596751Z"
    }
   },
   "cell_type": "code",
   "source": "from sklearn.preprocessing import StandardScaler",
   "id": "c127b8893e620a14",
   "outputs": [],
   "execution_count": 62
  },
  {
   "metadata": {
    "ExecuteTime": {
     "end_time": "2025-02-18T18:56:13.720304Z",
     "start_time": "2025-02-18T18:56:13.663623Z"
    }
   },
   "cell_type": "code",
   "source": [
    "scaler = StandardScaler(with_mean=False)\n",
    "X_train_scaled = scaler.fit_transform(X_train_resampled)\n",
    "X_test_scaled = scaler.transform(X_test_hashed)"
   ],
   "id": "5159d77e99989f35",
   "outputs": [],
   "execution_count": 63
  },
  {
   "metadata": {
    "ExecuteTime": {
     "end_time": "2025-02-18T18:56:14.650443Z",
     "start_time": "2025-02-18T18:56:14.647678Z"
    }
   },
   "cell_type": "code",
   "source": "from sklearn.linear_model import LogisticRegression",
   "id": "1a012c48381e1e81",
   "outputs": [],
   "execution_count": 64
  },
  {
   "metadata": {
    "ExecuteTime": {
     "end_time": "2025-02-18T18:56:15.499101Z",
     "start_time": "2025-02-18T18:56:15.496155Z"
    }
   },
   "cell_type": "code",
   "source": "from sklearn.model_selection import GridSearchCV",
   "id": "940c01bf0cfef9f4",
   "outputs": [],
   "execution_count": 65
  },
  {
   "metadata": {
    "ExecuteTime": {
     "end_time": "2025-02-18T18:56:16.629434Z",
     "start_time": "2025-02-18T18:56:16.625875Z"
    }
   },
   "cell_type": "code",
   "source": "logistic_reg = LogisticRegression(solver='saga', max_iter=1000)",
   "id": "7fbfcc844663c9ae",
   "outputs": [],
   "execution_count": 66
  },
  {
   "metadata": {
    "ExecuteTime": {
     "end_time": "2025-02-18T19:01:02.460042Z",
     "start_time": "2025-02-18T19:01:02.456751Z"
    }
   },
   "cell_type": "code",
   "source": [
    "param_grid = [\n",
    "    {\n",
    "        'penalty': ['l1', 'l2'],\n",
    "        'C': [0.001, 0.01, 0.1, 1, 10, 100, 1000],\n",
    "        'class_weight': [None, 'balanced']\n",
    "    },\n",
    "    {\n",
    "        'penalty': ['elasticnet'],\n",
    "        'C': [0.001, 0.01, 0.1, 1, 10, 100, 1000],\n",
    "        'l1_ratio': [0.25, 0.5, 0.75],\n",
    "        'class_weight': [None, 'balanced']\n",
    "    },\n",
    "    {\n",
    "        'penalty': [None],\n",
    "        'class_weight': [None, 'balanced']\n",
    "    }\n",
    "]"
   ],
   "id": "3326d59016ae5fd0",
   "outputs": [],
   "execution_count": 78
  },
  {
   "metadata": {
    "ExecuteTime": {
     "end_time": "2025-02-18T19:01:03.402743Z",
     "start_time": "2025-02-18T19:01:03.400248Z"
    }
   },
   "cell_type": "code",
   "source": [
    "logistic_reg_cv = GridSearchCV(\n",
    "    estimator=logistic_reg,\n",
    "    param_grid=param_grid,\n",
    "    cv=5,\n",
    "    verbose=2,\n",
    "    n_jobs=10,\n",
    "    scoring='f1_macro'\n",
    ")"
   ],
   "id": "f0599ead68ff865",
   "outputs": [],
   "execution_count": 79
  },
  {
   "metadata": {
    "ExecuteTime": {
     "end_time": "2025-02-18T19:03:47.523349Z",
     "start_time": "2025-02-18T19:01:05.465106Z"
    }
   },
   "cell_type": "code",
   "source": "logistic_reg_cv.fit(X_train_scaled, y_train_resampled)",
   "id": "23e14a3d2e31f5",
   "outputs": [
    {
     "name": "stdout",
     "output_type": "stream",
     "text": [
      "Fitting 5 folds for each of 72 candidates, totalling 360 fits\n"
     ]
    },
    {
     "data": {
      "text/plain": [
       "GridSearchCV(cv=5, estimator=LogisticRegression(max_iter=1000, solver='saga'),\n",
       "             n_jobs=10,\n",
       "             param_grid=[{'C': [0.001, 0.01, 0.1, 1, 10, 100, 1000],\n",
       "                          'class_weight': [None, 'balanced'],\n",
       "                          'penalty': ['l1', 'l2']},\n",
       "                         {'C': [0.001, 0.01, 0.1, 1, 10, 100, 1000],\n",
       "                          'class_weight': [None, 'balanced'],\n",
       "                          'l1_ratio': [0.25, 0.5, 0.75],\n",
       "                          'penalty': ['elasticnet']},\n",
       "                         {'class_weight': [None, 'balanced'],\n",
       "                          'penalty': [None]}],\n",
       "             scoring='f1_macro', verbose=2)"
      ],
      "text/html": [
       "<style>#sk-container-id-3 {\n",
       "  /* Definition of color scheme common for light and dark mode */\n",
       "  --sklearn-color-text: #000;\n",
       "  --sklearn-color-text-muted: #666;\n",
       "  --sklearn-color-line: gray;\n",
       "  /* Definition of color scheme for unfitted estimators */\n",
       "  --sklearn-color-unfitted-level-0: #fff5e6;\n",
       "  --sklearn-color-unfitted-level-1: #f6e4d2;\n",
       "  --sklearn-color-unfitted-level-2: #ffe0b3;\n",
       "  --sklearn-color-unfitted-level-3: chocolate;\n",
       "  /* Definition of color scheme for fitted estimators */\n",
       "  --sklearn-color-fitted-level-0: #f0f8ff;\n",
       "  --sklearn-color-fitted-level-1: #d4ebff;\n",
       "  --sklearn-color-fitted-level-2: #b3dbfd;\n",
       "  --sklearn-color-fitted-level-3: cornflowerblue;\n",
       "\n",
       "  /* Specific color for light theme */\n",
       "  --sklearn-color-text-on-default-background: var(--sg-text-color, var(--theme-code-foreground, var(--jp-content-font-color1, black)));\n",
       "  --sklearn-color-background: var(--sg-background-color, var(--theme-background, var(--jp-layout-color0, white)));\n",
       "  --sklearn-color-border-box: var(--sg-text-color, var(--theme-code-foreground, var(--jp-content-font-color1, black)));\n",
       "  --sklearn-color-icon: #696969;\n",
       "\n",
       "  @media (prefers-color-scheme: dark) {\n",
       "    /* Redefinition of color scheme for dark theme */\n",
       "    --sklearn-color-text-on-default-background: var(--sg-text-color, var(--theme-code-foreground, var(--jp-content-font-color1, white)));\n",
       "    --sklearn-color-background: var(--sg-background-color, var(--theme-background, var(--jp-layout-color0, #111)));\n",
       "    --sklearn-color-border-box: var(--sg-text-color, var(--theme-code-foreground, var(--jp-content-font-color1, white)));\n",
       "    --sklearn-color-icon: #878787;\n",
       "  }\n",
       "}\n",
       "\n",
       "#sk-container-id-3 {\n",
       "  color: var(--sklearn-color-text);\n",
       "}\n",
       "\n",
       "#sk-container-id-3 pre {\n",
       "  padding: 0;\n",
       "}\n",
       "\n",
       "#sk-container-id-3 input.sk-hidden--visually {\n",
       "  border: 0;\n",
       "  clip: rect(1px 1px 1px 1px);\n",
       "  clip: rect(1px, 1px, 1px, 1px);\n",
       "  height: 1px;\n",
       "  margin: -1px;\n",
       "  overflow: hidden;\n",
       "  padding: 0;\n",
       "  position: absolute;\n",
       "  width: 1px;\n",
       "}\n",
       "\n",
       "#sk-container-id-3 div.sk-dashed-wrapped {\n",
       "  border: 1px dashed var(--sklearn-color-line);\n",
       "  margin: 0 0.4em 0.5em 0.4em;\n",
       "  box-sizing: border-box;\n",
       "  padding-bottom: 0.4em;\n",
       "  background-color: var(--sklearn-color-background);\n",
       "}\n",
       "\n",
       "#sk-container-id-3 div.sk-container {\n",
       "  /* jupyter's `normalize.less` sets `[hidden] { display: none; }`\n",
       "     but bootstrap.min.css set `[hidden] { display: none !important; }`\n",
       "     so we also need the `!important` here to be able to override the\n",
       "     default hidden behavior on the sphinx rendered scikit-learn.org.\n",
       "     See: https://github.com/scikit-learn/scikit-learn/issues/21755 */\n",
       "  display: inline-block !important;\n",
       "  position: relative;\n",
       "}\n",
       "\n",
       "#sk-container-id-3 div.sk-text-repr-fallback {\n",
       "  display: none;\n",
       "}\n",
       "\n",
       "div.sk-parallel-item,\n",
       "div.sk-serial,\n",
       "div.sk-item {\n",
       "  /* draw centered vertical line to link estimators */\n",
       "  background-image: linear-gradient(var(--sklearn-color-text-on-default-background), var(--sklearn-color-text-on-default-background));\n",
       "  background-size: 2px 100%;\n",
       "  background-repeat: no-repeat;\n",
       "  background-position: center center;\n",
       "}\n",
       "\n",
       "/* Parallel-specific style estimator block */\n",
       "\n",
       "#sk-container-id-3 div.sk-parallel-item::after {\n",
       "  content: \"\";\n",
       "  width: 100%;\n",
       "  border-bottom: 2px solid var(--sklearn-color-text-on-default-background);\n",
       "  flex-grow: 1;\n",
       "}\n",
       "\n",
       "#sk-container-id-3 div.sk-parallel {\n",
       "  display: flex;\n",
       "  align-items: stretch;\n",
       "  justify-content: center;\n",
       "  background-color: var(--sklearn-color-background);\n",
       "  position: relative;\n",
       "}\n",
       "\n",
       "#sk-container-id-3 div.sk-parallel-item {\n",
       "  display: flex;\n",
       "  flex-direction: column;\n",
       "}\n",
       "\n",
       "#sk-container-id-3 div.sk-parallel-item:first-child::after {\n",
       "  align-self: flex-end;\n",
       "  width: 50%;\n",
       "}\n",
       "\n",
       "#sk-container-id-3 div.sk-parallel-item:last-child::after {\n",
       "  align-self: flex-start;\n",
       "  width: 50%;\n",
       "}\n",
       "\n",
       "#sk-container-id-3 div.sk-parallel-item:only-child::after {\n",
       "  width: 0;\n",
       "}\n",
       "\n",
       "/* Serial-specific style estimator block */\n",
       "\n",
       "#sk-container-id-3 div.sk-serial {\n",
       "  display: flex;\n",
       "  flex-direction: column;\n",
       "  align-items: center;\n",
       "  background-color: var(--sklearn-color-background);\n",
       "  padding-right: 1em;\n",
       "  padding-left: 1em;\n",
       "}\n",
       "\n",
       "\n",
       "/* Toggleable style: style used for estimator/Pipeline/ColumnTransformer box that is\n",
       "clickable and can be expanded/collapsed.\n",
       "- Pipeline and ColumnTransformer use this feature and define the default style\n",
       "- Estimators will overwrite some part of the style using the `sk-estimator` class\n",
       "*/\n",
       "\n",
       "/* Pipeline and ColumnTransformer style (default) */\n",
       "\n",
       "#sk-container-id-3 div.sk-toggleable {\n",
       "  /* Default theme specific background. It is overwritten whether we have a\n",
       "  specific estimator or a Pipeline/ColumnTransformer */\n",
       "  background-color: var(--sklearn-color-background);\n",
       "}\n",
       "\n",
       "/* Toggleable label */\n",
       "#sk-container-id-3 label.sk-toggleable__label {\n",
       "  cursor: pointer;\n",
       "  display: flex;\n",
       "  width: 100%;\n",
       "  margin-bottom: 0;\n",
       "  padding: 0.5em;\n",
       "  box-sizing: border-box;\n",
       "  text-align: center;\n",
       "  align-items: start;\n",
       "  justify-content: space-between;\n",
       "  gap: 0.5em;\n",
       "}\n",
       "\n",
       "#sk-container-id-3 label.sk-toggleable__label .caption {\n",
       "  font-size: 0.6rem;\n",
       "  font-weight: lighter;\n",
       "  color: var(--sklearn-color-text-muted);\n",
       "}\n",
       "\n",
       "#sk-container-id-3 label.sk-toggleable__label-arrow:before {\n",
       "  /* Arrow on the left of the label */\n",
       "  content: \"▸\";\n",
       "  float: left;\n",
       "  margin-right: 0.25em;\n",
       "  color: var(--sklearn-color-icon);\n",
       "}\n",
       "\n",
       "#sk-container-id-3 label.sk-toggleable__label-arrow:hover:before {\n",
       "  color: var(--sklearn-color-text);\n",
       "}\n",
       "\n",
       "/* Toggleable content - dropdown */\n",
       "\n",
       "#sk-container-id-3 div.sk-toggleable__content {\n",
       "  max-height: 0;\n",
       "  max-width: 0;\n",
       "  overflow: hidden;\n",
       "  text-align: left;\n",
       "  /* unfitted */\n",
       "  background-color: var(--sklearn-color-unfitted-level-0);\n",
       "}\n",
       "\n",
       "#sk-container-id-3 div.sk-toggleable__content.fitted {\n",
       "  /* fitted */\n",
       "  background-color: var(--sklearn-color-fitted-level-0);\n",
       "}\n",
       "\n",
       "#sk-container-id-3 div.sk-toggleable__content pre {\n",
       "  margin: 0.2em;\n",
       "  border-radius: 0.25em;\n",
       "  color: var(--sklearn-color-text);\n",
       "  /* unfitted */\n",
       "  background-color: var(--sklearn-color-unfitted-level-0);\n",
       "}\n",
       "\n",
       "#sk-container-id-3 div.sk-toggleable__content.fitted pre {\n",
       "  /* unfitted */\n",
       "  background-color: var(--sklearn-color-fitted-level-0);\n",
       "}\n",
       "\n",
       "#sk-container-id-3 input.sk-toggleable__control:checked~div.sk-toggleable__content {\n",
       "  /* Expand drop-down */\n",
       "  max-height: 200px;\n",
       "  max-width: 100%;\n",
       "  overflow: auto;\n",
       "}\n",
       "\n",
       "#sk-container-id-3 input.sk-toggleable__control:checked~label.sk-toggleable__label-arrow:before {\n",
       "  content: \"▾\";\n",
       "}\n",
       "\n",
       "/* Pipeline/ColumnTransformer-specific style */\n",
       "\n",
       "#sk-container-id-3 div.sk-label input.sk-toggleable__control:checked~label.sk-toggleable__label {\n",
       "  color: var(--sklearn-color-text);\n",
       "  background-color: var(--sklearn-color-unfitted-level-2);\n",
       "}\n",
       "\n",
       "#sk-container-id-3 div.sk-label.fitted input.sk-toggleable__control:checked~label.sk-toggleable__label {\n",
       "  background-color: var(--sklearn-color-fitted-level-2);\n",
       "}\n",
       "\n",
       "/* Estimator-specific style */\n",
       "\n",
       "/* Colorize estimator box */\n",
       "#sk-container-id-3 div.sk-estimator input.sk-toggleable__control:checked~label.sk-toggleable__label {\n",
       "  /* unfitted */\n",
       "  background-color: var(--sklearn-color-unfitted-level-2);\n",
       "}\n",
       "\n",
       "#sk-container-id-3 div.sk-estimator.fitted input.sk-toggleable__control:checked~label.sk-toggleable__label {\n",
       "  /* fitted */\n",
       "  background-color: var(--sklearn-color-fitted-level-2);\n",
       "}\n",
       "\n",
       "#sk-container-id-3 div.sk-label label.sk-toggleable__label,\n",
       "#sk-container-id-3 div.sk-label label {\n",
       "  /* The background is the default theme color */\n",
       "  color: var(--sklearn-color-text-on-default-background);\n",
       "}\n",
       "\n",
       "/* On hover, darken the color of the background */\n",
       "#sk-container-id-3 div.sk-label:hover label.sk-toggleable__label {\n",
       "  color: var(--sklearn-color-text);\n",
       "  background-color: var(--sklearn-color-unfitted-level-2);\n",
       "}\n",
       "\n",
       "/* Label box, darken color on hover, fitted */\n",
       "#sk-container-id-3 div.sk-label.fitted:hover label.sk-toggleable__label.fitted {\n",
       "  color: var(--sklearn-color-text);\n",
       "  background-color: var(--sklearn-color-fitted-level-2);\n",
       "}\n",
       "\n",
       "/* Estimator label */\n",
       "\n",
       "#sk-container-id-3 div.sk-label label {\n",
       "  font-family: monospace;\n",
       "  font-weight: bold;\n",
       "  display: inline-block;\n",
       "  line-height: 1.2em;\n",
       "}\n",
       "\n",
       "#sk-container-id-3 div.sk-label-container {\n",
       "  text-align: center;\n",
       "}\n",
       "\n",
       "/* Estimator-specific */\n",
       "#sk-container-id-3 div.sk-estimator {\n",
       "  font-family: monospace;\n",
       "  border: 1px dotted var(--sklearn-color-border-box);\n",
       "  border-radius: 0.25em;\n",
       "  box-sizing: border-box;\n",
       "  margin-bottom: 0.5em;\n",
       "  /* unfitted */\n",
       "  background-color: var(--sklearn-color-unfitted-level-0);\n",
       "}\n",
       "\n",
       "#sk-container-id-3 div.sk-estimator.fitted {\n",
       "  /* fitted */\n",
       "  background-color: var(--sklearn-color-fitted-level-0);\n",
       "}\n",
       "\n",
       "/* on hover */\n",
       "#sk-container-id-3 div.sk-estimator:hover {\n",
       "  /* unfitted */\n",
       "  background-color: var(--sklearn-color-unfitted-level-2);\n",
       "}\n",
       "\n",
       "#sk-container-id-3 div.sk-estimator.fitted:hover {\n",
       "  /* fitted */\n",
       "  background-color: var(--sklearn-color-fitted-level-2);\n",
       "}\n",
       "\n",
       "/* Specification for estimator info (e.g. \"i\" and \"?\") */\n",
       "\n",
       "/* Common style for \"i\" and \"?\" */\n",
       "\n",
       ".sk-estimator-doc-link,\n",
       "a:link.sk-estimator-doc-link,\n",
       "a:visited.sk-estimator-doc-link {\n",
       "  float: right;\n",
       "  font-size: smaller;\n",
       "  line-height: 1em;\n",
       "  font-family: monospace;\n",
       "  background-color: var(--sklearn-color-background);\n",
       "  border-radius: 1em;\n",
       "  height: 1em;\n",
       "  width: 1em;\n",
       "  text-decoration: none !important;\n",
       "  margin-left: 0.5em;\n",
       "  text-align: center;\n",
       "  /* unfitted */\n",
       "  border: var(--sklearn-color-unfitted-level-1) 1pt solid;\n",
       "  color: var(--sklearn-color-unfitted-level-1);\n",
       "}\n",
       "\n",
       ".sk-estimator-doc-link.fitted,\n",
       "a:link.sk-estimator-doc-link.fitted,\n",
       "a:visited.sk-estimator-doc-link.fitted {\n",
       "  /* fitted */\n",
       "  border: var(--sklearn-color-fitted-level-1) 1pt solid;\n",
       "  color: var(--sklearn-color-fitted-level-1);\n",
       "}\n",
       "\n",
       "/* On hover */\n",
       "div.sk-estimator:hover .sk-estimator-doc-link:hover,\n",
       ".sk-estimator-doc-link:hover,\n",
       "div.sk-label-container:hover .sk-estimator-doc-link:hover,\n",
       ".sk-estimator-doc-link:hover {\n",
       "  /* unfitted */\n",
       "  background-color: var(--sklearn-color-unfitted-level-3);\n",
       "  color: var(--sklearn-color-background);\n",
       "  text-decoration: none;\n",
       "}\n",
       "\n",
       "div.sk-estimator.fitted:hover .sk-estimator-doc-link.fitted:hover,\n",
       ".sk-estimator-doc-link.fitted:hover,\n",
       "div.sk-label-container:hover .sk-estimator-doc-link.fitted:hover,\n",
       ".sk-estimator-doc-link.fitted:hover {\n",
       "  /* fitted */\n",
       "  background-color: var(--sklearn-color-fitted-level-3);\n",
       "  color: var(--sklearn-color-background);\n",
       "  text-decoration: none;\n",
       "}\n",
       "\n",
       "/* Span, style for the box shown on hovering the info icon */\n",
       ".sk-estimator-doc-link span {\n",
       "  display: none;\n",
       "  z-index: 9999;\n",
       "  position: relative;\n",
       "  font-weight: normal;\n",
       "  right: .2ex;\n",
       "  padding: .5ex;\n",
       "  margin: .5ex;\n",
       "  width: min-content;\n",
       "  min-width: 20ex;\n",
       "  max-width: 50ex;\n",
       "  color: var(--sklearn-color-text);\n",
       "  box-shadow: 2pt 2pt 4pt #999;\n",
       "  /* unfitted */\n",
       "  background: var(--sklearn-color-unfitted-level-0);\n",
       "  border: .5pt solid var(--sklearn-color-unfitted-level-3);\n",
       "}\n",
       "\n",
       ".sk-estimator-doc-link.fitted span {\n",
       "  /* fitted */\n",
       "  background: var(--sklearn-color-fitted-level-0);\n",
       "  border: var(--sklearn-color-fitted-level-3);\n",
       "}\n",
       "\n",
       ".sk-estimator-doc-link:hover span {\n",
       "  display: block;\n",
       "}\n",
       "\n",
       "/* \"?\"-specific style due to the `<a>` HTML tag */\n",
       "\n",
       "#sk-container-id-3 a.estimator_doc_link {\n",
       "  float: right;\n",
       "  font-size: 1rem;\n",
       "  line-height: 1em;\n",
       "  font-family: monospace;\n",
       "  background-color: var(--sklearn-color-background);\n",
       "  border-radius: 1rem;\n",
       "  height: 1rem;\n",
       "  width: 1rem;\n",
       "  text-decoration: none;\n",
       "  /* unfitted */\n",
       "  color: var(--sklearn-color-unfitted-level-1);\n",
       "  border: var(--sklearn-color-unfitted-level-1) 1pt solid;\n",
       "}\n",
       "\n",
       "#sk-container-id-3 a.estimator_doc_link.fitted {\n",
       "  /* fitted */\n",
       "  border: var(--sklearn-color-fitted-level-1) 1pt solid;\n",
       "  color: var(--sklearn-color-fitted-level-1);\n",
       "}\n",
       "\n",
       "/* On hover */\n",
       "#sk-container-id-3 a.estimator_doc_link:hover {\n",
       "  /* unfitted */\n",
       "  background-color: var(--sklearn-color-unfitted-level-3);\n",
       "  color: var(--sklearn-color-background);\n",
       "  text-decoration: none;\n",
       "}\n",
       "\n",
       "#sk-container-id-3 a.estimator_doc_link.fitted:hover {\n",
       "  /* fitted */\n",
       "  background-color: var(--sklearn-color-fitted-level-3);\n",
       "}\n",
       "</style><div id=\"sk-container-id-3\" class=\"sk-top-container\"><div class=\"sk-text-repr-fallback\"><pre>GridSearchCV(cv=5, estimator=LogisticRegression(max_iter=1000, solver=&#x27;saga&#x27;),\n",
       "             n_jobs=10,\n",
       "             param_grid=[{&#x27;C&#x27;: [0.001, 0.01, 0.1, 1, 10, 100, 1000],\n",
       "                          &#x27;class_weight&#x27;: [None, &#x27;balanced&#x27;],\n",
       "                          &#x27;penalty&#x27;: [&#x27;l1&#x27;, &#x27;l2&#x27;]},\n",
       "                         {&#x27;C&#x27;: [0.001, 0.01, 0.1, 1, 10, 100, 1000],\n",
       "                          &#x27;class_weight&#x27;: [None, &#x27;balanced&#x27;],\n",
       "                          &#x27;l1_ratio&#x27;: [0.25, 0.5, 0.75],\n",
       "                          &#x27;penalty&#x27;: [&#x27;elasticnet&#x27;]},\n",
       "                         {&#x27;class_weight&#x27;: [None, &#x27;balanced&#x27;],\n",
       "                          &#x27;penalty&#x27;: [None]}],\n",
       "             scoring=&#x27;f1_macro&#x27;, verbose=2)</pre><b>In a Jupyter environment, please rerun this cell to show the HTML representation or trust the notebook. <br />On GitHub, the HTML representation is unable to render, please try loading this page with nbviewer.org.</b></div><div class=\"sk-container\" hidden><div class=\"sk-item sk-dashed-wrapped\"><div class=\"sk-label-container\"><div class=\"sk-label fitted sk-toggleable\"><input class=\"sk-toggleable__control sk-hidden--visually\" id=\"sk-estimator-id-5\" type=\"checkbox\" ><label for=\"sk-estimator-id-5\" class=\"sk-toggleable__label fitted sk-toggleable__label-arrow\"><div><div>GridSearchCV</div></div><div><a class=\"sk-estimator-doc-link fitted\" rel=\"noreferrer\" target=\"_blank\" href=\"https://scikit-learn.org/1.6/modules/generated/sklearn.model_selection.GridSearchCV.html\">?<span>Documentation for GridSearchCV</span></a><span class=\"sk-estimator-doc-link fitted\">i<span>Fitted</span></span></div></label><div class=\"sk-toggleable__content fitted\"><pre>GridSearchCV(cv=5, estimator=LogisticRegression(max_iter=1000, solver=&#x27;saga&#x27;),\n",
       "             n_jobs=10,\n",
       "             param_grid=[{&#x27;C&#x27;: [0.001, 0.01, 0.1, 1, 10, 100, 1000],\n",
       "                          &#x27;class_weight&#x27;: [None, &#x27;balanced&#x27;],\n",
       "                          &#x27;penalty&#x27;: [&#x27;l1&#x27;, &#x27;l2&#x27;]},\n",
       "                         {&#x27;C&#x27;: [0.001, 0.01, 0.1, 1, 10, 100, 1000],\n",
       "                          &#x27;class_weight&#x27;: [None, &#x27;balanced&#x27;],\n",
       "                          &#x27;l1_ratio&#x27;: [0.25, 0.5, 0.75],\n",
       "                          &#x27;penalty&#x27;: [&#x27;elasticnet&#x27;]},\n",
       "                         {&#x27;class_weight&#x27;: [None, &#x27;balanced&#x27;],\n",
       "                          &#x27;penalty&#x27;: [None]}],\n",
       "             scoring=&#x27;f1_macro&#x27;, verbose=2)</pre></div> </div></div><div class=\"sk-parallel\"><div class=\"sk-parallel-item\"><div class=\"sk-item\"><div class=\"sk-label-container\"><div class=\"sk-label fitted sk-toggleable\"><input class=\"sk-toggleable__control sk-hidden--visually\" id=\"sk-estimator-id-6\" type=\"checkbox\" ><label for=\"sk-estimator-id-6\" class=\"sk-toggleable__label fitted sk-toggleable__label-arrow\"><div><div>best_estimator_: LogisticRegression</div></div></label><div class=\"sk-toggleable__content fitted\"><pre>LogisticRegression(C=0.1, class_weight=&#x27;balanced&#x27;, max_iter=1000, penalty=&#x27;l1&#x27;,\n",
       "                   solver=&#x27;saga&#x27;)</pre></div> </div></div><div class=\"sk-serial\"><div class=\"sk-item\"><div class=\"sk-estimator fitted sk-toggleable\"><input class=\"sk-toggleable__control sk-hidden--visually\" id=\"sk-estimator-id-7\" type=\"checkbox\" ><label for=\"sk-estimator-id-7\" class=\"sk-toggleable__label fitted sk-toggleable__label-arrow\"><div><div>LogisticRegression</div></div><div><a class=\"sk-estimator-doc-link fitted\" rel=\"noreferrer\" target=\"_blank\" href=\"https://scikit-learn.org/1.6/modules/generated/sklearn.linear_model.LogisticRegression.html\">?<span>Documentation for LogisticRegression</span></a></div></label><div class=\"sk-toggleable__content fitted\"><pre>LogisticRegression(C=0.1, class_weight=&#x27;balanced&#x27;, max_iter=1000, penalty=&#x27;l1&#x27;,\n",
       "                   solver=&#x27;saga&#x27;)</pre></div> </div></div></div></div></div></div></div></div></div>"
      ]
     },
     "execution_count": 80,
     "metadata": {},
     "output_type": "execute_result"
    }
   ],
   "execution_count": 80
  },
  {
   "metadata": {
    "ExecuteTime": {
     "end_time": "2025-02-18T19:04:10.665142Z",
     "start_time": "2025-02-18T19:04:10.661560Z"
    }
   },
   "cell_type": "code",
   "source": "logistic_reg_cv.best_params_",
   "id": "576c75ef6d26f515",
   "outputs": [
    {
     "data": {
      "text/plain": [
       "{'C': 0.1, 'class_weight': 'balanced', 'penalty': 'l1'}"
      ]
     },
     "execution_count": 82,
     "metadata": {},
     "output_type": "execute_result"
    }
   ],
   "execution_count": 82
  },
  {
   "metadata": {
    "ExecuteTime": {
     "end_time": "2025-02-18T19:04:13.658949Z",
     "start_time": "2025-02-18T19:04:13.655225Z"
    }
   },
   "cell_type": "code",
   "source": "logistic_reg_cv.best_score_",
   "id": "c0ef6d6a65097d59",
   "outputs": [
    {
     "data": {
      "text/plain": [
       "np.float64(0.5230014685816256)"
      ]
     },
     "execution_count": 83,
     "metadata": {},
     "output_type": "execute_result"
    }
   ],
   "execution_count": 83
  },
  {
   "metadata": {
    "ExecuteTime": {
     "end_time": "2025-02-18T19:04:16.029724Z",
     "start_time": "2025-02-18T19:04:16.025061Z"
    }
   },
   "cell_type": "code",
   "source": "logistic_reg_cv.best_estimator_",
   "id": "b3df01c9edbca91",
   "outputs": [
    {
     "data": {
      "text/plain": [
       "LogisticRegression(C=0.1, class_weight='balanced', max_iter=1000, penalty='l1',\n",
       "                   solver='saga')"
      ],
      "text/html": [
       "<style>#sk-container-id-4 {\n",
       "  /* Definition of color scheme common for light and dark mode */\n",
       "  --sklearn-color-text: #000;\n",
       "  --sklearn-color-text-muted: #666;\n",
       "  --sklearn-color-line: gray;\n",
       "  /* Definition of color scheme for unfitted estimators */\n",
       "  --sklearn-color-unfitted-level-0: #fff5e6;\n",
       "  --sklearn-color-unfitted-level-1: #f6e4d2;\n",
       "  --sklearn-color-unfitted-level-2: #ffe0b3;\n",
       "  --sklearn-color-unfitted-level-3: chocolate;\n",
       "  /* Definition of color scheme for fitted estimators */\n",
       "  --sklearn-color-fitted-level-0: #f0f8ff;\n",
       "  --sklearn-color-fitted-level-1: #d4ebff;\n",
       "  --sklearn-color-fitted-level-2: #b3dbfd;\n",
       "  --sklearn-color-fitted-level-3: cornflowerblue;\n",
       "\n",
       "  /* Specific color for light theme */\n",
       "  --sklearn-color-text-on-default-background: var(--sg-text-color, var(--theme-code-foreground, var(--jp-content-font-color1, black)));\n",
       "  --sklearn-color-background: var(--sg-background-color, var(--theme-background, var(--jp-layout-color0, white)));\n",
       "  --sklearn-color-border-box: var(--sg-text-color, var(--theme-code-foreground, var(--jp-content-font-color1, black)));\n",
       "  --sklearn-color-icon: #696969;\n",
       "\n",
       "  @media (prefers-color-scheme: dark) {\n",
       "    /* Redefinition of color scheme for dark theme */\n",
       "    --sklearn-color-text-on-default-background: var(--sg-text-color, var(--theme-code-foreground, var(--jp-content-font-color1, white)));\n",
       "    --sklearn-color-background: var(--sg-background-color, var(--theme-background, var(--jp-layout-color0, #111)));\n",
       "    --sklearn-color-border-box: var(--sg-text-color, var(--theme-code-foreground, var(--jp-content-font-color1, white)));\n",
       "    --sklearn-color-icon: #878787;\n",
       "  }\n",
       "}\n",
       "\n",
       "#sk-container-id-4 {\n",
       "  color: var(--sklearn-color-text);\n",
       "}\n",
       "\n",
       "#sk-container-id-4 pre {\n",
       "  padding: 0;\n",
       "}\n",
       "\n",
       "#sk-container-id-4 input.sk-hidden--visually {\n",
       "  border: 0;\n",
       "  clip: rect(1px 1px 1px 1px);\n",
       "  clip: rect(1px, 1px, 1px, 1px);\n",
       "  height: 1px;\n",
       "  margin: -1px;\n",
       "  overflow: hidden;\n",
       "  padding: 0;\n",
       "  position: absolute;\n",
       "  width: 1px;\n",
       "}\n",
       "\n",
       "#sk-container-id-4 div.sk-dashed-wrapped {\n",
       "  border: 1px dashed var(--sklearn-color-line);\n",
       "  margin: 0 0.4em 0.5em 0.4em;\n",
       "  box-sizing: border-box;\n",
       "  padding-bottom: 0.4em;\n",
       "  background-color: var(--sklearn-color-background);\n",
       "}\n",
       "\n",
       "#sk-container-id-4 div.sk-container {\n",
       "  /* jupyter's `normalize.less` sets `[hidden] { display: none; }`\n",
       "     but bootstrap.min.css set `[hidden] { display: none !important; }`\n",
       "     so we also need the `!important` here to be able to override the\n",
       "     default hidden behavior on the sphinx rendered scikit-learn.org.\n",
       "     See: https://github.com/scikit-learn/scikit-learn/issues/21755 */\n",
       "  display: inline-block !important;\n",
       "  position: relative;\n",
       "}\n",
       "\n",
       "#sk-container-id-4 div.sk-text-repr-fallback {\n",
       "  display: none;\n",
       "}\n",
       "\n",
       "div.sk-parallel-item,\n",
       "div.sk-serial,\n",
       "div.sk-item {\n",
       "  /* draw centered vertical line to link estimators */\n",
       "  background-image: linear-gradient(var(--sklearn-color-text-on-default-background), var(--sklearn-color-text-on-default-background));\n",
       "  background-size: 2px 100%;\n",
       "  background-repeat: no-repeat;\n",
       "  background-position: center center;\n",
       "}\n",
       "\n",
       "/* Parallel-specific style estimator block */\n",
       "\n",
       "#sk-container-id-4 div.sk-parallel-item::after {\n",
       "  content: \"\";\n",
       "  width: 100%;\n",
       "  border-bottom: 2px solid var(--sklearn-color-text-on-default-background);\n",
       "  flex-grow: 1;\n",
       "}\n",
       "\n",
       "#sk-container-id-4 div.sk-parallel {\n",
       "  display: flex;\n",
       "  align-items: stretch;\n",
       "  justify-content: center;\n",
       "  background-color: var(--sklearn-color-background);\n",
       "  position: relative;\n",
       "}\n",
       "\n",
       "#sk-container-id-4 div.sk-parallel-item {\n",
       "  display: flex;\n",
       "  flex-direction: column;\n",
       "}\n",
       "\n",
       "#sk-container-id-4 div.sk-parallel-item:first-child::after {\n",
       "  align-self: flex-end;\n",
       "  width: 50%;\n",
       "}\n",
       "\n",
       "#sk-container-id-4 div.sk-parallel-item:last-child::after {\n",
       "  align-self: flex-start;\n",
       "  width: 50%;\n",
       "}\n",
       "\n",
       "#sk-container-id-4 div.sk-parallel-item:only-child::after {\n",
       "  width: 0;\n",
       "}\n",
       "\n",
       "/* Serial-specific style estimator block */\n",
       "\n",
       "#sk-container-id-4 div.sk-serial {\n",
       "  display: flex;\n",
       "  flex-direction: column;\n",
       "  align-items: center;\n",
       "  background-color: var(--sklearn-color-background);\n",
       "  padding-right: 1em;\n",
       "  padding-left: 1em;\n",
       "}\n",
       "\n",
       "\n",
       "/* Toggleable style: style used for estimator/Pipeline/ColumnTransformer box that is\n",
       "clickable and can be expanded/collapsed.\n",
       "- Pipeline and ColumnTransformer use this feature and define the default style\n",
       "- Estimators will overwrite some part of the style using the `sk-estimator` class\n",
       "*/\n",
       "\n",
       "/* Pipeline and ColumnTransformer style (default) */\n",
       "\n",
       "#sk-container-id-4 div.sk-toggleable {\n",
       "  /* Default theme specific background. It is overwritten whether we have a\n",
       "  specific estimator or a Pipeline/ColumnTransformer */\n",
       "  background-color: var(--sklearn-color-background);\n",
       "}\n",
       "\n",
       "/* Toggleable label */\n",
       "#sk-container-id-4 label.sk-toggleable__label {\n",
       "  cursor: pointer;\n",
       "  display: flex;\n",
       "  width: 100%;\n",
       "  margin-bottom: 0;\n",
       "  padding: 0.5em;\n",
       "  box-sizing: border-box;\n",
       "  text-align: center;\n",
       "  align-items: start;\n",
       "  justify-content: space-between;\n",
       "  gap: 0.5em;\n",
       "}\n",
       "\n",
       "#sk-container-id-4 label.sk-toggleable__label .caption {\n",
       "  font-size: 0.6rem;\n",
       "  font-weight: lighter;\n",
       "  color: var(--sklearn-color-text-muted);\n",
       "}\n",
       "\n",
       "#sk-container-id-4 label.sk-toggleable__label-arrow:before {\n",
       "  /* Arrow on the left of the label */\n",
       "  content: \"▸\";\n",
       "  float: left;\n",
       "  margin-right: 0.25em;\n",
       "  color: var(--sklearn-color-icon);\n",
       "}\n",
       "\n",
       "#sk-container-id-4 label.sk-toggleable__label-arrow:hover:before {\n",
       "  color: var(--sklearn-color-text);\n",
       "}\n",
       "\n",
       "/* Toggleable content - dropdown */\n",
       "\n",
       "#sk-container-id-4 div.sk-toggleable__content {\n",
       "  max-height: 0;\n",
       "  max-width: 0;\n",
       "  overflow: hidden;\n",
       "  text-align: left;\n",
       "  /* unfitted */\n",
       "  background-color: var(--sklearn-color-unfitted-level-0);\n",
       "}\n",
       "\n",
       "#sk-container-id-4 div.sk-toggleable__content.fitted {\n",
       "  /* fitted */\n",
       "  background-color: var(--sklearn-color-fitted-level-0);\n",
       "}\n",
       "\n",
       "#sk-container-id-4 div.sk-toggleable__content pre {\n",
       "  margin: 0.2em;\n",
       "  border-radius: 0.25em;\n",
       "  color: var(--sklearn-color-text);\n",
       "  /* unfitted */\n",
       "  background-color: var(--sklearn-color-unfitted-level-0);\n",
       "}\n",
       "\n",
       "#sk-container-id-4 div.sk-toggleable__content.fitted pre {\n",
       "  /* unfitted */\n",
       "  background-color: var(--sklearn-color-fitted-level-0);\n",
       "}\n",
       "\n",
       "#sk-container-id-4 input.sk-toggleable__control:checked~div.sk-toggleable__content {\n",
       "  /* Expand drop-down */\n",
       "  max-height: 200px;\n",
       "  max-width: 100%;\n",
       "  overflow: auto;\n",
       "}\n",
       "\n",
       "#sk-container-id-4 input.sk-toggleable__control:checked~label.sk-toggleable__label-arrow:before {\n",
       "  content: \"▾\";\n",
       "}\n",
       "\n",
       "/* Pipeline/ColumnTransformer-specific style */\n",
       "\n",
       "#sk-container-id-4 div.sk-label input.sk-toggleable__control:checked~label.sk-toggleable__label {\n",
       "  color: var(--sklearn-color-text);\n",
       "  background-color: var(--sklearn-color-unfitted-level-2);\n",
       "}\n",
       "\n",
       "#sk-container-id-4 div.sk-label.fitted input.sk-toggleable__control:checked~label.sk-toggleable__label {\n",
       "  background-color: var(--sklearn-color-fitted-level-2);\n",
       "}\n",
       "\n",
       "/* Estimator-specific style */\n",
       "\n",
       "/* Colorize estimator box */\n",
       "#sk-container-id-4 div.sk-estimator input.sk-toggleable__control:checked~label.sk-toggleable__label {\n",
       "  /* unfitted */\n",
       "  background-color: var(--sklearn-color-unfitted-level-2);\n",
       "}\n",
       "\n",
       "#sk-container-id-4 div.sk-estimator.fitted input.sk-toggleable__control:checked~label.sk-toggleable__label {\n",
       "  /* fitted */\n",
       "  background-color: var(--sklearn-color-fitted-level-2);\n",
       "}\n",
       "\n",
       "#sk-container-id-4 div.sk-label label.sk-toggleable__label,\n",
       "#sk-container-id-4 div.sk-label label {\n",
       "  /* The background is the default theme color */\n",
       "  color: var(--sklearn-color-text-on-default-background);\n",
       "}\n",
       "\n",
       "/* On hover, darken the color of the background */\n",
       "#sk-container-id-4 div.sk-label:hover label.sk-toggleable__label {\n",
       "  color: var(--sklearn-color-text);\n",
       "  background-color: var(--sklearn-color-unfitted-level-2);\n",
       "}\n",
       "\n",
       "/* Label box, darken color on hover, fitted */\n",
       "#sk-container-id-4 div.sk-label.fitted:hover label.sk-toggleable__label.fitted {\n",
       "  color: var(--sklearn-color-text);\n",
       "  background-color: var(--sklearn-color-fitted-level-2);\n",
       "}\n",
       "\n",
       "/* Estimator label */\n",
       "\n",
       "#sk-container-id-4 div.sk-label label {\n",
       "  font-family: monospace;\n",
       "  font-weight: bold;\n",
       "  display: inline-block;\n",
       "  line-height: 1.2em;\n",
       "}\n",
       "\n",
       "#sk-container-id-4 div.sk-label-container {\n",
       "  text-align: center;\n",
       "}\n",
       "\n",
       "/* Estimator-specific */\n",
       "#sk-container-id-4 div.sk-estimator {\n",
       "  font-family: monospace;\n",
       "  border: 1px dotted var(--sklearn-color-border-box);\n",
       "  border-radius: 0.25em;\n",
       "  box-sizing: border-box;\n",
       "  margin-bottom: 0.5em;\n",
       "  /* unfitted */\n",
       "  background-color: var(--sklearn-color-unfitted-level-0);\n",
       "}\n",
       "\n",
       "#sk-container-id-4 div.sk-estimator.fitted {\n",
       "  /* fitted */\n",
       "  background-color: var(--sklearn-color-fitted-level-0);\n",
       "}\n",
       "\n",
       "/* on hover */\n",
       "#sk-container-id-4 div.sk-estimator:hover {\n",
       "  /* unfitted */\n",
       "  background-color: var(--sklearn-color-unfitted-level-2);\n",
       "}\n",
       "\n",
       "#sk-container-id-4 div.sk-estimator.fitted:hover {\n",
       "  /* fitted */\n",
       "  background-color: var(--sklearn-color-fitted-level-2);\n",
       "}\n",
       "\n",
       "/* Specification for estimator info (e.g. \"i\" and \"?\") */\n",
       "\n",
       "/* Common style for \"i\" and \"?\" */\n",
       "\n",
       ".sk-estimator-doc-link,\n",
       "a:link.sk-estimator-doc-link,\n",
       "a:visited.sk-estimator-doc-link {\n",
       "  float: right;\n",
       "  font-size: smaller;\n",
       "  line-height: 1em;\n",
       "  font-family: monospace;\n",
       "  background-color: var(--sklearn-color-background);\n",
       "  border-radius: 1em;\n",
       "  height: 1em;\n",
       "  width: 1em;\n",
       "  text-decoration: none !important;\n",
       "  margin-left: 0.5em;\n",
       "  text-align: center;\n",
       "  /* unfitted */\n",
       "  border: var(--sklearn-color-unfitted-level-1) 1pt solid;\n",
       "  color: var(--sklearn-color-unfitted-level-1);\n",
       "}\n",
       "\n",
       ".sk-estimator-doc-link.fitted,\n",
       "a:link.sk-estimator-doc-link.fitted,\n",
       "a:visited.sk-estimator-doc-link.fitted {\n",
       "  /* fitted */\n",
       "  border: var(--sklearn-color-fitted-level-1) 1pt solid;\n",
       "  color: var(--sklearn-color-fitted-level-1);\n",
       "}\n",
       "\n",
       "/* On hover */\n",
       "div.sk-estimator:hover .sk-estimator-doc-link:hover,\n",
       ".sk-estimator-doc-link:hover,\n",
       "div.sk-label-container:hover .sk-estimator-doc-link:hover,\n",
       ".sk-estimator-doc-link:hover {\n",
       "  /* unfitted */\n",
       "  background-color: var(--sklearn-color-unfitted-level-3);\n",
       "  color: var(--sklearn-color-background);\n",
       "  text-decoration: none;\n",
       "}\n",
       "\n",
       "div.sk-estimator.fitted:hover .sk-estimator-doc-link.fitted:hover,\n",
       ".sk-estimator-doc-link.fitted:hover,\n",
       "div.sk-label-container:hover .sk-estimator-doc-link.fitted:hover,\n",
       ".sk-estimator-doc-link.fitted:hover {\n",
       "  /* fitted */\n",
       "  background-color: var(--sklearn-color-fitted-level-3);\n",
       "  color: var(--sklearn-color-background);\n",
       "  text-decoration: none;\n",
       "}\n",
       "\n",
       "/* Span, style for the box shown on hovering the info icon */\n",
       ".sk-estimator-doc-link span {\n",
       "  display: none;\n",
       "  z-index: 9999;\n",
       "  position: relative;\n",
       "  font-weight: normal;\n",
       "  right: .2ex;\n",
       "  padding: .5ex;\n",
       "  margin: .5ex;\n",
       "  width: min-content;\n",
       "  min-width: 20ex;\n",
       "  max-width: 50ex;\n",
       "  color: var(--sklearn-color-text);\n",
       "  box-shadow: 2pt 2pt 4pt #999;\n",
       "  /* unfitted */\n",
       "  background: var(--sklearn-color-unfitted-level-0);\n",
       "  border: .5pt solid var(--sklearn-color-unfitted-level-3);\n",
       "}\n",
       "\n",
       ".sk-estimator-doc-link.fitted span {\n",
       "  /* fitted */\n",
       "  background: var(--sklearn-color-fitted-level-0);\n",
       "  border: var(--sklearn-color-fitted-level-3);\n",
       "}\n",
       "\n",
       ".sk-estimator-doc-link:hover span {\n",
       "  display: block;\n",
       "}\n",
       "\n",
       "/* \"?\"-specific style due to the `<a>` HTML tag */\n",
       "\n",
       "#sk-container-id-4 a.estimator_doc_link {\n",
       "  float: right;\n",
       "  font-size: 1rem;\n",
       "  line-height: 1em;\n",
       "  font-family: monospace;\n",
       "  background-color: var(--sklearn-color-background);\n",
       "  border-radius: 1rem;\n",
       "  height: 1rem;\n",
       "  width: 1rem;\n",
       "  text-decoration: none;\n",
       "  /* unfitted */\n",
       "  color: var(--sklearn-color-unfitted-level-1);\n",
       "  border: var(--sklearn-color-unfitted-level-1) 1pt solid;\n",
       "}\n",
       "\n",
       "#sk-container-id-4 a.estimator_doc_link.fitted {\n",
       "  /* fitted */\n",
       "  border: var(--sklearn-color-fitted-level-1) 1pt solid;\n",
       "  color: var(--sklearn-color-fitted-level-1);\n",
       "}\n",
       "\n",
       "/* On hover */\n",
       "#sk-container-id-4 a.estimator_doc_link:hover {\n",
       "  /* unfitted */\n",
       "  background-color: var(--sklearn-color-unfitted-level-3);\n",
       "  color: var(--sklearn-color-background);\n",
       "  text-decoration: none;\n",
       "}\n",
       "\n",
       "#sk-container-id-4 a.estimator_doc_link.fitted:hover {\n",
       "  /* fitted */\n",
       "  background-color: var(--sklearn-color-fitted-level-3);\n",
       "}\n",
       "</style><div id=\"sk-container-id-4\" class=\"sk-top-container\"><div class=\"sk-text-repr-fallback\"><pre>LogisticRegression(C=0.1, class_weight=&#x27;balanced&#x27;, max_iter=1000, penalty=&#x27;l1&#x27;,\n",
       "                   solver=&#x27;saga&#x27;)</pre><b>In a Jupyter environment, please rerun this cell to show the HTML representation or trust the notebook. <br />On GitHub, the HTML representation is unable to render, please try loading this page with nbviewer.org.</b></div><div class=\"sk-container\" hidden><div class=\"sk-item\"><div class=\"sk-estimator fitted sk-toggleable\"><input class=\"sk-toggleable__control sk-hidden--visually\" id=\"sk-estimator-id-8\" type=\"checkbox\" checked><label for=\"sk-estimator-id-8\" class=\"sk-toggleable__label fitted sk-toggleable__label-arrow\"><div><div>LogisticRegression</div></div><div><a class=\"sk-estimator-doc-link fitted\" rel=\"noreferrer\" target=\"_blank\" href=\"https://scikit-learn.org/1.6/modules/generated/sklearn.linear_model.LogisticRegression.html\">?<span>Documentation for LogisticRegression</span></a><span class=\"sk-estimator-doc-link fitted\">i<span>Fitted</span></span></div></label><div class=\"sk-toggleable__content fitted\"><pre>LogisticRegression(C=0.1, class_weight=&#x27;balanced&#x27;, max_iter=1000, penalty=&#x27;l1&#x27;,\n",
       "                   solver=&#x27;saga&#x27;)</pre></div> </div></div></div></div>"
      ]
     },
     "execution_count": 84,
     "metadata": {},
     "output_type": "execute_result"
    }
   ],
   "execution_count": 84
  },
  {
   "metadata": {
    "ExecuteTime": {
     "end_time": "2025-02-18T19:04:18.798269Z",
     "start_time": "2025-02-18T19:04:18.794276Z"
    }
   },
   "cell_type": "code",
   "source": "y_pred = logistic_reg_cv.predict(X_test_scaled)",
   "id": "5d1dd7b5e9b1c461",
   "outputs": [],
   "execution_count": 85
  },
  {
   "metadata": {
    "ExecuteTime": {
     "end_time": "2025-02-18T19:04:19.652150Z",
     "start_time": "2025-02-18T19:04:19.648639Z"
    }
   },
   "cell_type": "code",
   "source": "from sklearn.metrics import classification_report, confusion_matrix, accuracy_score, f1_score, ConfusionMatrixDisplay",
   "id": "b67b61d99238d343",
   "outputs": [],
   "execution_count": 86
  },
  {
   "metadata": {
    "ExecuteTime": {
     "end_time": "2025-02-18T19:04:20.698965Z",
     "start_time": "2025-02-18T19:04:20.694851Z"
    }
   },
   "cell_type": "code",
   "source": "accuracy_score(y_test, y_pred)",
   "id": "5e0332e1669232d7",
   "outputs": [
    {
     "data": {
      "text/plain": [
       "0.517175"
      ]
     },
     "execution_count": 87,
     "metadata": {},
     "output_type": "execute_result"
    }
   ],
   "execution_count": 87
  },
  {
   "metadata": {
    "ExecuteTime": {
     "end_time": "2025-02-18T19:04:22.120858Z",
     "start_time": "2025-02-18T19:04:22.113586Z"
    }
   },
   "cell_type": "code",
   "source": "f1_score(y_test, y_pred)",
   "id": "2adff94485335f1",
   "outputs": [
    {
     "data": {
      "text/plain": [
       "0.09358426808091237"
      ]
     },
     "execution_count": 88,
     "metadata": {},
     "output_type": "execute_result"
    }
   ],
   "execution_count": 88
  },
  {
   "metadata": {
    "ExecuteTime": {
     "end_time": "2025-02-18T19:04:24.486483Z",
     "start_time": "2025-02-18T19:04:24.474550Z"
    }
   },
   "cell_type": "code",
   "source": "print(classification_report(y_test, y_pred))",
   "id": "cba43dfacb426bc7",
   "outputs": [
    {
     "name": "stdout",
     "output_type": "stream",
     "text": [
      "              precision    recall  f1-score   support\n",
      "\n",
      "           0       0.95      0.52      0.67     37955\n",
      "           1       0.05      0.49      0.09      2045\n",
      "\n",
      "    accuracy                           0.52     40000\n",
      "   macro avg       0.50      0.50      0.38     40000\n",
      "weighted avg       0.90      0.52      0.64     40000\n",
      "\n"
     ]
    }
   ],
   "execution_count": 89
  },
  {
   "metadata": {
    "ExecuteTime": {
     "end_time": "2025-02-18T19:04:26.246009Z",
     "start_time": "2025-02-18T19:04:26.241415Z"
    }
   },
   "cell_type": "code",
   "source": [
    "conf_matrix = confusion_matrix(y_test, y_pred)\n",
    "conf_matrix"
   ],
   "id": "7aca3780de6c8e90",
   "outputs": [
    {
     "data": {
      "text/plain": [
       "array([[19690, 18265],\n",
       "       [ 1048,   997]])"
      ]
     },
     "execution_count": 90,
     "metadata": {},
     "output_type": "execute_result"
    }
   ],
   "execution_count": 90
  },
  {
   "metadata": {
    "ExecuteTime": {
     "end_time": "2025-02-18T19:04:32.529627Z",
     "start_time": "2025-02-18T19:04:32.336336Z"
    }
   },
   "cell_type": "code",
   "source": "ConfusionMatrixDisplay.from_predictions(y_test, y_pred, cmap='Blues').ax_.grid(False)",
   "id": "1420ebe4181eb003",
   "outputs": [
    {
     "data": {
      "text/plain": [
       "<Figure size 640x480 with 2 Axes>"
      ],
      "image/png": "[encoded data removed]"
     },
     "metadata": {},
     "output_type": "display_data"
    }
   ],
   "execution_count": 91
  },
  {
   "metadata": {
    "ExecuteTime": {
     "end_time": "2025-02-18T19:04:34.403464Z",
     "start_time": "2025-02-18T19:04:34.396105Z"
    }
   },
   "cell_type": "code",
   "source": [
    "result = pl.DataFrame({\n",
    "    'Model': [\n",
    "        'Accuracy Score',\n",
    "        'F1 Score',\n",
    "        'True Negative',\n",
    "        'False Negative',\n",
    "        'False Positive',\n",
    "        'True Positive'\n",
    "    ],\n",
    "    'Logistic Regression CV': [\n",
    "        accuracy_score(y_test, y_pred),\n",
    "        f1_score(y_test, y_pred),\n",
    "        conf_matrix[0, 0],\n",
    "        conf_matrix[0, 1],\n",
    "        conf_matrix[1, 0],\n",
    "        conf_matrix[1, 1]],\n",
    "})"
   ],
   "id": "2281608d9fab0482",
   "outputs": [],
   "execution_count": 92
  },
  {
   "metadata": {
    "ExecuteTime": {
     "end_time": "2025-02-18T19:04:40.667796Z",
     "start_time": "2025-02-18T19:04:40.664043Z"
    }
   },
   "cell_type": "code",
   "source": "result",
   "id": "8c066451b9513abb",
   "outputs": [
    {
     "data": {
      "text/plain": [
       "shape: (6, 2)\n",
       "┌────────────────┬────────────────────────┐\n",
       "│ Model          ┆ Logistic Regression CV │\n",
       "│ ---            ┆ ---                    │\n",
       "│ str            ┆ f64                    │\n",
       "╞════════════════╪════════════════════════╡\n",
       "│ Accuracy Score ┆ 0.517175               │\n",
       "│ F1 Score       ┆ 0.093584               │\n",
       "│ True Negative  ┆ 19690.0                │\n",
       "│ False Negative ┆ 18265.0                │\n",
       "│ False Positive ┆ 1048.0                 │\n",
       "│ True Positive  ┆ 997.0                  │\n",
       "└────────────────┴────────────────────────┘"
      ],
      "text/html": [
       "<div><style>\n",
       ".dataframe > thead > tr,\n",
       ".dataframe > tbody > tr {\n",
       "  text-align: right;\n",
       "  white-space: pre-wrap;\n",
       "}\n",
       "</style>\n",
       "<small>shape: (6, 2)</small><table border=\"1\" class=\"dataframe\"><thead><tr><th>Model</th><th>Logistic Regression CV</th></tr><tr><td>str</td><td>f64</td></tr></thead><tbody><tr><td>&quot;Accuracy Score&quot;</td><td>0.517175</td></tr><tr><td>&quot;F1 Score&quot;</td><td>0.093584</td></tr><tr><td>&quot;True Negative&quot;</td><td>19690.0</td></tr><tr><td>&quot;False Negative&quot;</td><td>18265.0</td></tr><tr><td>&quot;False Positive&quot;</td><td>1048.0</td></tr><tr><td>&quot;True Positive&quot;</td><td>997.0</td></tr></tbody></table></div>"
      ]
     },
     "execution_count": 94,
     "metadata": {},
     "output_type": "execute_result"
    }
   ],
   "execution_count": 94
  },
  {
   "metadata": {
    "ExecuteTime": {
     "end_time": "2025-02-18T19:04:42.386251Z",
     "start_time": "2025-02-18T19:04:42.383651Z"
    }
   },
   "cell_type": "code",
   "source": [
    "from sklearn.ensemble import RandomForestClassifier\n",
    "from sklearn.model_selection import RandomizedSearchCV\n",
    "from sklearn.pipeline import Pipeline"
   ],
   "id": "bcf331a440326a86",
   "outputs": [],
   "execution_count": 95
  },
  {
   "metadata": {
    "ExecuteTime": {
     "end_time": "2025-02-18T19:04:43.432493Z",
     "start_time": "2025-02-18T19:04:43.429787Z"
    }
   },
   "cell_type": "code",
   "source": "random_forest = RandomForestClassifier(random_state=42)",
   "id": "3cbb4a34bd3f9038",
   "outputs": [],
   "execution_count": 96
  },
  {
   "metadata": {
    "ExecuteTime": {
     "end_time": "2025-02-18T19:21:07.287416Z",
     "start_time": "2025-02-18T19:21:07.283682Z"
    }
   },
   "cell_type": "code",
   "source": [
    "param_distributions = {\n",
    "    'n_estimators': [200], # [100, 200, 300],\n",
    "    'max_depth': [None], # [5, 15, 20, None],\n",
    "    'min_samples_split': [2], # [2, 5],\n",
    "    'min_samples_leaf': [1], # [1, 2],\n",
    "    'max_features': ['log2'], # ['sqrt', 'log2'],\n",
    "    'class_weight': ['balanced'] # [None, 'balanced', 'balanced_subsample']\n",
    "}"
   ],
   "id": "f797746bd84f2de3",
   "outputs": [],
   "execution_count": 105
  },
  {
   "metadata": {
    "ExecuteTime": {
     "end_time": "2025-02-18T19:21:12.009336Z",
     "start_time": "2025-02-18T19:21:12.006793Z"
    }
   },
   "cell_type": "code",
   "source": [
    "random_search = RandomizedSearchCV(\n",
    "    estimator=random_forest,\n",
    "    param_distributions=param_distributions,\n",
    "    n_iter=25,\n",
    "    cv=2,\n",
    "    verbose=3,\n",
    "    n_jobs=9,\n",
    "    scoring='f1_macro',\n",
    "    random_state=42\n",
    ")"
   ],
   "id": "cc24e21bb6be2ca9",
   "outputs": [],
   "execution_count": 106
  },
  {
   "metadata": {
    "ExecuteTime": {
     "end_time": "2025-02-18T20:03:18.398869Z",
     "start_time": "2025-02-18T19:21:13.210523Z"
    }
   },
   "cell_type": "code",
   "source": "random_search.fit(X_train_scaled, y_train_resampled)",
   "id": "96fa51743167b540",
   "outputs": [
    {
     "name": "stdout",
     "output_type": "stream",
     "text": [
      "Fitting 2 folds for each of 25 candidates, totalling 50 fits\n"
     ]
    },
    {
     "data": {
      "text/plain": [
       "RandomizedSearchCV(cv=2, estimator=RandomForestClassifier(random_state=42),\n",
       "                   n_iter=25, n_jobs=9,\n",
       "                   param_distributions={'class_weight': [None, 'balanced',\n",
       "                                                         'balanced_subsample'],\n",
       "                                        'max_depth': [5, 15, 20, None],\n",
       "                                        'max_features': ['sqrt', 'log2'],\n",
       "                                        'min_samples_leaf': [1, 2],\n",
       "                                        'min_samples_split': [2, 5],\n",
       "                                        'n_estimators': [100, 200, 300]},\n",
       "                   random_state=42, scoring='f1_macro', verbose=3)"
      ],
      "text/html": [
       "<style>#sk-container-id-5 {\n",
       "  /* Definition of color scheme common for light and dark mode */\n",
       "  --sklearn-color-text: #000;\n",
       "  --sklearn-color-text-muted: #666;\n",
       "  --sklearn-color-line: gray;\n",
       "  /* Definition of color scheme for unfitted estimators */\n",
       "  --sklearn-color-unfitted-level-0: #fff5e6;\n",
       "  --sklearn-color-unfitted-level-1: #f6e4d2;\n",
       "  --sklearn-color-unfitted-level-2: #ffe0b3;\n",
       "  --sklearn-color-unfitted-level-3: chocolate;\n",
       "  /* Definition of color scheme for fitted estimators */\n",
       "  --sklearn-color-fitted-level-0: #f0f8ff;\n",
       "  --sklearn-color-fitted-level-1: #d4ebff;\n",
       "  --sklearn-color-fitted-level-2: #b3dbfd;\n",
       "  --sklearn-color-fitted-level-3: cornflowerblue;\n",
       "\n",
       "  /* Specific color for light theme */\n",
       "  --sklearn-color-text-on-default-background: var(--sg-text-color, var(--theme-code-foreground, var(--jp-content-font-color1, black)));\n",
       "  --sklearn-color-background: var(--sg-background-color, var(--theme-background, var(--jp-layout-color0, white)));\n",
       "  --sklearn-color-border-box: var(--sg-text-color, var(--theme-code-foreground, var(--jp-content-font-color1, black)));\n",
       "  --sklearn-color-icon: #696969;\n",
       "\n",
       "  @media (prefers-color-scheme: dark) {\n",
       "    /* Redefinition of color scheme for dark theme */\n",
       "    --sklearn-color-text-on-default-background: var(--sg-text-color, var(--theme-code-foreground, var(--jp-content-font-color1, white)));\n",
       "    --sklearn-color-background: var(--sg-background-color, var(--theme-background, var(--jp-layout-color0, #111)));\n",
       "    --sklearn-color-border-box: var(--sg-text-color, var(--theme-code-foreground, var(--jp-content-font-color1, white)));\n",
       "    --sklearn-color-icon: #878787;\n",
       "  }\n",
       "}\n",
       "\n",
       "#sk-container-id-5 {\n",
       "  color: var(--sklearn-color-text);\n",
       "}\n",
       "\n",
       "#sk-container-id-5 pre {\n",
       "  padding: 0;\n",
       "}\n",
       "\n",
       "#sk-container-id-5 input.sk-hidden--visually {\n",
       "  border: 0;\n",
       "  clip: rect(1px 1px 1px 1px);\n",
       "  clip: rect(1px, 1px, 1px, 1px);\n",
       "  height: 1px;\n",
       "  margin: -1px;\n",
       "  overflow: hidden;\n",
       "  padding: 0;\n",
       "  position: absolute;\n",
       "  width: 1px;\n",
       "}\n",
       "\n",
       "#sk-container-id-5 div.sk-dashed-wrapped {\n",
       "  border: 1px dashed var(--sklearn-color-line);\n",
       "  margin: 0 0.4em 0.5em 0.4em;\n",
       "  box-sizing: border-box;\n",
       "  padding-bottom: 0.4em;\n",
       "  background-color: var(--sklearn-color-background);\n",
       "}\n",
       "\n",
       "#sk-container-id-5 div.sk-container {\n",
       "  /* jupyter's `normalize.less` sets `[hidden] { display: none; }`\n",
       "     but bootstrap.min.css set `[hidden] { display: none !important; }`\n",
       "     so we also need the `!important` here to be able to override the\n",
       "     default hidden behavior on the sphinx rendered scikit-learn.org.\n",
       "     See: https://github.com/scikit-learn/scikit-learn/issues/21755 */\n",
       "  display: inline-block !important;\n",
       "  position: relative;\n",
       "}\n",
       "\n",
       "#sk-container-id-5 div.sk-text-repr-fallback {\n",
       "  display: none;\n",
       "}\n",
       "\n",
       "div.sk-parallel-item,\n",
       "div.sk-serial,\n",
       "div.sk-item {\n",
       "  /* draw centered vertical line to link estimators */\n",
       "  background-image: linear-gradient(var(--sklearn-color-text-on-default-background), var(--sklearn-color-text-on-default-background));\n",
       "  background-size: 2px 100%;\n",
       "  background-repeat: no-repeat;\n",
       "  background-position: center center;\n",
       "}\n",
       "\n",
       "/* Parallel-specific style estimator block */\n",
       "\n",
       "#sk-container-id-5 div.sk-parallel-item::after {\n",
       "  content: \"\";\n",
       "  width: 100%;\n",
       "  border-bottom: 2px solid var(--sklearn-color-text-on-default-background);\n",
       "  flex-grow: 1;\n",
       "}\n",
       "\n",
       "#sk-container-id-5 div.sk-parallel {\n",
       "  display: flex;\n",
       "  align-items: stretch;\n",
       "  justify-content: center;\n",
       "  background-color: var(--sklearn-color-background);\n",
       "  position: relative;\n",
       "}\n",
       "\n",
       "#sk-container-id-5 div.sk-parallel-item {\n",
       "  display: flex;\n",
       "  flex-direction: column;\n",
       "}\n",
       "\n",
       "#sk-container-id-5 div.sk-parallel-item:first-child::after {\n",
       "  align-self: flex-end;\n",
       "  width: 50%;\n",
       "}\n",
       "\n",
       "#sk-container-id-5 div.sk-parallel-item:last-child::after {\n",
       "  align-self: flex-start;\n",
       "  width: 50%;\n",
       "}\n",
       "\n",
       "#sk-container-id-5 div.sk-parallel-item:only-child::after {\n",
       "  width: 0;\n",
       "}\n",
       "\n",
       "/* Serial-specific style estimator block */\n",
       "\n",
       "#sk-container-id-5 div.sk-serial {\n",
       "  display: flex;\n",
       "  flex-direction: column;\n",
       "  align-items: center;\n",
       "  background-color: var(--sklearn-color-background);\n",
       "  padding-right: 1em;\n",
       "  padding-left: 1em;\n",
       "}\n",
       "\n",
       "\n",
       "/* Toggleable style: style used for estimator/Pipeline/ColumnTransformer box that is\n",
       "clickable and can be expanded/collapsed.\n",
       "- Pipeline and ColumnTransformer use this feature and define the default style\n",
       "- Estimators will overwrite some part of the style using the `sk-estimator` class\n",
       "*/\n",
       "\n",
       "/* Pipeline and ColumnTransformer style (default) */\n",
       "\n",
       "#sk-container-id-5 div.sk-toggleable {\n",
       "  /* Default theme specific background. It is overwritten whether we have a\n",
       "  specific estimator or a Pipeline/ColumnTransformer */\n",
       "  background-color: var(--sklearn-color-background);\n",
       "}\n",
       "\n",
       "/* Toggleable label */\n",
       "#sk-container-id-5 label.sk-toggleable__label {\n",
       "  cursor: pointer;\n",
       "  display: flex;\n",
       "  width: 100%;\n",
       "  margin-bottom: 0;\n",
       "  padding: 0.5em;\n",
       "  box-sizing: border-box;\n",
       "  text-align: center;\n",
       "  align-items: start;\n",
       "  justify-content: space-between;\n",
       "  gap: 0.5em;\n",
       "}\n",
       "\n",
       "#sk-container-id-5 label.sk-toggleable__label .caption {\n",
       "  font-size: 0.6rem;\n",
       "  font-weight: lighter;\n",
       "  color: var(--sklearn-color-text-muted);\n",
       "}\n",
       "\n",
       "#sk-container-id-5 label.sk-toggleable__label-arrow:before {\n",
       "  /* Arrow on the left of the label */\n",
       "  content: \"▸\";\n",
       "  float: left;\n",
       "  margin-right: 0.25em;\n",
       "  color: var(--sklearn-color-icon);\n",
       "}\n",
       "\n",
       "#sk-container-id-5 label.sk-toggleable__label-arrow:hover:before {\n",
       "  color: var(--sklearn-color-text);\n",
       "}\n",
       "\n",
       "/* Toggleable content - dropdown */\n",
       "\n",
       "#sk-container-id-5 div.sk-toggleable__content {\n",
       "  max-height: 0;\n",
       "  max-width: 0;\n",
       "  overflow: hidden;\n",
       "  text-align: left;\n",
       "  /* unfitted */\n",
       "  background-color: var(--sklearn-color-unfitted-level-0);\n",
       "}\n",
       "\n",
       "#sk-container-id-5 div.sk-toggleable__content.fitted {\n",
       "  /* fitted */\n",
       "  background-color: var(--sklearn-color-fitted-level-0);\n",
       "}\n",
       "\n",
       "#sk-container-id-5 div.sk-toggleable__content pre {\n",
       "  margin: 0.2em;\n",
       "  border-radius: 0.25em;\n",
       "  color: var(--sklearn-color-text);\n",
       "  /* unfitted */\n",
       "  background-color: var(--sklearn-color-unfitted-level-0);\n",
       "}\n",
       "\n",
       "#sk-container-id-5 div.sk-toggleable__content.fitted pre {\n",
       "  /* unfitted */\n",
       "  background-color: var(--sklearn-color-fitted-level-0);\n",
       "}\n",
       "\n",
       "#sk-container-id-5 input.sk-toggleable__control:checked~div.sk-toggleable__content {\n",
       "  /* Expand drop-down */\n",
       "  max-height: 200px;\n",
       "  max-width: 100%;\n",
       "  overflow: auto;\n",
       "}\n",
       "\n",
       "#sk-container-id-5 input.sk-toggleable__control:checked~label.sk-toggleable__label-arrow:before {\n",
       "  content: \"▾\";\n",
       "}\n",
       "\n",
       "/* Pipeline/ColumnTransformer-specific style */\n",
       "\n",
       "#sk-container-id-5 div.sk-label input.sk-toggleable__control:checked~label.sk-toggleable__label {\n",
       "  color: var(--sklearn-color-text);\n",
       "  background-color: var(--sklearn-color-unfitted-level-2);\n",
       "}\n",
       "\n",
       "#sk-container-id-5 div.sk-label.fitted input.sk-toggleable__control:checked~label.sk-toggleable__label {\n",
       "  background-color: var(--sklearn-color-fitted-level-2);\n",
       "}\n",
       "\n",
       "/* Estimator-specific style */\n",
       "\n",
       "/* Colorize estimator box */\n",
       "#sk-container-id-5 div.sk-estimator input.sk-toggleable__control:checked~label.sk-toggleable__label {\n",
       "  /* unfitted */\n",
       "  background-color: var(--sklearn-color-unfitted-level-2);\n",
       "}\n",
       "\n",
       "#sk-container-id-5 div.sk-estimator.fitted input.sk-toggleable__control:checked~label.sk-toggleable__label {\n",
       "  /* fitted */\n",
       "  background-color: var(--sklearn-color-fitted-level-2);\n",
       "}\n",
       "\n",
       "#sk-container-id-5 div.sk-label label.sk-toggleable__label,\n",
       "#sk-container-id-5 div.sk-label label {\n",
       "  /* The background is the default theme color */\n",
       "  color: var(--sklearn-color-text-on-default-background);\n",
       "}\n",
       "\n",
       "/* On hover, darken the color of the background */\n",
       "#sk-container-id-5 div.sk-label:hover label.sk-toggleable__label {\n",
       "  color: var(--sklearn-color-text);\n",
       "  background-color: var(--sklearn-color-unfitted-level-2);\n",
       "}\n",
       "\n",
       "/* Label box, darken color on hover, fitted */\n",
       "#sk-container-id-5 div.sk-label.fitted:hover label.sk-toggleable__label.fitted {\n",
       "  color: var(--sklearn-color-text);\n",
       "  background-color: var(--sklearn-color-fitted-level-2);\n",
       "}\n",
       "\n",
       "/* Estimator label */\n",
       "\n",
       "#sk-container-id-5 div.sk-label label {\n",
       "  font-family: monospace;\n",
       "  font-weight: bold;\n",
       "  display: inline-block;\n",
       "  line-height: 1.2em;\n",
       "}\n",
       "\n",
       "#sk-container-id-5 div.sk-label-container {\n",
       "  text-align: center;\n",
       "}\n",
       "\n",
       "/* Estimator-specific */\n",
       "#sk-container-id-5 div.sk-estimator {\n",
       "  font-family: monospace;\n",
       "  border: 1px dotted var(--sklearn-color-border-box);\n",
       "  border-radius: 0.25em;\n",
       "  box-sizing: border-box;\n",
       "  margin-bottom: 0.5em;\n",
       "  /* unfitted */\n",
       "  background-color: var(--sklearn-color-unfitted-level-0);\n",
       "}\n",
       "\n",
       "#sk-container-id-5 div.sk-estimator.fitted {\n",
       "  /* fitted */\n",
       "  background-color: var(--sklearn-color-fitted-level-0);\n",
       "}\n",
       "\n",
       "/* on hover */\n",
       "#sk-container-id-5 div.sk-estimator:hover {\n",
       "  /* unfitted */\n",
       "  background-color: var(--sklearn-color-unfitted-level-2);\n",
       "}\n",
       "\n",
       "#sk-container-id-5 div.sk-estimator.fitted:hover {\n",
       "  /* fitted */\n",
       "  background-color: var(--sklearn-color-fitted-level-2);\n",
       "}\n",
       "\n",
       "/* Specification for estimator info (e.g. \"i\" and \"?\") */\n",
       "\n",
       "/* Common style for \"i\" and \"?\" */\n",
       "\n",
       ".sk-estimator-doc-link,\n",
       "a:link.sk-estimator-doc-link,\n",
       "a:visited.sk-estimator-doc-link {\n",
       "  float: right;\n",
       "  font-size: smaller;\n",
       "  line-height: 1em;\n",
       "  font-family: monospace;\n",
       "  background-color: var(--sklearn-color-background);\n",
       "  border-radius: 1em;\n",
       "  height: 1em;\n",
       "  width: 1em;\n",
       "  text-decoration: none !important;\n",
       "  margin-left: 0.5em;\n",
       "  text-align: center;\n",
       "  /* unfitted */\n",
       "  border: var(--sklearn-color-unfitted-level-1) 1pt solid;\n",
       "  color: var(--sklearn-color-unfitted-level-1);\n",
       "}\n",
       "\n",
       ".sk-estimator-doc-link.fitted,\n",
       "a:link.sk-estimator-doc-link.fitted,\n",
       "a:visited.sk-estimator-doc-link.fitted {\n",
       "  /* fitted */\n",
       "  border: var(--sklearn-color-fitted-level-1) 1pt solid;\n",
       "  color: var(--sklearn-color-fitted-level-1);\n",
       "}\n",
       "\n",
       "/* On hover */\n",
       "div.sk-estimator:hover .sk-estimator-doc-link:hover,\n",
       ".sk-estimator-doc-link:hover,\n",
       "div.sk-label-container:hover .sk-estimator-doc-link:hover,\n",
       ".sk-estimator-doc-link:hover {\n",
       "  /* unfitted */\n",
       "  background-color: var(--sklearn-color-unfitted-level-3);\n",
       "  color: var(--sklearn-color-background);\n",
       "  text-decoration: none;\n",
       "}\n",
       "\n",
       "div.sk-estimator.fitted:hover .sk-estimator-doc-link.fitted:hover,\n",
       ".sk-estimator-doc-link.fitted:hover,\n",
       "div.sk-label-container:hover .sk-estimator-doc-link.fitted:hover,\n",
       ".sk-estimator-doc-link.fitted:hover {\n",
       "  /* fitted */\n",
       "  background-color: var(--sklearn-color-fitted-level-3);\n",
       "  color: var(--sklearn-color-background);\n",
       "  text-decoration: none;\n",
       "}\n",
       "\n",
       "/* Span, style for the box shown on hovering the info icon */\n",
       ".sk-estimator-doc-link span {\n",
       "  display: none;\n",
       "  z-index: 9999;\n",
       "  position: relative;\n",
       "  font-weight: normal;\n",
       "  right: .2ex;\n",
       "  padding: .5ex;\n",
       "  margin: .5ex;\n",
       "  width: min-content;\n",
       "  min-width: 20ex;\n",
       "  max-width: 50ex;\n",
       "  color: var(--sklearn-color-text);\n",
       "  box-shadow: 2pt 2pt 4pt #999;\n",
       "  /* unfitted */\n",
       "  background: var(--sklearn-color-unfitted-level-0);\n",
       "  border: .5pt solid var(--sklearn-color-unfitted-level-3);\n",
       "}\n",
       "\n",
       ".sk-estimator-doc-link.fitted span {\n",
       "  /* fitted */\n",
       "  background: var(--sklearn-color-fitted-level-0);\n",
       "  border: var(--sklearn-color-fitted-level-3);\n",
       "}\n",
       "\n",
       ".sk-estimator-doc-link:hover span {\n",
       "  display: block;\n",
       "}\n",
       "\n",
       "/* \"?\"-specific style due to the `<a>` HTML tag */\n",
       "\n",
       "#sk-container-id-5 a.estimator_doc_link {\n",
       "  float: right;\n",
       "  font-size: 1rem;\n",
       "  line-height: 1em;\n",
       "  font-family: monospace;\n",
       "  background-color: var(--sklearn-color-background);\n",
       "  border-radius: 1rem;\n",
       "  height: 1rem;\n",
       "  width: 1rem;\n",
       "  text-decoration: none;\n",
       "  /* unfitted */\n",
       "  color: var(--sklearn-color-unfitted-level-1);\n",
       "  border: var(--sklearn-color-unfitted-level-1) 1pt solid;\n",
       "}\n",
       "\n",
       "#sk-container-id-5 a.estimator_doc_link.fitted {\n",
       "  /* fitted */\n",
       "  border: var(--sklearn-color-fitted-level-1) 1pt solid;\n",
       "  color: var(--sklearn-color-fitted-level-1);\n",
       "}\n",
       "\n",
       "/* On hover */\n",
       "#sk-container-id-5 a.estimator_doc_link:hover {\n",
       "  /* unfitted */\n",
       "  background-color: var(--sklearn-color-unfitted-level-3);\n",
       "  color: var(--sklearn-color-background);\n",
       "  text-decoration: none;\n",
       "}\n",
       "\n",
       "#sk-container-id-5 a.estimator_doc_link.fitted:hover {\n",
       "  /* fitted */\n",
       "  background-color: var(--sklearn-color-fitted-level-3);\n",
       "}\n",
       "</style><div id=\"sk-container-id-5\" class=\"sk-top-container\"><div class=\"sk-text-repr-fallback\"><pre>RandomizedSearchCV(cv=2, estimator=RandomForestClassifier(random_state=42),\n",
       "                   n_iter=25, n_jobs=9,\n",
       "                   param_distributions={&#x27;class_weight&#x27;: [None, &#x27;balanced&#x27;,\n",
       "                                                         &#x27;balanced_subsample&#x27;],\n",
       "                                        &#x27;max_depth&#x27;: [5, 15, 20, None],\n",
       "                                        &#x27;max_features&#x27;: [&#x27;sqrt&#x27;, &#x27;log2&#x27;],\n",
       "                                        &#x27;min_samples_leaf&#x27;: [1, 2],\n",
       "                                        &#x27;min_samples_split&#x27;: [2, 5],\n",
       "                                        &#x27;n_estimators&#x27;: [100, 200, 300]},\n",
       "                   random_state=42, scoring=&#x27;f1_macro&#x27;, verbose=3)</pre><b>In a Jupyter environment, please rerun this cell to show the HTML representation or trust the notebook. <br />On GitHub, the HTML representation is unable to render, please try loading this page with nbviewer.org.</b></div><div class=\"sk-container\" hidden><div class=\"sk-item sk-dashed-wrapped\"><div class=\"sk-label-container\"><div class=\"sk-label fitted sk-toggleable\"><input class=\"sk-toggleable__control sk-hidden--visually\" id=\"sk-estimator-id-9\" type=\"checkbox\" ><label for=\"sk-estimator-id-9\" class=\"sk-toggleable__label fitted sk-toggleable__label-arrow\"><div><div>RandomizedSearchCV</div></div><div><a class=\"sk-estimator-doc-link fitted\" rel=\"noreferrer\" target=\"_blank\" href=\"https://scikit-learn.org/1.6/modules/generated/sklearn.model_selection.RandomizedSearchCV.html\">?<span>Documentation for RandomizedSearchCV</span></a><span class=\"sk-estimator-doc-link fitted\">i<span>Fitted</span></span></div></label><div class=\"sk-toggleable__content fitted\"><pre>RandomizedSearchCV(cv=2, estimator=RandomForestClassifier(random_state=42),\n",
       "                   n_iter=25, n_jobs=9,\n",
       "                   param_distributions={&#x27;class_weight&#x27;: [None, &#x27;balanced&#x27;,\n",
       "                                                         &#x27;balanced_subsample&#x27;],\n",
       "                                        &#x27;max_depth&#x27;: [5, 15, 20, None],\n",
       "                                        &#x27;max_features&#x27;: [&#x27;sqrt&#x27;, &#x27;log2&#x27;],\n",
       "                                        &#x27;min_samples_leaf&#x27;: [1, 2],\n",
       "                                        &#x27;min_samples_split&#x27;: [2, 5],\n",
       "                                        &#x27;n_estimators&#x27;: [100, 200, 300]},\n",
       "                   random_state=42, scoring=&#x27;f1_macro&#x27;, verbose=3)</pre></div> </div></div><div class=\"sk-parallel\"><div class=\"sk-parallel-item\"><div class=\"sk-item\"><div class=\"sk-label-container\"><div class=\"sk-label fitted sk-toggleable\"><input class=\"sk-toggleable__control sk-hidden--visually\" id=\"sk-estimator-id-10\" type=\"checkbox\" ><label for=\"sk-estimator-id-10\" class=\"sk-toggleable__label fitted sk-toggleable__label-arrow\"><div><div>best_estimator_: RandomForestClassifier</div></div></label><div class=\"sk-toggleable__content fitted\"><pre>RandomForestClassifier(class_weight=&#x27;balanced&#x27;, max_features=&#x27;log2&#x27;,\n",
       "                       n_estimators=200, random_state=42)</pre></div> </div></div><div class=\"sk-serial\"><div class=\"sk-item\"><div class=\"sk-estimator fitted sk-toggleable\"><input class=\"sk-toggleable__control sk-hidden--visually\" id=\"sk-estimator-id-11\" type=\"checkbox\" ><label for=\"sk-estimator-id-11\" class=\"sk-toggleable__label fitted sk-toggleable__label-arrow\"><div><div>RandomForestClassifier</div></div><div><a class=\"sk-estimator-doc-link fitted\" rel=\"noreferrer\" target=\"_blank\" href=\"https://scikit-learn.org/1.6/modules/generated/sklearn.ensemble.RandomForestClassifier.html\">?<span>Documentation for RandomForestClassifier</span></a></div></label><div class=\"sk-toggleable__content fitted\"><pre>RandomForestClassifier(class_weight=&#x27;balanced&#x27;, max_features=&#x27;log2&#x27;,\n",
       "                       n_estimators=200, random_state=42)</pre></div> </div></div></div></div></div></div></div></div></div>"
      ]
     },
     "execution_count": 107,
     "metadata": {},
     "output_type": "execute_result"
    }
   ],
   "execution_count": 107
  },
  {
   "metadata": {
    "ExecuteTime": {
     "end_time": "2025-02-18T20:03:18.429499Z",
     "start_time": "2025-02-18T20:03:18.426181Z"
    }
   },
   "cell_type": "code",
   "source": "random_search.best_params_",
   "id": "cc6da7906d6dbe9e",
   "outputs": [
    {
     "data": {
      "text/plain": [
       "{'n_estimators': 200,\n",
       " 'min_samples_split': 2,\n",
       " 'min_samples_leaf': 1,\n",
       " 'max_features': 'log2',\n",
       " 'max_depth': None,\n",
       " 'class_weight': 'balanced'}"
      ]
     },
     "execution_count": 108,
     "metadata": {},
     "output_type": "execute_result"
    }
   ],
   "execution_count": 108
  },
  {
   "metadata": {
    "ExecuteTime": {
     "end_time": "2025-02-18T20:03:18.456238Z",
     "start_time": "2025-02-18T20:03:18.452868Z"
    }
   },
   "cell_type": "code",
   "source": "random_search.best_score_",
   "id": "d85785d6d4aff68d",
   "outputs": [
    {
     "data": {
      "text/plain": [
       "np.float64(0.973095041345408)"
      ]
     },
     "execution_count": 109,
     "metadata": {},
     "output_type": "execute_result"
    }
   ],
   "execution_count": 109
  },
  {
   "metadata": {
    "ExecuteTime": {
     "end_time": "2025-02-18T20:03:18.513328Z",
     "start_time": "2025-02-18T20:03:18.508818Z"
    }
   },
   "cell_type": "code",
   "source": "random_search.best_estimator_",
   "id": "5e04c122ed8546d4",
   "outputs": [
    {
     "data": {
      "text/plain": [
       "RandomForestClassifier(class_weight='balanced', max_features='log2',\n",
       "                       n_estimators=200, random_state=42)"
      ],
      "text/html": [
       "<style>#sk-container-id-6 {\n",
       "  /* Definition of color scheme common for light and dark mode */\n",
       "  --sklearn-color-text: #000;\n",
       "  --sklearn-color-text-muted: #666;\n",
       "  --sklearn-color-line: gray;\n",
       "  /* Definition of color scheme for unfitted estimators */\n",
       "  --sklearn-color-unfitted-level-0: #fff5e6;\n",
       "  --sklearn-color-unfitted-level-1: #f6e4d2;\n",
       "  --sklearn-color-unfitted-level-2: #ffe0b3;\n",
       "  --sklearn-color-unfitted-level-3: chocolate;\n",
       "  /* Definition of color scheme for fitted estimators */\n",
       "  --sklearn-color-fitted-level-0: #f0f8ff;\n",
       "  --sklearn-color-fitted-level-1: #d4ebff;\n",
       "  --sklearn-color-fitted-level-2: #b3dbfd;\n",
       "  --sklearn-color-fitted-level-3: cornflowerblue;\n",
       "\n",
       "  /* Specific color for light theme */\n",
       "  --sklearn-color-text-on-default-background: var(--sg-text-color, var(--theme-code-foreground, var(--jp-content-font-color1, black)));\n",
       "  --sklearn-color-background: var(--sg-background-color, var(--theme-background, var(--jp-layout-color0, white)));\n",
       "  --sklearn-color-border-box: var(--sg-text-color, var(--theme-code-foreground, var(--jp-content-font-color1, black)));\n",
       "  --sklearn-color-icon: #696969;\n",
       "\n",
       "  @media (prefers-color-scheme: dark) {\n",
       "    /* Redefinition of color scheme for dark theme */\n",
       "    --sklearn-color-text-on-default-background: var(--sg-text-color, var(--theme-code-foreground, var(--jp-content-font-color1, white)));\n",
       "    --sklearn-color-background: var(--sg-background-color, var(--theme-background, var(--jp-layout-color0, #111)));\n",
       "    --sklearn-color-border-box: var(--sg-text-color, var(--theme-code-foreground, var(--jp-content-font-color1, white)));\n",
       "    --sklearn-color-icon: #878787;\n",
       "  }\n",
       "}\n",
       "\n",
       "#sk-container-id-6 {\n",
       "  color: var(--sklearn-color-text);\n",
       "}\n",
       "\n",
       "#sk-container-id-6 pre {\n",
       "  padding: 0;\n",
       "}\n",
       "\n",
       "#sk-container-id-6 input.sk-hidden--visually {\n",
       "  border: 0;\n",
       "  clip: rect(1px 1px 1px 1px);\n",
       "  clip: rect(1px, 1px, 1px, 1px);\n",
       "  height: 1px;\n",
       "  margin: -1px;\n",
       "  overflow: hidden;\n",
       "  padding: 0;\n",
       "  position: absolute;\n",
       "  width: 1px;\n",
       "}\n",
       "\n",
       "#sk-container-id-6 div.sk-dashed-wrapped {\n",
       "  border: 1px dashed var(--sklearn-color-line);\n",
       "  margin: 0 0.4em 0.5em 0.4em;\n",
       "  box-sizing: border-box;\n",
       "  padding-bottom: 0.4em;\n",
       "  background-color: var(--sklearn-color-background);\n",
       "}\n",
       "\n",
       "#sk-container-id-6 div.sk-container {\n",
       "  /* jupyter's `normalize.less` sets `[hidden] { display: none; }`\n",
       "     but bootstrap.min.css set `[hidden] { display: none !important; }`\n",
       "     so we also need the `!important` here to be able to override the\n",
       "     default hidden behavior on the sphinx rendered scikit-learn.org.\n",
       "     See: https://github.com/scikit-learn/scikit-learn/issues/21755 */\n",
       "  display: inline-block !important;\n",
       "  position: relative;\n",
       "}\n",
       "\n",
       "#sk-container-id-6 div.sk-text-repr-fallback {\n",
       "  display: none;\n",
       "}\n",
       "\n",
       "div.sk-parallel-item,\n",
       "div.sk-serial,\n",
       "div.sk-item {\n",
       "  /* draw centered vertical line to link estimators */\n",
       "  background-image: linear-gradient(var(--sklearn-color-text-on-default-background), var(--sklearn-color-text-on-default-background));\n",
       "  background-size: 2px 100%;\n",
       "  background-repeat: no-repeat;\n",
       "  background-position: center center;\n",
       "}\n",
       "\n",
       "/* Parallel-specific style estimator block */\n",
       "\n",
       "#sk-container-id-6 div.sk-parallel-item::after {\n",
       "  content: \"\";\n",
       "  width: 100%;\n",
       "  border-bottom: 2px solid var(--sklearn-color-text-on-default-background);\n",
       "  flex-grow: 1;\n",
       "}\n",
       "\n",
       "#sk-container-id-6 div.sk-parallel {\n",
       "  display: flex;\n",
       "  align-items: stretch;\n",
       "  justify-content: center;\n",
       "  background-color: var(--sklearn-color-background);\n",
       "  position: relative;\n",
       "}\n",
       "\n",
       "#sk-container-id-6 div.sk-parallel-item {\n",
       "  display: flex;\n",
       "  flex-direction: column;\n",
       "}\n",
       "\n",
       "#sk-container-id-6 div.sk-parallel-item:first-child::after {\n",
       "  align-self: flex-end;\n",
       "  width: 50%;\n",
       "}\n",
       "\n",
       "#sk-container-id-6 div.sk-parallel-item:last-child::after {\n",
       "  align-self: flex-start;\n",
       "  width: 50%;\n",
       "}\n",
       "\n",
       "#sk-container-id-6 div.sk-parallel-item:only-child::after {\n",
       "  width: 0;\n",
       "}\n",
       "\n",
       "/* Serial-specific style estimator block */\n",
       "\n",
       "#sk-container-id-6 div.sk-serial {\n",
       "  display: flex;\n",
       "  flex-direction: column;\n",
       "  align-items: center;\n",
       "  background-color: var(--sklearn-color-background);\n",
       "  padding-right: 1em;\n",
       "  padding-left: 1em;\n",
       "}\n",
       "\n",
       "\n",
       "/* Toggleable style: style used for estimator/Pipeline/ColumnTransformer box that is\n",
       "clickable and can be expanded/collapsed.\n",
       "- Pipeline and ColumnTransformer use this feature and define the default style\n",
       "- Estimators will overwrite some part of the style using the `sk-estimator` class\n",
       "*/\n",
       "\n",
       "/* Pipeline and ColumnTransformer style (default) */\n",
       "\n",
       "#sk-container-id-6 div.sk-toggleable {\n",
       "  /* Default theme specific background. It is overwritten whether we have a\n",
       "  specific estimator or a Pipeline/ColumnTransformer */\n",
       "  background-color: var(--sklearn-color-background);\n",
       "}\n",
       "\n",
       "/* Toggleable label */\n",
       "#sk-container-id-6 label.sk-toggleable__label {\n",
       "  cursor: pointer;\n",
       "  display: flex;\n",
       "  width: 100%;\n",
       "  margin-bottom: 0;\n",
       "  padding: 0.5em;\n",
       "  box-sizing: border-box;\n",
       "  text-align: center;\n",
       "  align-items: start;\n",
       "  justify-content: space-between;\n",
       "  gap: 0.5em;\n",
       "}\n",
       "\n",
       "#sk-container-id-6 label.sk-toggleable__label .caption {\n",
       "  font-size: 0.6rem;\n",
       "  font-weight: lighter;\n",
       "  color: var(--sklearn-color-text-muted);\n",
       "}\n",
       "\n",
       "#sk-container-id-6 label.sk-toggleable__label-arrow:before {\n",
       "  /* Arrow on the left of the label */\n",
       "  content: \"▸\";\n",
       "  float: left;\n",
       "  margin-right: 0.25em;\n",
       "  color: var(--sklearn-color-icon);\n",
       "}\n",
       "\n",
       "#sk-container-id-6 label.sk-toggleable__label-arrow:hover:before {\n",
       "  color: var(--sklearn-color-text);\n",
       "}\n",
       "\n",
       "/* Toggleable content - dropdown */\n",
       "\n",
       "#sk-container-id-6 div.sk-toggleable__content {\n",
       "  max-height: 0;\n",
       "  max-width: 0;\n",
       "  overflow: hidden;\n",
       "  text-align: left;\n",
       "  /* unfitted */\n",
       "  background-color: var(--sklearn-color-unfitted-level-0);\n",
       "}\n",
       "\n",
       "#sk-container-id-6 div.sk-toggleable__content.fitted {\n",
       "  /* fitted */\n",
       "  background-color: var(--sklearn-color-fitted-level-0);\n",
       "}\n",
       "\n",
       "#sk-container-id-6 div.sk-toggleable__content pre {\n",
       "  margin: 0.2em;\n",
       "  border-radius: 0.25em;\n",
       "  color: var(--sklearn-color-text);\n",
       "  /* unfitted */\n",
       "  background-color: var(--sklearn-color-unfitted-level-0);\n",
       "}\n",
       "\n",
       "#sk-container-id-6 div.sk-toggleable__content.fitted pre {\n",
       "  /* unfitted */\n",
       "  background-color: var(--sklearn-color-fitted-level-0);\n",
       "}\n",
       "\n",
       "#sk-container-id-6 input.sk-toggleable__control:checked~div.sk-toggleable__content {\n",
       "  /* Expand drop-down */\n",
       "  max-height: 200px;\n",
       "  max-width: 100%;\n",
       "  overflow: auto;\n",
       "}\n",
       "\n",
       "#sk-container-id-6 input.sk-toggleable__control:checked~label.sk-toggleable__label-arrow:before {\n",
       "  content: \"▾\";\n",
       "}\n",
       "\n",
       "/* Pipeline/ColumnTransformer-specific style */\n",
       "\n",
       "#sk-container-id-6 div.sk-label input.sk-toggleable__control:checked~label.sk-toggleable__label {\n",
       "  color: var(--sklearn-color-text);\n",
       "  background-color: var(--sklearn-color-unfitted-level-2);\n",
       "}\n",
       "\n",
       "#sk-container-id-6 div.sk-label.fitted input.sk-toggleable__control:checked~label.sk-toggleable__label {\n",
       "  background-color: var(--sklearn-color-fitted-level-2);\n",
       "}\n",
       "\n",
       "/* Estimator-specific style */\n",
       "\n",
       "/* Colorize estimator box */\n",
       "#sk-container-id-6 div.sk-estimator input.sk-toggleable__control:checked~label.sk-toggleable__label {\n",
       "  /* unfitted */\n",
       "  background-color: var(--sklearn-color-unfitted-level-2);\n",
       "}\n",
       "\n",
       "#sk-container-id-6 div.sk-estimator.fitted input.sk-toggleable__control:checked~label.sk-toggleable__label {\n",
       "  /* fitted */\n",
       "  background-color: var(--sklearn-color-fitted-level-2);\n",
       "}\n",
       "\n",
       "#sk-container-id-6 div.sk-label label.sk-toggleable__label,\n",
       "#sk-container-id-6 div.sk-label label {\n",
       "  /* The background is the default theme color */\n",
       "  color: var(--sklearn-color-text-on-default-background);\n",
       "}\n",
       "\n",
       "/* On hover, darken the color of the background */\n",
       "#sk-container-id-6 div.sk-label:hover label.sk-toggleable__label {\n",
       "  color: var(--sklearn-color-text);\n",
       "  background-color: var(--sklearn-color-unfitted-level-2);\n",
       "}\n",
       "\n",
       "/* Label box, darken color on hover, fitted */\n",
       "#sk-container-id-6 div.sk-label.fitted:hover label.sk-toggleable__label.fitted {\n",
       "  color: var(--sklearn-color-text);\n",
       "  background-color: var(--sklearn-color-fitted-level-2);\n",
       "}\n",
       "\n",
       "/* Estimator label */\n",
       "\n",
       "#sk-container-id-6 div.sk-label label {\n",
       "  font-family: monospace;\n",
       "  font-weight: bold;\n",
       "  display: inline-block;\n",
       "  line-height: 1.2em;\n",
       "}\n",
       "\n",
       "#sk-container-id-6 div.sk-label-container {\n",
       "  text-align: center;\n",
       "}\n",
       "\n",
       "/* Estimator-specific */\n",
       "#sk-container-id-6 div.sk-estimator {\n",
       "  font-family: monospace;\n",
       "  border: 1px dotted var(--sklearn-color-border-box);\n",
       "  border-radius: 0.25em;\n",
       "  box-sizing: border-box;\n",
       "  margin-bottom: 0.5em;\n",
       "  /* unfitted */\n",
       "  background-color: var(--sklearn-color-unfitted-level-0);\n",
       "}\n",
       "\n",
       "#sk-container-id-6 div.sk-estimator.fitted {\n",
       "  /* fitted */\n",
       "  background-color: var(--sklearn-color-fitted-level-0);\n",
       "}\n",
       "\n",
       "/* on hover */\n",
       "#sk-container-id-6 div.sk-estimator:hover {\n",
       "  /* unfitted */\n",
       "  background-color: var(--sklearn-color-unfitted-level-2);\n",
       "}\n",
       "\n",
       "#sk-container-id-6 div.sk-estimator.fitted:hover {\n",
       "  /* fitted */\n",
       "  background-color: var(--sklearn-color-fitted-level-2);\n",
       "}\n",
       "\n",
       "/* Specification for estimator info (e.g. \"i\" and \"?\") */\n",
       "\n",
       "/* Common style for \"i\" and \"?\" */\n",
       "\n",
       ".sk-estimator-doc-link,\n",
       "a:link.sk-estimator-doc-link,\n",
       "a:visited.sk-estimator-doc-link {\n",
       "  float: right;\n",
       "  font-size: smaller;\n",
       "  line-height: 1em;\n",
       "  font-family: monospace;\n",
       "  background-color: var(--sklearn-color-background);\n",
       "  border-radius: 1em;\n",
       "  height: 1em;\n",
       "  width: 1em;\n",
       "  text-decoration: none !important;\n",
       "  margin-left: 0.5em;\n",
       "  text-align: center;\n",
       "  /* unfitted */\n",
       "  border: var(--sklearn-color-unfitted-level-1) 1pt solid;\n",
       "  color: var(--sklearn-color-unfitted-level-1);\n",
       "}\n",
       "\n",
       ".sk-estimator-doc-link.fitted,\n",
       "a:link.sk-estimator-doc-link.fitted,\n",
       "a:visited.sk-estimator-doc-link.fitted {\n",
       "  /* fitted */\n",
       "  border: var(--sklearn-color-fitted-level-1) 1pt solid;\n",
       "  color: var(--sklearn-color-fitted-level-1);\n",
       "}\n",
       "\n",
       "/* On hover */\n",
       "div.sk-estimator:hover .sk-estimator-doc-link:hover,\n",
       ".sk-estimator-doc-link:hover,\n",
       "div.sk-label-container:hover .sk-estimator-doc-link:hover,\n",
       ".sk-estimator-doc-link:hover {\n",
       "  /* unfitted */\n",
       "  background-color: var(--sklearn-color-unfitted-level-3);\n",
       "  color: var(--sklearn-color-background);\n",
       "  text-decoration: none;\n",
       "}\n",
       "\n",
       "div.sk-estimator.fitted:hover .sk-estimator-doc-link.fitted:hover,\n",
       ".sk-estimator-doc-link.fitted:hover,\n",
       "div.sk-label-container:hover .sk-estimator-doc-link.fitted:hover,\n",
       ".sk-estimator-doc-link.fitted:hover {\n",
       "  /* fitted */\n",
       "  background-color: var(--sklearn-color-fitted-level-3);\n",
       "  color: var(--sklearn-color-background);\n",
       "  text-decoration: none;\n",
       "}\n",
       "\n",
       "/* Span, style for the box shown on hovering the info icon */\n",
       ".sk-estimator-doc-link span {\n",
       "  display: none;\n",
       "  z-index: 9999;\n",
       "  position: relative;\n",
       "  font-weight: normal;\n",
       "  right: .2ex;\n",
       "  padding: .5ex;\n",
       "  margin: .5ex;\n",
       "  width: min-content;\n",
       "  min-width: 20ex;\n",
       "  max-width: 50ex;\n",
       "  color: var(--sklearn-color-text);\n",
       "  box-shadow: 2pt 2pt 4pt #999;\n",
       "  /* unfitted */\n",
       "  background: var(--sklearn-color-unfitted-level-0);\n",
       "  border: .5pt solid var(--sklearn-color-unfitted-level-3);\n",
       "}\n",
       "\n",
       ".sk-estimator-doc-link.fitted span {\n",
       "  /* fitted */\n",
       "  background: var(--sklearn-color-fitted-level-0);\n",
       "  border: var(--sklearn-color-fitted-level-3);\n",
       "}\n",
       "\n",
       ".sk-estimator-doc-link:hover span {\n",
       "  display: block;\n",
       "}\n",
       "\n",
       "/* \"?\"-specific style due to the `<a>` HTML tag */\n",
       "\n",
       "#sk-container-id-6 a.estimator_doc_link {\n",
       "  float: right;\n",
       "  font-size: 1rem;\n",
       "  line-height: 1em;\n",
       "  font-family: monospace;\n",
       "  background-color: var(--sklearn-color-background);\n",
       "  border-radius: 1rem;\n",
       "  height: 1rem;\n",
       "  width: 1rem;\n",
       "  text-decoration: none;\n",
       "  /* unfitted */\n",
       "  color: var(--sklearn-color-unfitted-level-1);\n",
       "  border: var(--sklearn-color-unfitted-level-1) 1pt solid;\n",
       "}\n",
       "\n",
       "#sk-container-id-6 a.estimator_doc_link.fitted {\n",
       "  /* fitted */\n",
       "  border: var(--sklearn-color-fitted-level-1) 1pt solid;\n",
       "  color: var(--sklearn-color-fitted-level-1);\n",
       "}\n",
       "\n",
       "/* On hover */\n",
       "#sk-container-id-6 a.estimator_doc_link:hover {\n",
       "  /* unfitted */\n",
       "  background-color: var(--sklearn-color-unfitted-level-3);\n",
       "  color: var(--sklearn-color-background);\n",
       "  text-decoration: none;\n",
       "}\n",
       "\n",
       "#sk-container-id-6 a.estimator_doc_link.fitted:hover {\n",
       "  /* fitted */\n",
       "  background-color: var(--sklearn-color-fitted-level-3);\n",
       "}\n",
       "</style><div id=\"sk-container-id-6\" class=\"sk-top-container\"><div class=\"sk-text-repr-fallback\"><pre>RandomForestClassifier(class_weight=&#x27;balanced&#x27;, max_features=&#x27;log2&#x27;,\n",
       "                       n_estimators=200, random_state=42)</pre><b>In a Jupyter environment, please rerun this cell to show the HTML representation or trust the notebook. <br />On GitHub, the HTML representation is unable to render, please try loading this page with nbviewer.org.</b></div><div class=\"sk-container\" hidden><div class=\"sk-item\"><div class=\"sk-estimator fitted sk-toggleable\"><input class=\"sk-toggleable__control sk-hidden--visually\" id=\"sk-estimator-id-12\" type=\"checkbox\" checked><label for=\"sk-estimator-id-12\" class=\"sk-toggleable__label fitted sk-toggleable__label-arrow\"><div><div>RandomForestClassifier</div></div><div><a class=\"sk-estimator-doc-link fitted\" rel=\"noreferrer\" target=\"_blank\" href=\"https://scikit-learn.org/1.6/modules/generated/sklearn.ensemble.RandomForestClassifier.html\">?<span>Documentation for RandomForestClassifier</span></a><span class=\"sk-estimator-doc-link fitted\">i<span>Fitted</span></span></div></label><div class=\"sk-toggleable__content fitted\"><pre>RandomForestClassifier(class_weight=&#x27;balanced&#x27;, max_features=&#x27;log2&#x27;,\n",
       "                       n_estimators=200, random_state=42)</pre></div> </div></div></div></div>"
      ]
     },
     "execution_count": 110,
     "metadata": {},
     "output_type": "execute_result"
    }
   ],
   "execution_count": 110
  },
  {
   "metadata": {
    "ExecuteTime": {
     "end_time": "2025-02-18T20:03:20.499301Z",
     "start_time": "2025-02-18T20:03:18.537421Z"
    }
   },
   "cell_type": "code",
   "source": "y_pred = random_search.predict(X_test_scaled)",
   "id": "26bd516f125f91e",
   "outputs": [],
   "execution_count": 111
  },
  {
   "metadata": {
    "ExecuteTime": {
     "end_time": "2025-02-18T20:03:20.526184Z",
     "start_time": "2025-02-18T20:03:20.520718Z"
    }
   },
   "cell_type": "code",
   "source": "accuracy_score(y_test, y_pred)",
   "id": "c3f103a338d3c1aa",
   "outputs": [
    {
     "data": {
      "text/plain": [
       "0.948575"
      ]
     },
     "execution_count": 112,
     "metadata": {},
     "output_type": "execute_result"
    }
   ],
   "execution_count": 112
  },
  {
   "metadata": {
    "ExecuteTime": {
     "end_time": "2025-02-18T20:03:20.565220Z",
     "start_time": "2025-02-18T20:03:20.559161Z"
    }
   },
   "cell_type": "code",
   "source": "f1_score(y_test, y_pred)",
   "id": "a64624906d27fd6a",
   "outputs": [
    {
     "data": {
      "text/plain": [
       "0.0009713453132588635"
      ]
     },
     "execution_count": 113,
     "metadata": {},
     "output_type": "execute_result"
    }
   ],
   "execution_count": 113
  },
  {
   "metadata": {
    "ExecuteTime": {
     "end_time": "2025-02-18T20:03:20.604754Z",
     "start_time": "2025-02-18T20:03:20.592395Z"
    }
   },
   "cell_type": "code",
   "source": "print(classification_report(y_test, y_pred))",
   "id": "97580edd903891e2",
   "outputs": [
    {
     "name": "stdout",
     "output_type": "stream",
     "text": [
      "              precision    recall  f1-score   support\n",
      "\n",
      "           0       0.95      1.00      0.97     37955\n",
      "           1       0.07      0.00      0.00      2045\n",
      "\n",
      "    accuracy                           0.95     40000\n",
      "   macro avg       0.51      0.50      0.49     40000\n",
      "weighted avg       0.90      0.95      0.92     40000\n",
      "\n"
     ]
    }
   ],
   "execution_count": 114
  },
  {
   "metadata": {
    "ExecuteTime": {
     "end_time": "2025-02-18T20:03:20.637892Z",
     "start_time": "2025-02-18T20:03:20.633005Z"
    }
   },
   "cell_type": "code",
   "source": "conf_matrix = confusion_matrix(y_test, y_pred)",
   "id": "c6658cc00e88daf2",
   "outputs": [],
   "execution_count": 115
  },
  {
   "metadata": {
    "ExecuteTime": {
     "end_time": "2025-02-18T20:03:20.753736Z",
     "start_time": "2025-02-18T20:03:20.650164Z"
    }
   },
   "cell_type": "code",
   "source": "ConfusionMatrixDisplay.from_predictions(y_test, y_pred, cmap='Blues').ax_.grid(False)",
   "id": "5fb1b08f5863d27d",
   "outputs": [
    {
     "data": {
      "text/plain": [
       "<Figure size 640x480 with 2 Axes>"
      ],
      "image/png": "[encoded data removed]"
     },
     "metadata": {},
     "output_type": "display_data"
    }
   ],
   "execution_count": 116
  },
  {
   "metadata": {
    "ExecuteTime": {
     "end_time": "2025-02-18T20:10:05.373040Z",
     "start_time": "2025-02-18T20:10:05.366591Z"
    }
   },
   "cell_type": "code",
   "source": [
    "random_search = pl.DataFrame({\n",
    "    'Random Forest CV': [\n",
    "        accuracy_score(y_test, y_pred),\n",
    "        f1_score(y_test, y_pred),\n",
    "        conf_matrix[0, 0],\n",
    "        conf_matrix[0, 1],\n",
    "        conf_matrix[1, 0],\n",
    "        conf_matrix[1, 1]],\n",
    "\n",
    "})"
   ],
   "id": "1f0a81a1261b0563",
   "outputs": [],
   "execution_count": 121
  },
  {
   "metadata": {
    "ExecuteTime": {
     "end_time": "2025-02-18T20:10:10.386340Z",
     "start_time": "2025-02-18T20:10:10.381968Z"
    }
   },
   "cell_type": "code",
   "source": "result = pl.concat([result, random_search], how='horizontal')",
   "id": "29c19260dcf1e29",
   "outputs": [
    {
     "data": {
      "text/plain": [
       "shape: (6, 3)\n",
       "┌────────────────┬────────────────────────┬──────────────────┐\n",
       "│ Model          ┆ Logistic Regression CV ┆ Random Forest CV │\n",
       "│ ---            ┆ ---                    ┆ ---              │\n",
       "│ str            ┆ f64                    ┆ f64              │\n",
       "╞════════════════╪════════════════════════╪══════════════════╡\n",
       "│ Accuracy Score ┆ 0.517175               ┆ 0.948575         │\n",
       "│ F1 Score       ┆ 0.093584               ┆ 0.000971         │\n",
       "│ True Negative  ┆ 19690.0                ┆ 37942.0          │\n",
       "│ False Negative ┆ 18265.0                ┆ 13.0             │\n",
       "│ False Positive ┆ 1048.0                 ┆ 2044.0           │\n",
       "│ True Positive  ┆ 997.0                  ┆ 1.0              │\n",
       "└────────────────┴────────────────────────┴──────────────────┘"
      ],
      "text/html": [
       "<div><style>\n",
       ".dataframe > thead > tr,\n",
       ".dataframe > tbody > tr {\n",
       "  text-align: right;\n",
       "  white-space: pre-wrap;\n",
       "}\n",
       "</style>\n",
       "<small>shape: (6, 3)</small><table border=\"1\" class=\"dataframe\"><thead><tr><th>Model</th><th>Logistic Regression CV</th><th>Random Forest CV</th></tr><tr><td>str</td><td>f64</td><td>f64</td></tr></thead><tbody><tr><td>&quot;Accuracy Score&quot;</td><td>0.517175</td><td>0.948575</td></tr><tr><td>&quot;F1 Score&quot;</td><td>0.093584</td><td>0.000971</td></tr><tr><td>&quot;True Negative&quot;</td><td>19690.0</td><td>37942.0</td></tr><tr><td>&quot;False Negative&quot;</td><td>18265.0</td><td>13.0</td></tr><tr><td>&quot;False Positive&quot;</td><td>1048.0</td><td>2044.0</td></tr><tr><td>&quot;True Positive&quot;</td><td>997.0</td><td>1.0</td></tr></tbody></table></div>"
      ]
     },
     "execution_count": 123,
     "metadata": {},
     "output_type": "execute_result"
    }
   ],
   "execution_count": 123
  },
  {
   "metadata": {
    "ExecuteTime": {
     "end_time": "2025-02-18T20:11:41.554206Z",
     "start_time": "2025-02-18T20:11:41.551258Z"
    }
   },
   "cell_type": "code",
   "source": "from sklearn.ensemble import GradientBoostingClassifier",
   "id": "621864f5fe4218ab",
   "outputs": [],
   "execution_count": 124
  },
  {
   "metadata": {
    "ExecuteTime": {
     "end_time": "2025-02-18T20:11:48.601116Z",
     "start_time": "2025-02-18T20:11:48.597944Z"
    }
   },
   "cell_type": "code",
   "source": "gradient_boosting = GradientBoostingClassifier(random_state=42)",
   "id": "6b791d1c720e8a4",
   "outputs": [],
   "execution_count": 125
  },
  {
   "metadata": {
    "ExecuteTime": {
     "end_time": "2025-02-18T20:16:23.699406Z",
     "start_time": "2025-02-18T20:16:23.696073Z"
    }
   },
   "cell_type": "code",
   "source": [
    "param_distributions = {\n",
    "    'n_estimators': [50, 100],\n",
    "    'max_depth': [3, 5, None],\n",
    "    'learning_rate': [0.01, 0.1],\n",
    "    'subsample': [0.8, 1.0],\n",
    "    'loss': ['log_loss'],\n",
    "    'min_samples_split': [2, 10],\n",
    "    'min_samples_leaf': [1, 4],\n",
    "    'max_features': ['sqrt'],\n",
    "    'criterion': ['friedman_mse']\n",
    "}"
   ],
   "id": "773753166d48ddd6",
   "outputs": [],
   "execution_count": 129
  },
  {
   "metadata": {
    "ExecuteTime": {
     "end_time": "2025-02-18T20:16:24.144934Z",
     "start_time": "2025-02-18T20:16:24.141483Z"
    }
   },
   "cell_type": "code",
   "source": [
    "gradient_boosting_cv = RandomizedSearchCV(\n",
    "    estimator=gradient_boosting,\n",
    "    param_distributions=param_distributions,\n",
    "    n_iter=15,\n",
    "    cv=2,\n",
    "    verbose=4,\n",
    "    n_jobs=9,\n",
    "    scoring='f1_macro',\n",
    "    random_state=42\n",
    ")"
   ],
   "id": "ed488972b9c8e61",
   "outputs": [],
   "execution_count": 130
  },
  {
   "metadata": {
    "jupyter": {
     "is_executing": true
    },
    "ExecuteTime": {
     "start_time": "2025-02-18T20:16:24.986558Z"
    }
   },
   "cell_type": "code",
   "source": "gradient_boosting_cv.fit(X_train_scaled, y_train_resampled)",
   "id": "bf74b209673d29f7",
   "outputs": [
    {
     "name": "stdout",
     "output_type": "stream",
     "text": [
      "Fitting 2 folds for each of 15 candidates, totalling 30 fits\n"
     ]
    }
   ],
   "execution_count": null
  },
  {
   "metadata": {},
   "cell_type": "code",
   "outputs": [],
   "execution_count": null,
   "source": "gradient_boosting_cv.best_params_",
   "id": "c7d7792dc4e8ca21"
  },
  {
   "metadata": {},
   "cell_type": "code",
   "outputs": [],
   "execution_count": null,
   "source": "gradient_boosting_cv.best_score_",
   "id": "c2a4848f0338dcc4"
  },
  {
   "metadata": {},
   "cell_type": "code",
   "outputs": [],
   "execution_count": null,
   "source": "gradient_boosting_cv.best_estimator_",
   "id": "4c510b312fd2d00d"
  },
  {
   "metadata": {},
   "cell_type": "code",
   "outputs": [],
   "execution_count": null,
   "source": "y_pred = gradient_boosting_cv.predict(X_test_scaled)",
   "id": "c5f76f9143d39d1"
  },
  {
   "metadata": {},
   "cell_type": "code",
   "outputs": [],
   "execution_count": null,
   "source": "accuracy_score(y_test, y_pred)",
   "id": "3552662294440254"
  },
  {
   "metadata": {},
   "cell_type": "code",
   "outputs": [],
   "execution_count": null,
   "source": "f1_score(y_test, y_pred)",
   "id": "c2cd35ebab6b07fb"
  },
  {
   "metadata": {},
   "cell_type": "code",
   "outputs": [],
   "execution_count": null,
   "source": "print(classification_report(y_test, y_pred))",
   "id": "32e6a644a1064b25"
  },
  {
   "metadata": {},
   "cell_type": "code",
   "outputs": [],
   "execution_count": null,
   "source": "conf_matrix = confusion_matrix(y_test, y_pred)",
   "id": "70f89466a0611d3d"
  },
  {
   "metadata": {},
   "cell_type": "code",
   "outputs": [],
   "execution_count": null,
   "source": "ConfusionMatrixDisplay.from_predictions(y_test, y_pred, cmap='Blues').ax_.grid(False)",
   "id": "abb12aa229264ae2"
  },
  {
   "metadata": {},
   "cell_type": "code",
   "outputs": [],
   "execution_count": null,
   "source": [
    "gradient_boosting_search = pl.DataFrame({\n",
    "    'Gradient Boosting CV': [\n",
    "        accuracy_score(y_test, y_pred),\n",
    "        f1_score(y_test, y_pred),\n",
    "        conf_matrix[0, 0],\n",
    "        conf_matrix[0, 1],\n",
    "        conf_matrix[1, 0],\n",
    "        conf_matrix[1, 1]],\n",
    "\n",
    "})"
   ],
   "id": "9051fd51343f8cb8"
  },
  {
   "metadata": {},
   "cell_type": "code",
   "outputs": [],
   "execution_count": null,
   "source": "pl.concat([result, random_search, gradient_boosting_search], how='horizontal')",
   "id": "b2eba9a8665b31c5"
  },
  {
   "metadata": {},
   "cell_type": "code",
   "outputs": [],
   "execution_count": null,
   "source": "",
   "id": "162be843f2dbb024"
  }
 ],
 "metadata": {
  "kernelspec": {
   "display_name": "Python 3",
   "language": "python",
   "name": "python3"
  },
  "language_info": {
   "codemirror_mode": {
    "name": "ipython",
    "version": 2
   },
   "file_extension": ".py",
   "mimetype": "text/x-python",
   "name": "python",
   "nbconvert_exporter": "python",
   "pygments_lexer": "ipython2",
   "version": "2.7.6"
  }
 },
 "nbformat": 4,
 "nbformat_minor": 5
}
