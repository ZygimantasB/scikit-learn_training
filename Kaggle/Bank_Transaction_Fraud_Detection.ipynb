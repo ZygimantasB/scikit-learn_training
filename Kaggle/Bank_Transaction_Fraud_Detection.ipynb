{
 "cells": [
  {
   "cell_type": "code",
   "id": "initial_id",
   "metadata": {
    "collapsed": true,
    "ExecuteTime": {
     "end_time": "2025-02-16T19:41:10.042376Z",
     "start_time": "2025-02-16T19:41:10.039478Z"
    }
   },
   "source": [
    "from email.feedparser import headerRE\n",
    "\n",
    "import seaborn as sns\n",
    "import matplotlib.pyplot as plt\n",
    "import polars as pl\n",
    "import polars.selectors as cs\n",
    "import altair as alt\n",
    "import plotly.express as px\n",
    "import plotly.graph_objects as go\n",
    "import great_tables as tg\n",
    "import datetime as dt\n",
    "import numpy as np\n",
    "import pandas as pd"
   ],
   "outputs": [],
   "execution_count": 67
  },
  {
   "metadata": {
    "ExecuteTime": {
     "end_time": "2025-02-16T19:08:13.885169Z",
     "start_time": "2025-02-16T19:08:13.882820Z"
    }
   },
   "cell_type": "code",
   "source": "df_path = r\"F:\\Datasets\\CSV datasets\\Bank_Transaction_Fraud_Detection.csv\"",
   "id": "26ac8cf5653ff888",
   "outputs": [],
   "execution_count": 3
  },
  {
   "metadata": {
    "ExecuteTime": {
     "end_time": "2025-02-16T19:08:14.005824Z",
     "start_time": "2025-02-16T19:08:13.896957Z"
    }
   },
   "cell_type": "code",
   "source": "df = pl.read_csv(df_path, try_parse_dates=True)",
   "id": "a1382ca57acc7e29",
   "outputs": [],
   "execution_count": 4
  },
  {
   "metadata": {
    "ExecuteTime": {
     "end_time": "2025-02-16T19:08:14.020818Z",
     "start_time": "2025-02-16T19:08:14.011923Z"
    }
   },
   "cell_type": "code",
   "source": [
    "df = df.with_columns(\n",
    "    pl.col('Account_Balance') * 0.011007299,\n",
    "    pl.col('Transaction_Amount') * 0.011007299,\n",
    ")"
   ],
   "id": "7e3282e4ea9d280a",
   "outputs": [],
   "execution_count": 5
  },
  {
   "metadata": {
    "ExecuteTime": {
     "end_time": "2025-02-16T19:08:14.031453Z",
     "start_time": "2025-02-16T19:08:14.027331Z"
    }
   },
   "cell_type": "code",
   "source": [
    "df = df.drop(\n",
    "    'Customer_ID', 'Transaction_ID', 'Customer_Contact', 'Customer_Email',\n",
    "    'Transaction_Currency', 'Transaction_Currency', 'Merchant_ID',\n",
    "    'Customer_Name'\n",
    ")"
   ],
   "id": "22c03089e0db6e86",
   "outputs": [],
   "execution_count": 6
  },
  {
   "metadata": {
    "ExecuteTime": {
     "end_time": "2025-02-16T19:08:14.051463Z",
     "start_time": "2025-02-16T19:08:14.039540Z"
    }
   },
   "cell_type": "code",
   "source": "df['State'].value_counts()",
   "id": "41b3c133634815cf",
   "outputs": [
    {
     "data": {
      "text/plain": [
       "shape: (34, 2)\n",
       "┌──────────────────┬───────┐\n",
       "│ State            ┆ count │\n",
       "│ ---              ┆ ---   │\n",
       "│ str              ┆ u32   │\n",
       "╞══════════════════╪═══════╡\n",
       "│ Telangana        ┆ 5952  │\n",
       "│ Himachal Pradesh ┆ 5875  │\n",
       "│ Tamil Nadu       ┆ 5841  │\n",
       "│ Goa              ┆ 5871  │\n",
       "│ Nagaland         ┆ 6031  │\n",
       "│ …                ┆ …     │\n",
       "│ Madhya Pradesh   ┆ 5928  │\n",
       "│ Delhi            ┆ 5943  │\n",
       "│ Maharashtra      ┆ 5784  │\n",
       "│ Lakshadweep      ┆ 5954  │\n",
       "│ Mizoram          ┆ 5892  │\n",
       "└──────────────────┴───────┘"
      ],
      "text/html": [
       "<div><style>\n",
       ".dataframe > thead > tr,\n",
       ".dataframe > tbody > tr {\n",
       "  text-align: right;\n",
       "  white-space: pre-wrap;\n",
       "}\n",
       "</style>\n",
       "<small>shape: (34, 2)</small><table border=\"1\" class=\"dataframe\"><thead><tr><th>State</th><th>count</th></tr><tr><td>str</td><td>u32</td></tr></thead><tbody><tr><td>&quot;Telangana&quot;</td><td>5952</td></tr><tr><td>&quot;Himachal Pradesh&quot;</td><td>5875</td></tr><tr><td>&quot;Tamil Nadu&quot;</td><td>5841</td></tr><tr><td>&quot;Goa&quot;</td><td>5871</td></tr><tr><td>&quot;Nagaland&quot;</td><td>6031</td></tr><tr><td>&hellip;</td><td>&hellip;</td></tr><tr><td>&quot;Madhya Pradesh&quot;</td><td>5928</td></tr><tr><td>&quot;Delhi&quot;</td><td>5943</td></tr><tr><td>&quot;Maharashtra&quot;</td><td>5784</td></tr><tr><td>&quot;Lakshadweep&quot;</td><td>5954</td></tr><tr><td>&quot;Mizoram&quot;</td><td>5892</td></tr></tbody></table></div>"
      ]
     },
     "execution_count": 7,
     "metadata": {},
     "output_type": "execute_result"
    }
   ],
   "execution_count": 7
  },
  {
   "metadata": {
    "ExecuteTime": {
     "end_time": "2025-02-16T19:08:14.094832Z",
     "start_time": "2025-02-16T19:08:14.088908Z"
    }
   },
   "cell_type": "code",
   "source": "df.select('*')",
   "id": "c3ab4e2edb9a592d",
   "outputs": [
    {
     "data": {
      "text/plain": [
       "shape: (200_000, 17)\n",
       "┌────────┬─────┬─────────────┬─────────────┬───┬─────────────┬─────────────┬──────────┬────────────┐\n",
       "│ Gender ┆ Age ┆ State       ┆ City        ┆ … ┆ Transaction ┆ Device_Type ┆ Is_Fraud ┆ Transactio │\n",
       "│ ---    ┆ --- ┆ ---         ┆ ---         ┆   ┆ _Location   ┆ ---         ┆ ---      ┆ n_Descript │\n",
       "│ str    ┆ i64 ┆ str         ┆ str         ┆   ┆ ---         ┆ str         ┆ i64      ┆ ion        │\n",
       "│        ┆     ┆             ┆             ┆   ┆ str         ┆             ┆          ┆ ---        │\n",
       "│        ┆     ┆             ┆             ┆   ┆             ┆             ┆          ┆ str        │\n",
       "╞════════╪═════╪═════════════╪═════════════╪═══╪═════════════╪═════════════╪══════════╪════════════╡\n",
       "│ Male   ┆ 60  ┆ Kerala      ┆ Thiruvanant ┆ … ┆ Thiruvanant ┆ POS         ┆ 0        ┆ Bitcoin    │\n",
       "│        ┆     ┆             ┆ hapuram     ┆   ┆ hapuram,    ┆             ┆          ┆ transactio │\n",
       "│        ┆     ┆             ┆             ┆   ┆ Kerala      ┆             ┆          ┆ n          │\n",
       "│ Female ┆ 51  ┆ Maharashtra ┆ Nashik      ┆ … ┆ Nashik,     ┆ Desktop     ┆ 0        ┆ Grocery    │\n",
       "│        ┆     ┆             ┆             ┆   ┆ Maharashtra ┆             ┆          ┆ delivery   │\n",
       "│ Male   ┆ 20  ┆ Bihar       ┆ Bhagalpur   ┆ … ┆ Bhagalpur,  ┆ Desktop     ┆ 0        ┆ Mutual     │\n",
       "│        ┆     ┆             ┆             ┆   ┆ Bihar       ┆             ┆          ┆ fund       │\n",
       "│        ┆     ┆             ┆             ┆   ┆             ┆             ┆          ┆ investment │\n",
       "│ Female ┆ 57  ┆ Tamil Nadu  ┆ Chennai     ┆ … ┆ Chennai,    ┆ Mobile      ┆ 0        ┆ Food       │\n",
       "│        ┆     ┆             ┆             ┆   ┆ Tamil Nadu  ┆             ┆          ┆ delivery   │\n",
       "│ Female ┆ 43  ┆ Punjab      ┆ Amritsar    ┆ … ┆ Amritsar,   ┆ Mobile      ┆ 0        ┆ Debt       │\n",
       "│        ┆     ┆             ┆             ┆   ┆ Punjab      ┆             ┆          ┆ repayment  │\n",
       "│ …      ┆ …   ┆ …           ┆ …           ┆ … ┆ …           ┆ …           ┆ …        ┆ …          │\n",
       "│ Female ┆ 55  ┆ Dadra and   ┆ Diu         ┆ … ┆ Diu, Dadra  ┆ ATM         ┆ 0        ┆ ATM        │\n",
       "│        ┆     ┆ Nagar       ┆             ┆   ┆ and Nagar   ┆             ┆          ┆ withdrawal │\n",
       "│        ┆     ┆ Haveli and  ┆             ┆   ┆ Haveli an…  ┆             ┆          ┆            │\n",
       "│        ┆     ┆ Dam…        ┆             ┆   ┆             ┆             ┆          ┆            │\n",
       "│ Male   ┆ 51  ┆ Manipur     ┆ Kangpokpi   ┆ … ┆ Kangpokpi,  ┆ ATM         ┆ 0        ┆ Subscripti │\n",
       "│        ┆     ┆             ┆             ┆   ┆ Manipur     ┆             ┆          ┆ on box     │\n",
       "│ Female ┆ 41  ┆ Chandigarh  ┆ Chandigarh  ┆ … ┆ Chandigarh, ┆ Desktop     ┆ 0        ┆ Charity    │\n",
       "│        ┆     ┆             ┆             ┆   ┆ Chandigarh  ┆             ┆          ┆ donation   │\n",
       "│ Female ┆ 28  ┆ Telangana   ┆ Nizamabad   ┆ … ┆ Nizamabad,  ┆ Desktop     ┆ 0        ┆ Tourist    │\n",
       "│        ┆     ┆             ┆             ┆   ┆ Telangana   ┆             ┆          ┆ attraction │\n",
       "│        ┆     ┆             ┆             ┆   ┆             ┆             ┆          ┆ payment    │\n",
       "│ Male   ┆ 34  ┆ Nagaland    ┆ Kohima      ┆ … ┆ Kohima,     ┆ Mobile      ┆ 0        ┆ Installmen │\n",
       "│        ┆     ┆             ┆             ┆   ┆ Nagaland    ┆             ┆          ┆ t payment  │\n",
       "└────────┴─────┴─────────────┴─────────────┴───┴─────────────┴─────────────┴──────────┴────────────┘"
      ],
      "text/html": [
       "<div><style>\n",
       ".dataframe > thead > tr,\n",
       ".dataframe > tbody > tr {\n",
       "  text-align: right;\n",
       "  white-space: pre-wrap;\n",
       "}\n",
       "</style>\n",
       "<small>shape: (200_000, 17)</small><table border=\"1\" class=\"dataframe\"><thead><tr><th>Gender</th><th>Age</th><th>State</th><th>City</th><th>Bank_Branch</th><th>Account_Type</th><th>Transaction_Date</th><th>Transaction_Time</th><th>Transaction_Amount</th><th>Transaction_Type</th><th>Merchant_Category</th><th>Account_Balance</th><th>Transaction_Device</th><th>Transaction_Location</th><th>Device_Type</th><th>Is_Fraud</th><th>Transaction_Description</th></tr><tr><td>str</td><td>i64</td><td>str</td><td>str</td><td>str</td><td>str</td><td>date</td><td>time</td><td>f64</td><td>str</td><td>str</td><td>f64</td><td>str</td><td>str</td><td>str</td><td>i64</td><td>str</td></tr></thead><tbody><tr><td>&quot;Male&quot;</td><td>60</td><td>&quot;Kerala&quot;</td><td>&quot;Thiruvananthapuram&quot;</td><td>&quot;Thiruvananthapuram Branch&quot;</td><td>&quot;Savings&quot;</td><td>2025-01-23</td><td>16:04:07</td><td>356.80655</td><td>&quot;Transfer&quot;</td><td>&quot;Restaurant&quot;</td><td>820.674164</td><td>&quot;Voice Assistant&quot;</td><td>&quot;Thiruvananthapuram, Kerala&quot;</td><td>&quot;POS&quot;</td><td>0</td><td>&quot;Bitcoin transaction&quot;</td></tr><tr><td>&quot;Female&quot;</td><td>51</td><td>&quot;Maharashtra&quot;</td><td>&quot;Nashik&quot;</td><td>&quot;Nashik Branch&quot;</td><td>&quot;Business&quot;</td><td>2025-01-11</td><td>17:14:53</td><td>480.167001</td><td>&quot;Bill Payment&quot;</td><td>&quot;Restaurant&quot;</td><td>821.393931</td><td>&quot;POS Mobile Device&quot;</td><td>&quot;Nashik, Maharashtra&quot;</td><td>&quot;Desktop&quot;</td><td>0</td><td>&quot;Grocery delivery&quot;</td></tr><tr><td>&quot;Male&quot;</td><td>20</td><td>&quot;Bihar&quot;</td><td>&quot;Bhagalpur&quot;</td><td>&quot;Bhagalpur Branch&quot;</td><td>&quot;Savings&quot;</td><td>2025-01-25</td><td>03:09:52</td><td>694.148454</td><td>&quot;Bill Payment&quot;</td><td>&quot;Groceries&quot;</td><td>735.485595</td><td>&quot;ATM&quot;</td><td>&quot;Bhagalpur, Bihar&quot;</td><td>&quot;Desktop&quot;</td><td>0</td><td>&quot;Mutual fund investment&quot;</td></tr><tr><td>&quot;Female&quot;</td><td>57</td><td>&quot;Tamil Nadu&quot;</td><td>&quot;Chennai&quot;</td><td>&quot;Chennai Branch&quot;</td><td>&quot;Business&quot;</td><td>2025-01-19</td><td>12:27:02</td><td>154.110111</td><td>&quot;Debit&quot;</td><td>&quot;Entertainment&quot;</td><td>640.372515</td><td>&quot;POS Mobile App&quot;</td><td>&quot;Chennai, Tamil Nadu&quot;</td><td>&quot;Mobile&quot;</td><td>0</td><td>&quot;Food delivery&quot;</td></tr><tr><td>&quot;Female&quot;</td><td>43</td><td>&quot;Punjab&quot;</td><td>&quot;Amritsar&quot;</td><td>&quot;Amritsar Branch&quot;</td><td>&quot;Savings&quot;</td><td>2025-01-30</td><td>18:30:46</td><td>201.820588</td><td>&quot;Transfer&quot;</td><td>&quot;Entertainment&quot;</td><td>177.311736</td><td>&quot;Virtual Card&quot;</td><td>&quot;Amritsar, Punjab&quot;</td><td>&quot;Mobile&quot;</td><td>0</td><td>&quot;Debt repayment&quot;</td></tr><tr><td>&hellip;</td><td>&hellip;</td><td>&hellip;</td><td>&hellip;</td><td>&hellip;</td><td>&hellip;</td><td>&hellip;</td><td>&hellip;</td><td>&hellip;</td><td>&hellip;</td><td>&hellip;</td><td>&hellip;</td><td>&hellip;</td><td>&hellip;</td><td>&hellip;</td><td>&hellip;</td><td>&hellip;</td></tr><tr><td>&quot;Female&quot;</td><td>55</td><td>&quot;Dadra and Nagar Haveli and Dam…</td><td>&quot;Diu&quot;</td><td>&quot;Diu Branch&quot;</td><td>&quot;Business&quot;</td><td>2025-01-08</td><td>18:42:09</td><td>1084.370192</td><td>&quot;Credit&quot;</td><td>&quot;Restaurant&quot;</td><td>412.499741</td><td>&quot;Desktop/Laptop&quot;</td><td>&quot;Diu, Dadra and Nagar Haveli an…</td><td>&quot;ATM&quot;</td><td>0</td><td>&quot;ATM withdrawal&quot;</td></tr><tr><td>&quot;Male&quot;</td><td>51</td><td>&quot;Manipur&quot;</td><td>&quot;Kangpokpi&quot;</td><td>&quot;Kangpokpi Branch&quot;</td><td>&quot;Business&quot;</td><td>2025-01-01</td><td>20:51:21</td><td>446.825342</td><td>&quot;Withdrawal&quot;</td><td>&quot;Groceries&quot;</td><td>583.796319</td><td>&quot;ATM&quot;</td><td>&quot;Kangpokpi, Manipur&quot;</td><td>&quot;ATM&quot;</td><td>0</td><td>&quot;Subscription box&quot;</td></tr><tr><td>&quot;Female&quot;</td><td>41</td><td>&quot;Chandigarh&quot;</td><td>&quot;Chandigarh&quot;</td><td>&quot;Chandigarh Branch&quot;</td><td>&quot;Savings&quot;</td><td>2025-01-28</td><td>10:47:40</td><td>677.82617</td><td>&quot;Withdrawal&quot;</td><td>&quot;Health&quot;</td><td>1059.181309</td><td>&quot;ATM&quot;</td><td>&quot;Chandigarh, Chandigarh&quot;</td><td>&quot;Desktop&quot;</td><td>0</td><td>&quot;Charity donation&quot;</td></tr><tr><td>&quot;Female&quot;</td><td>28</td><td>&quot;Telangana&quot;</td><td>&quot;Nizamabad&quot;</td><td>&quot;Nizamabad Branch&quot;</td><td>&quot;Checking&quot;</td><td>2025-01-08</td><td>06:26:41</td><td>434.658645</td><td>&quot;Debit&quot;</td><td>&quot;Electronics&quot;</td><td>986.25289</td><td>&quot;Voice Assistant&quot;</td><td>&quot;Nizamabad, Telangana&quot;</td><td>&quot;Desktop&quot;</td><td>0</td><td>&quot;Tourist attraction payment&quot;</td></tr><tr><td>&quot;Male&quot;</td><td>34</td><td>&quot;Nagaland&quot;</td><td>&quot;Kohima&quot;</td><td>&quot;Kohima Branch&quot;</td><td>&quot;Business&quot;</td><td>2025-01-08</td><td>15:26:19</td><td>645.275276</td><td>&quot;Debit&quot;</td><td>&quot;Electronics&quot;</td><td>165.838608</td><td>&quot;Virtual Card&quot;</td><td>&quot;Kohima, Nagaland&quot;</td><td>&quot;Mobile&quot;</td><td>0</td><td>&quot;Installment payment&quot;</td></tr></tbody></table></div>"
      ]
     },
     "execution_count": 8,
     "metadata": {},
     "output_type": "execute_result"
    }
   ],
   "execution_count": 8
  },
  {
   "metadata": {
    "ExecuteTime": {
     "end_time": "2025-02-16T19:14:47.451379Z",
     "start_time": "2025-02-16T19:14:47.411259Z"
    }
   },
   "cell_type": "code",
   "source": [
    "pl.DataFrame({\n",
    "    \"column\": df.columns,\n",
    "    \"unique_count\": [df[col].n_unique() for col in df.columns]\n",
    "})"
   ],
   "id": "fc2d3a31b96ad052",
   "outputs": [
    {
     "data": {
      "text/plain": [
       "shape: (17, 2)\n",
       "┌─────────────────────────┬──────────────┐\n",
       "│ column                  ┆ unique_count │\n",
       "│ ---                     ┆ ---          │\n",
       "│ str                     ┆ i64          │\n",
       "╞═════════════════════════╪══════════════╡\n",
       "│ Gender                  ┆ 2            │\n",
       "│ Age                     ┆ 53           │\n",
       "│ State                   ┆ 34           │\n",
       "│ City                    ┆ 145          │\n",
       "│ Bank_Branch             ┆ 145          │\n",
       "│ …                       ┆ …            │\n",
       "│ Transaction_Device      ┆ 20           │\n",
       "│ Transaction_Location    ┆ 148          │\n",
       "│ Device_Type             ┆ 4            │\n",
       "│ Is_Fraud                ┆ 2            │\n",
       "│ Transaction_Description ┆ 172          │\n",
       "└─────────────────────────┴──────────────┘"
      ],
      "text/html": [
       "<div><style>\n",
       ".dataframe > thead > tr,\n",
       ".dataframe > tbody > tr {\n",
       "  text-align: right;\n",
       "  white-space: pre-wrap;\n",
       "}\n",
       "</style>\n",
       "<small>shape: (17, 2)</small><table border=\"1\" class=\"dataframe\"><thead><tr><th>column</th><th>unique_count</th></tr><tr><td>str</td><td>i64</td></tr></thead><tbody><tr><td>&quot;Gender&quot;</td><td>2</td></tr><tr><td>&quot;Age&quot;</td><td>53</td></tr><tr><td>&quot;State&quot;</td><td>34</td></tr><tr><td>&quot;City&quot;</td><td>145</td></tr><tr><td>&quot;Bank_Branch&quot;</td><td>145</td></tr><tr><td>&hellip;</td><td>&hellip;</td></tr><tr><td>&quot;Transaction_Device&quot;</td><td>20</td></tr><tr><td>&quot;Transaction_Location&quot;</td><td>148</td></tr><tr><td>&quot;Device_Type&quot;</td><td>4</td></tr><tr><td>&quot;Is_Fraud&quot;</td><td>2</td></tr><tr><td>&quot;Transaction_Description&quot;</td><td>172</td></tr></tbody></table></div>"
      ]
     },
     "execution_count": 19,
     "metadata": {},
     "output_type": "execute_result"
    }
   ],
   "execution_count": 19
  },
  {
   "metadata": {
    "ExecuteTime": {
     "end_time": "2025-02-16T19:19:22.343295Z",
     "start_time": "2025-02-16T19:19:22.332790Z"
    }
   },
   "cell_type": "code",
   "source": [
    "df = df.with_columns(\n",
    "    pl.col('Transaction_Date').dt.year().alias('Year'),\n",
    "    pl.col('Transaction_Date').dt.month().alias('Month'),\n",
    "    pl.col('Transaction_Date').dt.day().alias('Day'),\n",
    "    pl.col('Transaction_Time').dt.hour().alias('Hour'),\n",
    "    pl.col('Transaction_Time').dt.minute().alias('Minute'),\n",
    "    pl.col('Transaction_Time').dt.second().alias('Second'),\n",
    ")"
   ],
   "id": "612d71b9f97fbbbd",
   "outputs": [],
   "execution_count": 30
  },
  {
   "metadata": {
    "ExecuteTime": {
     "end_time": "2025-02-16T19:19:38.066775Z",
     "start_time": "2025-02-16T19:19:38.063721Z"
    }
   },
   "cell_type": "code",
   "source": [
    "df = df.drop(\n",
    "    'Transaction_Date', 'Transaction_Time'\n",
    ")"
   ],
   "id": "a6e97f70030f4803",
   "outputs": [],
   "execution_count": 31
  },
  {
   "metadata": {
    "ExecuteTime": {
     "end_time": "2025-02-16T19:19:39.783301Z",
     "start_time": "2025-02-16T19:19:39.777727Z"
    }
   },
   "cell_type": "code",
   "source": "df",
   "id": "a1061790a244727e",
   "outputs": [
    {
     "data": {
      "text/plain": [
       "shape: (200_000, 21)\n",
       "┌────────┬─────┬────────────────────────┬────────────────────┬───┬─────┬──────┬────────┬────────┐\n",
       "│ Gender ┆ Age ┆ State                  ┆ City               ┆ … ┆ Day ┆ Hour ┆ Minute ┆ Second │\n",
       "│ ---    ┆ --- ┆ ---                    ┆ ---                ┆   ┆ --- ┆ ---  ┆ ---    ┆ ---    │\n",
       "│ str    ┆ i64 ┆ str                    ┆ str                ┆   ┆ i8  ┆ i8   ┆ i8     ┆ i8     │\n",
       "╞════════╪═════╪════════════════════════╪════════════════════╪═══╪═════╪══════╪════════╪════════╡\n",
       "│ Male   ┆ 60  ┆ Kerala                 ┆ Thiruvananthapuram ┆ … ┆ 23  ┆ 16   ┆ 4      ┆ 7      │\n",
       "│ Female ┆ 51  ┆ Maharashtra            ┆ Nashik             ┆ … ┆ 11  ┆ 17   ┆ 14     ┆ 53     │\n",
       "│ Male   ┆ 20  ┆ Bihar                  ┆ Bhagalpur          ┆ … ┆ 25  ┆ 3    ┆ 9      ┆ 52     │\n",
       "│ Female ┆ 57  ┆ Tamil Nadu             ┆ Chennai            ┆ … ┆ 19  ┆ 12   ┆ 27     ┆ 2      │\n",
       "│ Female ┆ 43  ┆ Punjab                 ┆ Amritsar           ┆ … ┆ 30  ┆ 18   ┆ 30     ┆ 46     │\n",
       "│ …      ┆ …   ┆ …                      ┆ …                  ┆ … ┆ …   ┆ …    ┆ …      ┆ …      │\n",
       "│ Female ┆ 55  ┆ Dadra and Nagar Haveli ┆ Diu                ┆ … ┆ 8   ┆ 18   ┆ 42     ┆ 9      │\n",
       "│        ┆     ┆ and Dam…               ┆                    ┆   ┆     ┆      ┆        ┆        │\n",
       "│ Male   ┆ 51  ┆ Manipur                ┆ Kangpokpi          ┆ … ┆ 1   ┆ 20   ┆ 51     ┆ 21     │\n",
       "│ Female ┆ 41  ┆ Chandigarh             ┆ Chandigarh         ┆ … ┆ 28  ┆ 10   ┆ 47     ┆ 40     │\n",
       "│ Female ┆ 28  ┆ Telangana              ┆ Nizamabad          ┆ … ┆ 8   ┆ 6    ┆ 26     ┆ 41     │\n",
       "│ Male   ┆ 34  ┆ Nagaland               ┆ Kohima             ┆ … ┆ 8   ┆ 15   ┆ 26     ┆ 19     │\n",
       "└────────┴─────┴────────────────────────┴────────────────────┴───┴─────┴──────┴────────┴────────┘"
      ],
      "text/html": [
       "<div><style>\n",
       ".dataframe > thead > tr,\n",
       ".dataframe > tbody > tr {\n",
       "  text-align: right;\n",
       "  white-space: pre-wrap;\n",
       "}\n",
       "</style>\n",
       "<small>shape: (200_000, 21)</small><table border=\"1\" class=\"dataframe\"><thead><tr><th>Gender</th><th>Age</th><th>State</th><th>City</th><th>Bank_Branch</th><th>Account_Type</th><th>Transaction_Amount</th><th>Transaction_Type</th><th>Merchant_Category</th><th>Account_Balance</th><th>Transaction_Device</th><th>Transaction_Location</th><th>Device_Type</th><th>Is_Fraud</th><th>Transaction_Description</th><th>Year</th><th>Month</th><th>Day</th><th>Hour</th><th>Minute</th><th>Second</th></tr><tr><td>str</td><td>i64</td><td>str</td><td>str</td><td>str</td><td>str</td><td>f64</td><td>str</td><td>str</td><td>f64</td><td>str</td><td>str</td><td>str</td><td>i64</td><td>str</td><td>i32</td><td>i8</td><td>i8</td><td>i8</td><td>i8</td><td>i8</td></tr></thead><tbody><tr><td>&quot;Male&quot;</td><td>60</td><td>&quot;Kerala&quot;</td><td>&quot;Thiruvananthapuram&quot;</td><td>&quot;Thiruvananthapuram Branch&quot;</td><td>&quot;Savings&quot;</td><td>356.80655</td><td>&quot;Transfer&quot;</td><td>&quot;Restaurant&quot;</td><td>820.674164</td><td>&quot;Voice Assistant&quot;</td><td>&quot;Thiruvananthapuram, Kerala&quot;</td><td>&quot;POS&quot;</td><td>0</td><td>&quot;Bitcoin transaction&quot;</td><td>2025</td><td>1</td><td>23</td><td>16</td><td>4</td><td>7</td></tr><tr><td>&quot;Female&quot;</td><td>51</td><td>&quot;Maharashtra&quot;</td><td>&quot;Nashik&quot;</td><td>&quot;Nashik Branch&quot;</td><td>&quot;Business&quot;</td><td>480.167001</td><td>&quot;Bill Payment&quot;</td><td>&quot;Restaurant&quot;</td><td>821.393931</td><td>&quot;POS Mobile Device&quot;</td><td>&quot;Nashik, Maharashtra&quot;</td><td>&quot;Desktop&quot;</td><td>0</td><td>&quot;Grocery delivery&quot;</td><td>2025</td><td>1</td><td>11</td><td>17</td><td>14</td><td>53</td></tr><tr><td>&quot;Male&quot;</td><td>20</td><td>&quot;Bihar&quot;</td><td>&quot;Bhagalpur&quot;</td><td>&quot;Bhagalpur Branch&quot;</td><td>&quot;Savings&quot;</td><td>694.148454</td><td>&quot;Bill Payment&quot;</td><td>&quot;Groceries&quot;</td><td>735.485595</td><td>&quot;ATM&quot;</td><td>&quot;Bhagalpur, Bihar&quot;</td><td>&quot;Desktop&quot;</td><td>0</td><td>&quot;Mutual fund investment&quot;</td><td>2025</td><td>1</td><td>25</td><td>3</td><td>9</td><td>52</td></tr><tr><td>&quot;Female&quot;</td><td>57</td><td>&quot;Tamil Nadu&quot;</td><td>&quot;Chennai&quot;</td><td>&quot;Chennai Branch&quot;</td><td>&quot;Business&quot;</td><td>154.110111</td><td>&quot;Debit&quot;</td><td>&quot;Entertainment&quot;</td><td>640.372515</td><td>&quot;POS Mobile App&quot;</td><td>&quot;Chennai, Tamil Nadu&quot;</td><td>&quot;Mobile&quot;</td><td>0</td><td>&quot;Food delivery&quot;</td><td>2025</td><td>1</td><td>19</td><td>12</td><td>27</td><td>2</td></tr><tr><td>&quot;Female&quot;</td><td>43</td><td>&quot;Punjab&quot;</td><td>&quot;Amritsar&quot;</td><td>&quot;Amritsar Branch&quot;</td><td>&quot;Savings&quot;</td><td>201.820588</td><td>&quot;Transfer&quot;</td><td>&quot;Entertainment&quot;</td><td>177.311736</td><td>&quot;Virtual Card&quot;</td><td>&quot;Amritsar, Punjab&quot;</td><td>&quot;Mobile&quot;</td><td>0</td><td>&quot;Debt repayment&quot;</td><td>2025</td><td>1</td><td>30</td><td>18</td><td>30</td><td>46</td></tr><tr><td>&hellip;</td><td>&hellip;</td><td>&hellip;</td><td>&hellip;</td><td>&hellip;</td><td>&hellip;</td><td>&hellip;</td><td>&hellip;</td><td>&hellip;</td><td>&hellip;</td><td>&hellip;</td><td>&hellip;</td><td>&hellip;</td><td>&hellip;</td><td>&hellip;</td><td>&hellip;</td><td>&hellip;</td><td>&hellip;</td><td>&hellip;</td><td>&hellip;</td><td>&hellip;</td></tr><tr><td>&quot;Female&quot;</td><td>55</td><td>&quot;Dadra and Nagar Haveli and Dam…</td><td>&quot;Diu&quot;</td><td>&quot;Diu Branch&quot;</td><td>&quot;Business&quot;</td><td>1084.370192</td><td>&quot;Credit&quot;</td><td>&quot;Restaurant&quot;</td><td>412.499741</td><td>&quot;Desktop/Laptop&quot;</td><td>&quot;Diu, Dadra and Nagar Haveli an…</td><td>&quot;ATM&quot;</td><td>0</td><td>&quot;ATM withdrawal&quot;</td><td>2025</td><td>1</td><td>8</td><td>18</td><td>42</td><td>9</td></tr><tr><td>&quot;Male&quot;</td><td>51</td><td>&quot;Manipur&quot;</td><td>&quot;Kangpokpi&quot;</td><td>&quot;Kangpokpi Branch&quot;</td><td>&quot;Business&quot;</td><td>446.825342</td><td>&quot;Withdrawal&quot;</td><td>&quot;Groceries&quot;</td><td>583.796319</td><td>&quot;ATM&quot;</td><td>&quot;Kangpokpi, Manipur&quot;</td><td>&quot;ATM&quot;</td><td>0</td><td>&quot;Subscription box&quot;</td><td>2025</td><td>1</td><td>1</td><td>20</td><td>51</td><td>21</td></tr><tr><td>&quot;Female&quot;</td><td>41</td><td>&quot;Chandigarh&quot;</td><td>&quot;Chandigarh&quot;</td><td>&quot;Chandigarh Branch&quot;</td><td>&quot;Savings&quot;</td><td>677.82617</td><td>&quot;Withdrawal&quot;</td><td>&quot;Health&quot;</td><td>1059.181309</td><td>&quot;ATM&quot;</td><td>&quot;Chandigarh, Chandigarh&quot;</td><td>&quot;Desktop&quot;</td><td>0</td><td>&quot;Charity donation&quot;</td><td>2025</td><td>1</td><td>28</td><td>10</td><td>47</td><td>40</td></tr><tr><td>&quot;Female&quot;</td><td>28</td><td>&quot;Telangana&quot;</td><td>&quot;Nizamabad&quot;</td><td>&quot;Nizamabad Branch&quot;</td><td>&quot;Checking&quot;</td><td>434.658645</td><td>&quot;Debit&quot;</td><td>&quot;Electronics&quot;</td><td>986.25289</td><td>&quot;Voice Assistant&quot;</td><td>&quot;Nizamabad, Telangana&quot;</td><td>&quot;Desktop&quot;</td><td>0</td><td>&quot;Tourist attraction payment&quot;</td><td>2025</td><td>1</td><td>8</td><td>6</td><td>26</td><td>41</td></tr><tr><td>&quot;Male&quot;</td><td>34</td><td>&quot;Nagaland&quot;</td><td>&quot;Kohima&quot;</td><td>&quot;Kohima Branch&quot;</td><td>&quot;Business&quot;</td><td>645.275276</td><td>&quot;Debit&quot;</td><td>&quot;Electronics&quot;</td><td>165.838608</td><td>&quot;Virtual Card&quot;</td><td>&quot;Kohima, Nagaland&quot;</td><td>&quot;Mobile&quot;</td><td>0</td><td>&quot;Installment payment&quot;</td><td>2025</td><td>1</td><td>8</td><td>15</td><td>26</td><td>19</td></tr></tbody></table></div>"
      ]
     },
     "execution_count": 32,
     "metadata": {},
     "output_type": "execute_result"
    }
   ],
   "execution_count": 32
  },
  {
   "metadata": {
    "ExecuteTime": {
     "end_time": "2025-02-16T19:22:53.851092Z",
     "start_time": "2025-02-16T19:22:53.825411Z"
    }
   },
   "cell_type": "code",
   "source": "X = df.select(cs.exclude('Is_Fraud'))",
   "id": "1750201c4d051111",
   "outputs": [],
   "execution_count": 33
  },
  {
   "metadata": {
    "ExecuteTime": {
     "end_time": "2025-02-16T19:24:01.423083Z",
     "start_time": "2025-02-16T19:24:01.420458Z"
    }
   },
   "cell_type": "code",
   "source": "y = df.get_column('Is_Fraud')",
   "id": "acbd596a2f4b9e37",
   "outputs": [],
   "execution_count": 34
  },
  {
   "metadata": {
    "ExecuteTime": {
     "end_time": "2025-02-16T19:27:19.100439Z",
     "start_time": "2025-02-16T19:27:19.097665Z"
    }
   },
   "cell_type": "code",
   "source": [
    "from sklearn.preprocessing import OneHotEncoder\n",
    "from sklearn.compose import ColumnTransformer"
   ],
   "id": "517463252653f306",
   "outputs": [],
   "execution_count": 40
  },
  {
   "metadata": {
    "ExecuteTime": {
     "end_time": "2025-02-16T19:25:11.463360Z",
     "start_time": "2025-02-16T19:25:11.459313Z"
    }
   },
   "cell_type": "code",
   "source": "X.select(cs.string()).columns",
   "id": "5c10ee7cd4e4f1cb",
   "outputs": [
    {
     "data": {
      "text/plain": [
       "['Gender',\n",
       " 'State',\n",
       " 'City',\n",
       " 'Bank_Branch',\n",
       " 'Account_Type',\n",
       " 'Transaction_Type',\n",
       " 'Merchant_Category',\n",
       " 'Transaction_Device',\n",
       " 'Transaction_Location',\n",
       " 'Device_Type',\n",
       " 'Transaction_Description']"
      ]
     },
     "execution_count": 38,
     "metadata": {},
     "output_type": "execute_result"
    }
   ],
   "execution_count": 38
  },
  {
   "metadata": {
    "ExecuteTime": {
     "end_time": "2025-02-16T19:25:18.597806Z",
     "start_time": "2025-02-16T19:25:18.593827Z"
    }
   },
   "cell_type": "code",
   "source": "X.select(cs.numeric()).columns",
   "id": "3cfd388991a6738e",
   "outputs": [
    {
     "data": {
      "text/plain": [
       "['Age',\n",
       " 'Transaction_Amount',\n",
       " 'Account_Balance',\n",
       " 'Year',\n",
       " 'Month',\n",
       " 'Day',\n",
       " 'Hour',\n",
       " 'Minute',\n",
       " 'Second']"
      ]
     },
     "execution_count": 39,
     "metadata": {},
     "output_type": "execute_result"
    }
   ],
   "execution_count": 39
  },
  {
   "metadata": {
    "ExecuteTime": {
     "end_time": "2025-02-16T19:32:05.758936Z",
     "start_time": "2025-02-16T19:32:05.755814Z"
    }
   },
   "cell_type": "code",
   "source": [
    "column_transformer = ColumnTransformer(\n",
    "    transformers=[\n",
    "        ('encoder', OneHotEncoder(\n",
    "            handle_unknown='ignore', sparse_output=False, drop='first'),\n",
    "        X.select(cs.string()).columns),\n",
    "        ('passthrough', 'passthrough', X.select(cs.numeric()).columns)\n",
    "    ])"
   ],
   "id": "ef10e86ce1eb6bb3",
   "outputs": [],
   "execution_count": 46
  },
  {
   "metadata": {
    "ExecuteTime": {
     "end_time": "2025-02-16T19:32:08.238061Z",
     "start_time": "2025-02-16T19:32:06.870195Z"
    }
   },
   "cell_type": "code",
   "source": "X_encoded = column_transformer.fit_transform(X)",
   "id": "8890013e222a9190",
   "outputs": [],
   "execution_count": 47
  },
  {
   "metadata": {
    "ExecuteTime": {
     "end_time": "2025-02-16T19:32:52.571153Z",
     "start_time": "2025-02-16T19:32:51.963112Z"
    }
   },
   "cell_type": "code",
   "source": "pl.DataFrame(X_encoded).estimated_size('gb')",
   "id": "e3edcfa77f9cd778",
   "outputs": [
    {
     "data": {
      "text/plain": [
       "1.0162591934204102"
      ]
     },
     "execution_count": 50,
     "metadata": {},
     "output_type": "execute_result"
    }
   ],
   "execution_count": 50
  },
  {
   "metadata": {
    "ExecuteTime": {
     "end_time": "2025-02-16T19:34:47.148413Z",
     "start_time": "2025-02-16T19:34:47.145159Z"
    }
   },
   "cell_type": "code",
   "source": "X_encoded.shape",
   "id": "32b209e1368abce5",
   "outputs": [
    {
     "data": {
      "text/plain": [
       "(200000, 682)"
      ]
     },
     "execution_count": 52,
     "metadata": {},
     "output_type": "execute_result"
    }
   ],
   "execution_count": 52
  },
  {
   "metadata": {
    "ExecuteTime": {
     "end_time": "2025-02-16T19:35:47.284707Z",
     "start_time": "2025-02-16T19:35:47.258990Z"
    }
   },
   "cell_type": "code",
   "source": "from sklearn.feature_extraction import FeatureHasher",
   "id": "709933bc124ce470",
   "outputs": [],
   "execution_count": 53
  },
  {
   "metadata": {
    "ExecuteTime": {
     "end_time": "2025-02-16T19:45:00.459997Z",
     "start_time": "2025-02-16T19:45:00.457079Z"
    }
   },
   "cell_type": "code",
   "source": "categorical_cols = X.select(cs.string()).columns",
   "id": "424d23bd5e91af0",
   "outputs": [],
   "execution_count": 75
  },
  {
   "metadata": {
    "ExecuteTime": {
     "end_time": "2025-02-16T19:45:00.960336Z",
     "start_time": "2025-02-16T19:45:00.874099Z"
    }
   },
   "cell_type": "code",
   "source": "X_pandas = X.select(categorical_cols).to_pandas()",
   "id": "e60d5a209bc41a93",
   "outputs": [],
   "execution_count": 76
  },
  {
   "metadata": {
    "ExecuteTime": {
     "end_time": "2025-02-16T19:45:01.264791Z",
     "start_time": "2025-02-16T19:45:01.262281Z"
    }
   },
   "cell_type": "code",
   "source": "hasher = FeatureHasher(n_features=128, input_type='string')",
   "id": "5159d77e99989f35",
   "outputs": [],
   "execution_count": 77
  },
  {
   "metadata": {
    "ExecuteTime": {
     "end_time": "2025-02-16T19:46:26.394038Z",
     "start_time": "2025-02-16T19:46:25.866054Z"
    }
   },
   "cell_type": "code",
   "source": "hashed_features = hasher.fit_transform(X_pandas.values.tolist())",
   "id": "6e590ab904c30fc1",
   "outputs": [],
   "execution_count": 80
  },
  {
   "metadata": {
    "ExecuteTime": {
     "end_time": "2025-02-16T19:46:27.088228Z",
     "start_time": "2025-02-16T19:46:27.084809Z"
    }
   },
   "cell_type": "code",
   "source": "hashed_features",
   "id": "4350d62ebc721629",
   "outputs": [
    {
     "data": {
      "text/plain": [
       "<Compressed Sparse Row sparse matrix of dtype 'float64'\n",
       "\twith 2085444 stored elements and shape (200000, 128)>"
      ]
     },
     "execution_count": 81,
     "metadata": {},
     "output_type": "execute_result"
    }
   ],
   "execution_count": 81
  },
  {
   "metadata": {
    "ExecuteTime": {
     "end_time": "2025-02-16T19:47:44.477827Z",
     "start_time": "2025-02-16T19:47:44.474559Z"
    }
   },
   "cell_type": "code",
   "source": "numerical_cols = X.select(cs.numeric()).columns",
   "id": "2b51e3478cb933fc",
   "outputs": [],
   "execution_count": 82
  },
  {
   "metadata": {
    "ExecuteTime": {
     "end_time": "2025-02-16T19:47:58.046070Z",
     "start_time": "2025-02-16T19:47:58.040807Z"
    }
   },
   "cell_type": "code",
   "source": "X_numeric = X.select(numerical_cols).to_pandas()",
   "id": "7ea1d4bd5ec69f60",
   "outputs": [],
   "execution_count": 83
  },
  {
   "metadata": {
    "ExecuteTime": {
     "end_time": "2025-02-16T19:48:13.769740Z",
     "start_time": "2025-02-16T19:48:13.766548Z"
    }
   },
   "cell_type": "code",
   "source": "from sklearn.preprocessing import StandardScaler",
   "id": "e1e900bd97a37c1f",
   "outputs": [],
   "execution_count": 84
  },
  {
   "metadata": {
    "ExecuteTime": {
     "end_time": "2025-02-16T19:48:15.928916Z",
     "start_time": "2025-02-16T19:48:15.926608Z"
    }
   },
   "cell_type": "code",
   "source": "scaler = StandardScaler()",
   "id": "c7d4e02cd44e526e",
   "outputs": [],
   "execution_count": 85
  },
  {
   "metadata": {
    "ExecuteTime": {
     "end_time": "2025-02-16T19:49:54.692Z",
     "start_time": "2025-02-16T19:49:54.665962Z"
    }
   },
   "cell_type": "code",
   "source": "scaled_numerical = scaler.fit_transform(X_numeric)",
   "id": "418e4493a4b1e074",
   "outputs": [],
   "execution_count": 89
  },
  {
   "metadata": {
    "ExecuteTime": {
     "end_time": "2025-02-16T19:49:55.149803Z",
     "start_time": "2025-02-16T19:49:55.025477Z"
    }
   },
   "cell_type": "code",
   "source": "X_final = np.hstack([hashed_features.toarray(), scaled_numerical])",
   "id": "5103b91dc0d8d437",
   "outputs": [],
   "execution_count": 90
  },
  {
   "metadata": {
    "ExecuteTime": {
     "end_time": "2025-02-16T19:50:51.451399Z",
     "start_time": "2025-02-16T19:50:51.448451Z"
    }
   },
   "cell_type": "code",
   "source": "hashed_feature_names = [f'hashed_feature_{i}' for i in range(hashed_features.shape[1])]",
   "id": "608f6556ac5b294f",
   "outputs": [],
   "execution_count": 92
  },
  {
   "metadata": {
    "ExecuteTime": {
     "end_time": "2025-02-16T19:50:56.660291Z",
     "start_time": "2025-02-16T19:50:56.657349Z"
    }
   },
   "cell_type": "code",
   "source": "numerical_feature_names = X.select(cs.numeric()).columns",
   "id": "11f508ffa56610cf",
   "outputs": [],
   "execution_count": 93
  },
  {
   "metadata": {
    "ExecuteTime": {
     "end_time": "2025-02-16T19:51:00.345493Z",
     "start_time": "2025-02-16T19:51:00.343152Z"
    }
   },
   "cell_type": "code",
   "source": "final_column_names = hashed_feature_names + numerical_feature_names",
   "id": "773db38eb25e8e1c",
   "outputs": [],
   "execution_count": 94
  },
  {
   "metadata": {
    "ExecuteTime": {
     "end_time": "2025-02-16T19:51:04.449814Z",
     "start_time": "2025-02-16T19:51:04.447185Z"
    }
   },
   "cell_type": "code",
   "source": "X_final_df = pd.DataFrame(X_final, columns=final_column_names)",
   "id": "dbfdd07c2bad83fe",
   "outputs": [],
   "execution_count": 95
  },
  {
   "metadata": {
    "ExecuteTime": {
     "end_time": "2025-02-16T19:54:26.616892Z",
     "start_time": "2025-02-16T19:54:26.494973Z"
    }
   },
   "cell_type": "code",
   "source": "X_encoded = pl.DataFrame(data=X_final_df, schema=list(X_final_df.columns))",
   "id": "9100be454d66b975",
   "outputs": [],
   "execution_count": 107
  },
  {
   "metadata": {
    "ExecuteTime": {
     "end_time": "2025-02-16T19:55:39.538505Z",
     "start_time": "2025-02-16T19:55:39.532130Z"
    }
   },
   "cell_type": "code",
   "source": "X_encoded.head(5)",
   "id": "8bfa933d6d80cdc7",
   "outputs": [
    {
     "data": {
      "text/plain": [
       "shape: (5, 137)\n",
       "┌───────────┬───────────┬───────────┬───────────┬───┬───────────┬───────────┬───────────┬──────────┐\n",
       "│ hashed_fe ┆ hashed_fe ┆ hashed_fe ┆ hashed_fe ┆ … ┆ Day       ┆ Hour      ┆ Minute    ┆ Second   │\n",
       "│ ature_0   ┆ ature_1   ┆ ature_2   ┆ ature_3   ┆   ┆ ---       ┆ ---       ┆ ---       ┆ ---      │\n",
       "│ ---       ┆ ---       ┆ ---       ┆ ---       ┆   ┆ f64       ┆ f64       ┆ f64       ┆ f64      │\n",
       "│ f64       ┆ f64       ┆ f64       ┆ f64       ┆   ┆           ┆           ┆           ┆          │\n",
       "╞═══════════╪═══════════╪═══════════╪═══════════╪═══╪═══════════╪═══════════╪═══════════╪══════════╡\n",
       "│ 0.0       ┆ 0.0       ┆ 0.0       ┆ 0.0       ┆ … ┆ 0.862982  ┆ 0.651949  ┆ -1.474207 ┆ -1.29765 │\n",
       "│           ┆           ┆           ┆           ┆   ┆           ┆           ┆           ┆ 4        │\n",
       "│ 0.0       ┆ 0.0       ┆ 0.0       ┆ 0.0       ┆ … ┆ -0.520739 ┆ 0.796519  ┆ -0.895676 ┆ 1.355197 │\n",
       "│ 0.0       ┆ 0.0       ┆ 0.0       ┆ 0.0       ┆ … ┆ 1.093603  ┆ -1.227458 ┆ -1.184941 ┆ 1.297526 │\n",
       "│ 0.0       ┆ 0.0       ┆ -1.0      ┆ 0.0       ┆ … ┆ 0.401742  ┆ 0.07367   ┆ -0.143587 ┆ -1.58600 │\n",
       "│           ┆           ┆           ┆           ┆   ┆           ┆           ┆           ┆ 7        │\n",
       "│ 0.0       ┆ 0.0       ┆ 0.0       ┆ 0.0       ┆ … ┆ 1.670153  ┆ 0.941088  ┆ 0.029973  ┆ 0.951502 │\n",
       "└───────────┴───────────┴───────────┴───────────┴───┴───────────┴───────────┴───────────┴──────────┘"
      ],
      "text/html": [
       "<div><style>\n",
       ".dataframe > thead > tr,\n",
       ".dataframe > tbody > tr {\n",
       "  text-align: right;\n",
       "  white-space: pre-wrap;\n",
       "}\n",
       "</style>\n",
       "<small>shape: (5, 137)</small><table border=\"1\" class=\"dataframe\"><thead><tr><th>hashed_feature_0</th><th>hashed_feature_1</th><th>hashed_feature_2</th><th>hashed_feature_3</th><th>hashed_feature_4</th><th>hashed_feature_5</th><th>hashed_feature_6</th><th>hashed_feature_7</th><th>hashed_feature_8</th><th>hashed_feature_9</th><th>hashed_feature_10</th><th>hashed_feature_11</th><th>hashed_feature_12</th><th>hashed_feature_13</th><th>hashed_feature_14</th><th>hashed_feature_15</th><th>hashed_feature_16</th><th>hashed_feature_17</th><th>hashed_feature_18</th><th>hashed_feature_19</th><th>hashed_feature_20</th><th>hashed_feature_21</th><th>hashed_feature_22</th><th>hashed_feature_23</th><th>hashed_feature_24</th><th>hashed_feature_25</th><th>hashed_feature_26</th><th>hashed_feature_27</th><th>hashed_feature_28</th><th>hashed_feature_29</th><th>hashed_feature_30</th><th>hashed_feature_31</th><th>hashed_feature_32</th><th>hashed_feature_33</th><th>hashed_feature_34</th><th>hashed_feature_35</th><th>hashed_feature_36</th><th>&hellip;</th><th>hashed_feature_100</th><th>hashed_feature_101</th><th>hashed_feature_102</th><th>hashed_feature_103</th><th>hashed_feature_104</th><th>hashed_feature_105</th><th>hashed_feature_106</th><th>hashed_feature_107</th><th>hashed_feature_108</th><th>hashed_feature_109</th><th>hashed_feature_110</th><th>hashed_feature_111</th><th>hashed_feature_112</th><th>hashed_feature_113</th><th>hashed_feature_114</th><th>hashed_feature_115</th><th>hashed_feature_116</th><th>hashed_feature_117</th><th>hashed_feature_118</th><th>hashed_feature_119</th><th>hashed_feature_120</th><th>hashed_feature_121</th><th>hashed_feature_122</th><th>hashed_feature_123</th><th>hashed_feature_124</th><th>hashed_feature_125</th><th>hashed_feature_126</th><th>hashed_feature_127</th><th>Age</th><th>Transaction_Amount</th><th>Account_Balance</th><th>Year</th><th>Month</th><th>Day</th><th>Hour</th><th>Minute</th><th>Second</th></tr><tr><td>f64</td><td>f64</td><td>f64</td><td>f64</td><td>f64</td><td>f64</td><td>f64</td><td>f64</td><td>f64</td><td>f64</td><td>f64</td><td>f64</td><td>f64</td><td>f64</td><td>f64</td><td>f64</td><td>f64</td><td>f64</td><td>f64</td><td>f64</td><td>f64</td><td>f64</td><td>f64</td><td>f64</td><td>f64</td><td>f64</td><td>f64</td><td>f64</td><td>f64</td><td>f64</td><td>f64</td><td>f64</td><td>f64</td><td>f64</td><td>f64</td><td>f64</td><td>f64</td><td>&hellip;</td><td>f64</td><td>f64</td><td>f64</td><td>f64</td><td>f64</td><td>f64</td><td>f64</td><td>f64</td><td>f64</td><td>f64</td><td>f64</td><td>f64</td><td>f64</td><td>f64</td><td>f64</td><td>f64</td><td>f64</td><td>f64</td><td>f64</td><td>f64</td><td>f64</td><td>f64</td><td>f64</td><td>f64</td><td>f64</td><td>f64</td><td>f64</td><td>f64</td><td>f64</td><td>f64</td><td>f64</td><td>f64</td><td>f64</td><td>f64</td><td>f64</td><td>f64</td><td>f64</td></tr></thead><tbody><tr><td>0.0</td><td>0.0</td><td>0.0</td><td>0.0</td><td>0.0</td><td>0.0</td><td>0.0</td><td>0.0</td><td>0.0</td><td>0.0</td><td>0.0</td><td>0.0</td><td>0.0</td><td>0.0</td><td>0.0</td><td>0.0</td><td>0.0</td><td>0.0</td><td>0.0</td><td>0.0</td><td>0.0</td><td>0.0</td><td>0.0</td><td>0.0</td><td>1.0</td><td>0.0</td><td>0.0</td><td>0.0</td><td>0.0</td><td>-1.0</td><td>0.0</td><td>0.0</td><td>0.0</td><td>0.0</td><td>0.0</td><td>0.0</td><td>0.0</td><td>&hellip;</td><td>0.0</td><td>0.0</td><td>0.0</td><td>0.0</td><td>0.0</td><td>0.0</td><td>0.0</td><td>0.0</td><td>0.0</td><td>0.0</td><td>0.0</td><td>-1.0</td><td>0.0</td><td>0.0</td><td>0.0</td><td>0.0</td><td>0.0</td><td>0.0</td><td>0.0</td><td>1.0</td><td>0.0</td><td>0.0</td><td>0.0</td><td>0.0</td><td>0.0</td><td>0.0</td><td>0.0</td><td>0.0</td><td>1.045534</td><td>-0.599702</td><td>0.80729</td><td>0.0</td><td>0.0</td><td>0.862982</td><td>0.651949</td><td>-1.474207</td><td>-1.297654</td></tr><tr><td>0.0</td><td>0.0</td><td>0.0</td><td>0.0</td><td>0.0</td><td>0.0</td><td>0.0</td><td>0.0</td><td>0.0</td><td>0.0</td><td>0.0</td><td>0.0</td><td>1.0</td><td>0.0</td><td>0.0</td><td>0.0</td><td>0.0</td><td>0.0</td><td>0.0</td><td>1.0</td><td>0.0</td><td>0.0</td><td>0.0</td><td>0.0</td><td>1.0</td><td>0.0</td><td>0.0</td><td>0.0</td><td>0.0</td><td>0.0</td><td>0.0</td><td>0.0</td><td>0.0</td><td>0.0</td><td>0.0</td><td>0.0</td><td>0.0</td><td>&hellip;</td><td>0.0</td><td>0.0</td><td>0.0</td><td>0.0</td><td>0.0</td><td>0.0</td><td>0.0</td><td>0.0</td><td>0.0</td><td>0.0</td><td>0.0</td><td>0.0</td><td>0.0</td><td>0.0</td><td>0.0</td><td>0.0</td><td>0.0</td><td>1.0</td><td>0.0</td><td>0.0</td><td>0.0</td><td>0.0</td><td>0.0</td><td>0.0</td><td>0.0</td><td>0.0</td><td>1.0</td><td>0.0</td><td>0.456865</td><td>-0.207182</td><td>0.809676</td><td>0.0</td><td>0.0</td><td>-0.520739</td><td>0.796519</td><td>-0.895676</td><td>1.355197</td></tr><tr><td>0.0</td><td>0.0</td><td>0.0</td><td>0.0</td><td>0.0</td><td>0.0</td><td>0.0</td><td>0.0</td><td>0.0</td><td>1.0</td><td>0.0</td><td>0.0</td><td>1.0</td><td>0.0</td><td>1.0</td><td>0.0</td><td>0.0</td><td>0.0</td><td>0.0</td><td>0.0</td><td>0.0</td><td>0.0</td><td>0.0</td><td>0.0</td><td>0.0</td><td>0.0</td><td>0.0</td><td>0.0</td><td>0.0</td><td>0.0</td><td>0.0</td><td>0.0</td><td>0.0</td><td>0.0</td><td>0.0</td><td>0.0</td><td>0.0</td><td>&hellip;</td><td>0.0</td><td>0.0</td><td>0.0</td><td>0.0</td><td>1.0</td><td>0.0</td><td>0.0</td><td>0.0</td><td>0.0</td><td>0.0</td><td>0.0</td><td>-1.0</td><td>0.0</td><td>-1.0</td><td>0.0</td><td>0.0</td><td>0.0</td><td>0.0</td><td>1.0</td><td>0.0</td><td>0.0</td><td>0.0</td><td>0.0</td><td>0.0</td><td>0.0</td><td>-1.0</td><td>0.0</td><td>0.0</td><td>-1.570771</td><td>0.473684</td><td>0.524828</td><td>0.0</td><td>0.0</td><td>1.093603</td><td>-1.227458</td><td>-1.184941</td><td>1.297526</td></tr><tr><td>0.0</td><td>0.0</td><td>-1.0</td><td>0.0</td><td>0.0</td><td>0.0</td><td>0.0</td><td>0.0</td><td>1.0</td><td>-1.0</td><td>0.0</td><td>0.0</td><td>0.0</td><td>0.0</td><td>0.0</td><td>0.0</td><td>0.0</td><td>0.0</td><td>0.0</td><td>0.0</td><td>0.0</td><td>0.0</td><td>0.0</td><td>0.0</td><td>0.0</td><td>0.0</td><td>0.0</td><td>0.0</td><td>0.0</td><td>0.0</td><td>0.0</td><td>0.0</td><td>-1.0</td><td>0.0</td><td>0.0</td><td>0.0</td><td>0.0</td><td>&hellip;</td><td>0.0</td><td>0.0</td><td>0.0</td><td>0.0</td><td>0.0</td><td>0.0</td><td>0.0</td><td>0.0</td><td>0.0</td><td>-1.0</td><td>0.0</td><td>0.0</td><td>0.0</td><td>0.0</td><td>0.0</td><td>0.0</td><td>0.0</td><td>0.0</td><td>1.0</td><td>0.0</td><td>0.0</td><td>0.0</td><td>0.0</td><td>0.0</td><td>0.0</td><td>0.0</td><td>0.0</td><td>0.0</td><td>0.849311</td><td>-1.24466</td><td>0.20946</td><td>0.0</td><td>0.0</td><td>0.401742</td><td>0.07367</td><td>-0.143587</td><td>-1.586007</td></tr><tr><td>0.0</td><td>0.0</td><td>0.0</td><td>0.0</td><td>0.0</td><td>0.0</td><td>0.0</td><td>0.0</td><td>0.0</td><td>0.0</td><td>0.0</td><td>0.0</td><td>0.0</td><td>0.0</td><td>0.0</td><td>0.0</td><td>0.0</td><td>0.0</td><td>0.0</td><td>0.0</td><td>0.0</td><td>1.0</td><td>-1.0</td><td>0.0</td><td>0.0</td><td>0.0</td><td>0.0</td><td>0.0</td><td>0.0</td><td>0.0</td><td>0.0</td><td>0.0</td><td>0.0</td><td>0.0</td><td>0.0</td><td>0.0</td><td>0.0</td><td>&hellip;</td><td>0.0</td><td>0.0</td><td>0.0</td><td>0.0</td><td>0.0</td><td>0.0</td><td>0.0</td><td>0.0</td><td>0.0</td><td>0.0</td><td>-1.0</td><td>-1.0</td><td>0.0</td><td>0.0</td><td>0.0</td><td>0.0</td><td>0.0</td><td>0.0</td><td>0.0</td><td>1.0</td><td>0.0</td><td>0.0</td><td>0.0</td><td>0.0</td><td>0.0</td><td>0.0</td><td>0.0</td><td>0.0</td><td>-0.066396</td><td>-1.092851</td><td>-1.325919</td><td>0.0</td><td>0.0</td><td>1.670153</td><td>0.941088</td><td>0.029973</td><td>0.951502</td></tr></tbody></table></div>"
      ]
     },
     "execution_count": 112,
     "metadata": {},
     "output_type": "execute_result"
    }
   ],
   "execution_count": 112
  },
  {
   "metadata": {
    "ExecuteTime": {
     "end_time": "2025-02-16T19:55:43.068539Z",
     "start_time": "2025-02-16T19:55:43.064903Z"
    }
   },
   "cell_type": "code",
   "source": "y.head(5)",
   "id": "1432aa8f3c78c732",
   "outputs": [
    {
     "data": {
      "text/plain": [
       "shape: (5,)\n",
       "Series: 'Is_Fraud' [i64]\n",
       "[\n",
       "\t0\n",
       "\t0\n",
       "\t0\n",
       "\t0\n",
       "\t0\n",
       "]"
      ],
      "text/html": [
       "<div><style>\n",
       ".dataframe > thead > tr,\n",
       ".dataframe > tbody > tr {\n",
       "  text-align: right;\n",
       "  white-space: pre-wrap;\n",
       "}\n",
       "</style>\n",
       "<small>shape: (5,)</small><table border=\"1\" class=\"dataframe\"><thead><tr><th>Is_Fraud</th></tr><tr><td>i64</td></tr></thead><tbody><tr><td>0</td></tr><tr><td>0</td></tr><tr><td>0</td></tr><tr><td>0</td></tr><tr><td>0</td></tr></tbody></table></div>"
      ]
     },
     "execution_count": 113,
     "metadata": {},
     "output_type": "execute_result"
    }
   ],
   "execution_count": 113
  },
  {
   "metadata": {},
   "cell_type": "code",
   "outputs": [],
   "execution_count": null,
   "source": "",
   "id": "f611134b560d3d88"
  }
 ],
 "metadata": {
  "kernelspec": {
   "display_name": "Python 3",
   "language": "python",
   "name": "python3"
  },
  "language_info": {
   "codemirror_mode": {
    "name": "ipython",
    "version": 2
   },
   "file_extension": ".py",
   "mimetype": "text/x-python",
   "name": "python",
   "nbconvert_exporter": "python",
   "pygments_lexer": "ipython2",
   "version": "2.7.6"
  }
 },
 "nbformat": 4,
 "nbformat_minor": 5
}
